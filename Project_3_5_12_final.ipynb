{
  "cells": [
    {
      "cell_type": "markdown",
      "id": "b92b106f",
      "metadata": {
        "id": "b92b106f"
      },
      "source": [
        "# QMSS5074GR - Final Project (3rd)\n"
      ]
    },
    {
      "cell_type": "markdown",
      "id": "eba853a0",
      "metadata": {
        "id": "eba853a0"
      },
      "source": [
        "### Your Grp ID: 8\n",
        "### Your UNIs: yh3846, jl6938, rh3243\n",
        "### Your Full Names: Yizhao Hong, Jason Lee, Rick Hua\n",
        "### Public GitHub Repo: https://github.com/hongyizhao00/nlp-sentiment-gpt-glove-bert.git"
      ]
    },
    {
      "cell_type": "markdown",
      "id": "e6f05e20",
      "metadata": {
        "id": "e6f05e20"
      },
      "source": [
        "## Description\n",
        "\n",
        "## Part 1 – Data Ingestion & Preprocessing\n",
        "\n",
        "1. **Data Loading**  \n",
        "   - Acquire the Stanford Sentiment Treebank dataset.  \n",
        "   - Split into training, validation and test sets with stratified sampling to preserve class balance.  \n",
        "   - Clearly document your splitting strategy and resulting dataset sizes.\n",
        "\n",
        "2. **Text Cleaning & Tokenization**  \n",
        "   - Implement a reusable preprocessing pipeline that handles at least:  \n",
        "     - HTML removal, lowercasing, punctuation stripping  \n",
        "     - Vocabulary pruning (e.g., rare words threshold)  \n",
        "     - Tokenization (character- or word-level)  \n",
        "   - Expose this as a function/class so it can be saved and re-loaded for inference.\n",
        "\n",
        "3. **Feature Extraction**  \n",
        "   - **Traditional**: Build a TF-IDF vectorizer (or n-gram count) pipeline.  \n",
        "   - **Neural**: Prepare sequences for embedding—pad/truncate to a fixed length.  \n",
        "   - Save each preprocessor (vectorizer/tokenizer) to disk.\n",
        "\n",
        "---\n",
        "\n",
        "## Part 2 – Exploratory Data Analysis (EDA)\n",
        "\n",
        "1. **Class Distribution**  \n",
        "   - Visualize the number of positive vs. negative reviews.  \n",
        "   - Compute descriptive statistics on review lengths (mean, median, IQR).  \n",
        "\n",
        "2. **Text Characteristics**  \n",
        "   - Plot the 20 most frequent tokens per sentiment class.  \n",
        "   - Generate word clouds (or bar charts) highlighting key terms for each class.  \n",
        "\n",
        "3. **Correlation Analysis**  \n",
        "   - Analyze whether review length correlates with sentiment.  \n",
        "   - Present findings numerically and with at least one visualization.\n",
        "\n",
        "---\n",
        "\n",
        "## Part 3 – Baseline Traditional Models\n",
        "\n",
        "1. **Logistic Regression & SVM**  \n",
        "   - Train at least two linear models on your TF-IDF features (e.g., logistic regression, linear SVM).  \n",
        "   - Use cross-validation (≥ 5 folds) on the training set to tune at least one hyperparameter.  \n",
        "\n",
        "2. **Random Forest & Gradient Boosting**  \n",
        "   - Train two tree-based models (e.g., Random Forest, XGBoost) on the same features.  \n",
        "   - Report feature-importance for each and discuss any notable tokens.\n",
        "\n",
        "3. **Evaluation Metrics**  \n",
        "   - Compute accuracy, precision, recall, F1-score, and ROC-AUC on the **held-out test set**.  \n",
        "   - Present all results in a single comparison table.\n",
        "\n",
        "---\n",
        "\n",
        "## Part 4 – Neural Network Models\n",
        "\n",
        "1. **Simple Feed-Forward**  \n",
        "   - Build an embedding layer + a dense MLP classifier.  \n",
        "   - Ensure you freeze vs. unfreeze embeddings in separate runs.\n",
        "\n",
        "2. **Convolutional Text Classifier**  \n",
        "   - Implement a 1D-CNN architecture (Conv + Pooling) for sequence data.  \n",
        "   - Justify your choice of kernel sizes and number of filters.\n",
        "\n",
        "3. **Recurrent Model (Optional)**  \n",
        "   - (Stretch) Add an RNN or Bi-LSTM layer and compare performance/time vs. CNN.\n",
        "\n",
        "---\n",
        "\n",
        "## Part 5 – Transfer Learning & Advanced Architectures\n",
        "\n",
        "1. **Pre-trained Embeddings**  \n",
        "   - Retrain one network using pre-trained GloVe (or FastText) embeddings.  \n",
        "   - Compare results against your from-scratch embedding runs.\n",
        "\n",
        "2. **Transformer Fine-Tuning**  \n",
        "   - Fine-tune a BERT-family model on the training data.  \n",
        "   - Clearly outline your training hyperparameters (learning rate, batch size, epochs).\n",
        "\n",
        "\n",
        "---\n",
        "\n",
        "## Part 6 – Hyperparameter Optimization\n",
        "\n",
        "1. **Search Strategy**  \n",
        "   - Use a library (e.g., Keras Tuner, Optuna) to optimize at least two hyperparameters of one deep model.  \n",
        "   - Describe your search space and stopping criteria.\n",
        "\n",
        "2. **Results Analysis**  \n",
        "   - Report the best hyperparameter configuration found.  \n",
        "   - Plot validation-loss (or metric) vs. trials to illustrate tuning behavior.\n",
        "\n",
        "---\n",
        "\n",
        "## Part 7 – Final Comparison & Error Analysis\n",
        "\n",
        "1. **Consolidated Results**  \n",
        "   - Tabulate test-set performance for **all** models (traditional, neural, transfer-learned).  \n",
        "   - Highlight top‐performing model overall and top in each category.\n",
        "\n",
        "2. **Statistical Significance**  \n",
        "   - Perform a significance test (e.g., McNemar’s test) between your best two models.  \n",
        "\n",
        "3. **Error Analysis**  \n",
        "   - Identify at least 20 examples your best model misclassified.  \n",
        "   - For a sample of 5, provide the raw text, predicted vs. true label, and a short discussion of each error—what linguistic artifact might have confused the model?\n",
        "\n",
        "---\n",
        "\n",
        "## Part 8 – Optional Challenge Extensions\n",
        "\n",
        "- Implement data augmentation for text (back-translation, synonym swapping) and measure its impact.  \n",
        "- Integrate a sentiment lexicon feature (e.g., VADER scores) into your models and assess whether it improves predictions.  \n",
        "- Deploy your best model as a simple REST API using Flask or FastAPI and demo it on a handful of user‐submitted reviews.\n",
        "\n",
        "---"
      ]
    },
    {
      "cell_type": "markdown",
      "id": "e4b9f518",
      "metadata": {
        "id": "e4b9f518"
      },
      "source": [
        "## Start coding .....\n",
        "\n",
        "ps. the code below is just an filler code with some tips on the top it.\n",
        "\n",
        "\n",
        "But the main project requirements are listed above in the description."
      ]
    },
    {
      "cell_type": "markdown",
      "id": "e6d73b17",
      "metadata": {
        "id": "e6d73b17"
      },
      "source": [
        "## Part 1 – Data Ingestion & Preprocessing"
      ]
    },
    {
      "cell_type": "markdown",
      "id": "20c04c83",
      "metadata": {
        "id": "20c04c83"
      },
      "source": [
        "\n",
        "1. **Data Loading**  \n",
        "    - Acquire the Stanford Sentiment Treebank dataset.\n",
        "    - Split into training, validation, and test sets with stratified sampling to preserve class balance.\n",
        "    - Clearly document your splitting strategy and resulting dataset sizes.\n",
        "    "
      ]
    },
    {
      "cell_type": "code",
      "execution_count": null,
      "id": "e1e9aa5b",
      "metadata": {
        "colab": {
          "base_uri": "https://localhost:8080/",
          "height": 225
        },
        "id": "e1e9aa5b",
        "outputId": "72f9a513-b728-484e-b603-90d7788ebc1d"
      },
      "outputs": [
        {
          "output_type": "stream",
          "name": "stdout",
          "text": [
            "fatal: destination path 'SST-2-sentiment-analysis' already exists and is not an empty directory.\n"
          ]
        },
        {
          "output_type": "execute_result",
          "data": {
            "text/plain": [
              "   label                                           sentence\n",
              "0      0  apparently reassembled from the cutting-room f...\n",
              "1      0  they presume their audience wo n't sit still f...\n",
              "2      1  this is a visually stunning rumination on love...\n",
              "3      1  jonathan parker 's bartleby should have been t...\n",
              "4      1  campanella gets the tone just right -- funny i..."
            ],
            "text/html": [
              "\n",
              "  <div id=\"df-7d04506b-677e-4f37-be38-c60bb31f65a5\" class=\"colab-df-container\">\n",
              "    <div>\n",
              "<style scoped>\n",
              "    .dataframe tbody tr th:only-of-type {\n",
              "        vertical-align: middle;\n",
              "    }\n",
              "\n",
              "    .dataframe tbody tr th {\n",
              "        vertical-align: top;\n",
              "    }\n",
              "\n",
              "    .dataframe thead th {\n",
              "        text-align: right;\n",
              "    }\n",
              "</style>\n",
              "<table border=\"1\" class=\"dataframe\">\n",
              "  <thead>\n",
              "    <tr style=\"text-align: right;\">\n",
              "      <th></th>\n",
              "      <th>label</th>\n",
              "      <th>sentence</th>\n",
              "    </tr>\n",
              "  </thead>\n",
              "  <tbody>\n",
              "    <tr>\n",
              "      <th>0</th>\n",
              "      <td>0</td>\n",
              "      <td>apparently reassembled from the cutting-room f...</td>\n",
              "    </tr>\n",
              "    <tr>\n",
              "      <th>1</th>\n",
              "      <td>0</td>\n",
              "      <td>they presume their audience wo n't sit still f...</td>\n",
              "    </tr>\n",
              "    <tr>\n",
              "      <th>2</th>\n",
              "      <td>1</td>\n",
              "      <td>this is a visually stunning rumination on love...</td>\n",
              "    </tr>\n",
              "    <tr>\n",
              "      <th>3</th>\n",
              "      <td>1</td>\n",
              "      <td>jonathan parker 's bartleby should have been t...</td>\n",
              "    </tr>\n",
              "    <tr>\n",
              "      <th>4</th>\n",
              "      <td>1</td>\n",
              "      <td>campanella gets the tone just right -- funny i...</td>\n",
              "    </tr>\n",
              "  </tbody>\n",
              "</table>\n",
              "</div>\n",
              "    <div class=\"colab-df-buttons\">\n",
              "\n",
              "  <div class=\"colab-df-container\">\n",
              "    <button class=\"colab-df-convert\" onclick=\"convertToInteractive('df-7d04506b-677e-4f37-be38-c60bb31f65a5')\"\n",
              "            title=\"Convert this dataframe to an interactive table.\"\n",
              "            style=\"display:none;\">\n",
              "\n",
              "  <svg xmlns=\"http://www.w3.org/2000/svg\" height=\"24px\" viewBox=\"0 -960 960 960\">\n",
              "    <path d=\"M120-120v-720h720v720H120Zm60-500h600v-160H180v160Zm220 220h160v-160H400v160Zm0 220h160v-160H400v160ZM180-400h160v-160H180v160Zm440 0h160v-160H620v160ZM180-180h160v-160H180v160Zm440 0h160v-160H620v160Z\"/>\n",
              "  </svg>\n",
              "    </button>\n",
              "\n",
              "  <style>\n",
              "    .colab-df-container {\n",
              "      display:flex;\n",
              "      gap: 12px;\n",
              "    }\n",
              "\n",
              "    .colab-df-convert {\n",
              "      background-color: #E8F0FE;\n",
              "      border: none;\n",
              "      border-radius: 50%;\n",
              "      cursor: pointer;\n",
              "      display: none;\n",
              "      fill: #1967D2;\n",
              "      height: 32px;\n",
              "      padding: 0 0 0 0;\n",
              "      width: 32px;\n",
              "    }\n",
              "\n",
              "    .colab-df-convert:hover {\n",
              "      background-color: #E2EBFA;\n",
              "      box-shadow: 0px 1px 2px rgba(60, 64, 67, 0.3), 0px 1px 3px 1px rgba(60, 64, 67, 0.15);\n",
              "      fill: #174EA6;\n",
              "    }\n",
              "\n",
              "    .colab-df-buttons div {\n",
              "      margin-bottom: 4px;\n",
              "    }\n",
              "\n",
              "    [theme=dark] .colab-df-convert {\n",
              "      background-color: #3B4455;\n",
              "      fill: #D2E3FC;\n",
              "    }\n",
              "\n",
              "    [theme=dark] .colab-df-convert:hover {\n",
              "      background-color: #434B5C;\n",
              "      box-shadow: 0px 1px 3px 1px rgba(0, 0, 0, 0.15);\n",
              "      filter: drop-shadow(0px 1px 2px rgba(0, 0, 0, 0.3));\n",
              "      fill: #FFFFFF;\n",
              "    }\n",
              "  </style>\n",
              "\n",
              "    <script>\n",
              "      const buttonEl =\n",
              "        document.querySelector('#df-7d04506b-677e-4f37-be38-c60bb31f65a5 button.colab-df-convert');\n",
              "      buttonEl.style.display =\n",
              "        google.colab.kernel.accessAllowed ? 'block' : 'none';\n",
              "\n",
              "      async function convertToInteractive(key) {\n",
              "        const element = document.querySelector('#df-7d04506b-677e-4f37-be38-c60bb31f65a5');\n",
              "        const dataTable =\n",
              "          await google.colab.kernel.invokeFunction('convertToInteractive',\n",
              "                                                    [key], {});\n",
              "        if (!dataTable) return;\n",
              "\n",
              "        const docLinkHtml = 'Like what you see? Visit the ' +\n",
              "          '<a target=\"_blank\" href=https://colab.research.google.com/notebooks/data_table.ipynb>data table notebook</a>'\n",
              "          + ' to learn more about interactive tables.';\n",
              "        element.innerHTML = '';\n",
              "        dataTable['output_type'] = 'display_data';\n",
              "        await google.colab.output.renderOutput(dataTable, element);\n",
              "        const docLink = document.createElement('div');\n",
              "        docLink.innerHTML = docLinkHtml;\n",
              "        element.appendChild(docLink);\n",
              "      }\n",
              "    </script>\n",
              "  </div>\n",
              "\n",
              "\n",
              "    <div id=\"df-1550fe51-0a32-4ad7-8fe0-ae01408dcde6\">\n",
              "      <button class=\"colab-df-quickchart\" onclick=\"quickchart('df-1550fe51-0a32-4ad7-8fe0-ae01408dcde6')\"\n",
              "                title=\"Suggest charts\"\n",
              "                style=\"display:none;\">\n",
              "\n",
              "<svg xmlns=\"http://www.w3.org/2000/svg\" height=\"24px\"viewBox=\"0 0 24 24\"\n",
              "     width=\"24px\">\n",
              "    <g>\n",
              "        <path d=\"M19 3H5c-1.1 0-2 .9-2 2v14c0 1.1.9 2 2 2h14c1.1 0 2-.9 2-2V5c0-1.1-.9-2-2-2zM9 17H7v-7h2v7zm4 0h-2V7h2v10zm4 0h-2v-4h2v4z\"/>\n",
              "    </g>\n",
              "</svg>\n",
              "      </button>\n",
              "\n",
              "<style>\n",
              "  .colab-df-quickchart {\n",
              "      --bg-color: #E8F0FE;\n",
              "      --fill-color: #1967D2;\n",
              "      --hover-bg-color: #E2EBFA;\n",
              "      --hover-fill-color: #174EA6;\n",
              "      --disabled-fill-color: #AAA;\n",
              "      --disabled-bg-color: #DDD;\n",
              "  }\n",
              "\n",
              "  [theme=dark] .colab-df-quickchart {\n",
              "      --bg-color: #3B4455;\n",
              "      --fill-color: #D2E3FC;\n",
              "      --hover-bg-color: #434B5C;\n",
              "      --hover-fill-color: #FFFFFF;\n",
              "      --disabled-bg-color: #3B4455;\n",
              "      --disabled-fill-color: #666;\n",
              "  }\n",
              "\n",
              "  .colab-df-quickchart {\n",
              "    background-color: var(--bg-color);\n",
              "    border: none;\n",
              "    border-radius: 50%;\n",
              "    cursor: pointer;\n",
              "    display: none;\n",
              "    fill: var(--fill-color);\n",
              "    height: 32px;\n",
              "    padding: 0;\n",
              "    width: 32px;\n",
              "  }\n",
              "\n",
              "  .colab-df-quickchart:hover {\n",
              "    background-color: var(--hover-bg-color);\n",
              "    box-shadow: 0 1px 2px rgba(60, 64, 67, 0.3), 0 1px 3px 1px rgba(60, 64, 67, 0.15);\n",
              "    fill: var(--button-hover-fill-color);\n",
              "  }\n",
              "\n",
              "  .colab-df-quickchart-complete:disabled,\n",
              "  .colab-df-quickchart-complete:disabled:hover {\n",
              "    background-color: var(--disabled-bg-color);\n",
              "    fill: var(--disabled-fill-color);\n",
              "    box-shadow: none;\n",
              "  }\n",
              "\n",
              "  .colab-df-spinner {\n",
              "    border: 2px solid var(--fill-color);\n",
              "    border-color: transparent;\n",
              "    border-bottom-color: var(--fill-color);\n",
              "    animation:\n",
              "      spin 1s steps(1) infinite;\n",
              "  }\n",
              "\n",
              "  @keyframes spin {\n",
              "    0% {\n",
              "      border-color: transparent;\n",
              "      border-bottom-color: var(--fill-color);\n",
              "      border-left-color: var(--fill-color);\n",
              "    }\n",
              "    20% {\n",
              "      border-color: transparent;\n",
              "      border-left-color: var(--fill-color);\n",
              "      border-top-color: var(--fill-color);\n",
              "    }\n",
              "    30% {\n",
              "      border-color: transparent;\n",
              "      border-left-color: var(--fill-color);\n",
              "      border-top-color: var(--fill-color);\n",
              "      border-right-color: var(--fill-color);\n",
              "    }\n",
              "    40% {\n",
              "      border-color: transparent;\n",
              "      border-right-color: var(--fill-color);\n",
              "      border-top-color: var(--fill-color);\n",
              "    }\n",
              "    60% {\n",
              "      border-color: transparent;\n",
              "      border-right-color: var(--fill-color);\n",
              "    }\n",
              "    80% {\n",
              "      border-color: transparent;\n",
              "      border-right-color: var(--fill-color);\n",
              "      border-bottom-color: var(--fill-color);\n",
              "    }\n",
              "    90% {\n",
              "      border-color: transparent;\n",
              "      border-bottom-color: var(--fill-color);\n",
              "    }\n",
              "  }\n",
              "</style>\n",
              "\n",
              "      <script>\n",
              "        async function quickchart(key) {\n",
              "          const quickchartButtonEl =\n",
              "            document.querySelector('#' + key + ' button');\n",
              "          quickchartButtonEl.disabled = true;  // To prevent multiple clicks.\n",
              "          quickchartButtonEl.classList.add('colab-df-spinner');\n",
              "          try {\n",
              "            const charts = await google.colab.kernel.invokeFunction(\n",
              "                'suggestCharts', [key], {});\n",
              "          } catch (error) {\n",
              "            console.error('Error during call to suggestCharts:', error);\n",
              "          }\n",
              "          quickchartButtonEl.classList.remove('colab-df-spinner');\n",
              "          quickchartButtonEl.classList.add('colab-df-quickchart-complete');\n",
              "        }\n",
              "        (() => {\n",
              "          let quickchartButtonEl =\n",
              "            document.querySelector('#df-1550fe51-0a32-4ad7-8fe0-ae01408dcde6 button');\n",
              "          quickchartButtonEl.style.display =\n",
              "            google.colab.kernel.accessAllowed ? 'block' : 'none';\n",
              "        })();\n",
              "      </script>\n",
              "    </div>\n",
              "\n",
              "    </div>\n",
              "  </div>\n"
            ],
            "application/vnd.google.colaboratory.intrinsic+json": {
              "type": "dataframe",
              "variable_name": "train_df",
              "summary": "{\n  \"name\": \"train_df\",\n  \"rows\": 6919,\n  \"fields\": [\n    {\n      \"column\": \"label\",\n      \"properties\": {\n        \"dtype\": \"number\",\n        \"std\": 0,\n        \"min\": 0,\n        \"max\": 1,\n        \"num_unique_values\": 2,\n        \"samples\": [\n          1,\n          0\n        ],\n        \"semantic_type\": \"\",\n        \"description\": \"\"\n      }\n    },\n    {\n      \"column\": \"sentence\",\n      \"properties\": {\n        \"dtype\": \"string\",\n        \"num_unique_values\": 6910,\n        \"samples\": [\n          \"a loud , brash and mainly unfunny high school comedy .\",\n          \"instead of letting the laughs come as they may , lawrence unleashes his trademark misogyny -- er , comedy -- like a human volcano or an overflowing septic tank , take your pick .\"\n        ],\n        \"semantic_type\": \"\",\n        \"description\": \"\"\n      }\n    }\n  ]\n}"
            }
          },
          "metadata": {},
          "execution_count": 1
        }
      ],
      "source": [
        "# Load data (example)\n",
        "import pandas as pd\n",
        "\n",
        "\n",
        "# IMPORT DATA\n",
        "!git clone https://github.com/YJiangcm/SST-2-sentiment-analysis.git\n",
        "\n",
        "train_df = pd.read_csv('./SST-2-sentiment-analysis/data/train.tsv', sep='\\t', names=['label', 'sentence'], header=0)\n",
        "val_df = pd.read_csv('./SST-2-sentiment-analysis/data/dev.tsv', sep='\\t', names=['label', 'sentence'], header=0)\n",
        "test_df = pd.read_csv('./SST-2-sentiment-analysis/data/test.tsv', sep='\\t', names=['label', 'sentence'], header=0)\n",
        "\n",
        "train_df.head()\n",
        "\n",
        "\n",
        "\n"
      ]
    },
    {
      "cell_type": "markdown",
      "id": "64435f5c",
      "metadata": {
        "id": "64435f5c"
      },
      "source": [
        "\n",
        "2. **Text Cleaning & Tokenization**  \n",
        "    - Implement a reusable preprocessing pipeline that handles at least:  \n",
        "        - HTML removal, lowercasing, punctuation stripping  \n",
        "        - Vocabulary pruning (e.g., rare words threshold)  \n",
        "        - Tokenization (character- or word-level)  \n",
        "    - Expose this as a function/class so it can be saved and re-loaded for inference.\n",
        "    "
      ]
    },
    {
      "cell_type": "code",
      "execution_count": null,
      "id": "f54eb4b8",
      "metadata": {
        "colab": {
          "base_uri": "https://localhost:8080/"
        },
        "id": "f54eb4b8",
        "outputId": "95a2eb6c-5720-48e6-8388-f646d674d8a3"
      },
      "outputs": [
        {
          "output_type": "stream",
          "name": "stderr",
          "text": [
            "[nltk_data] Downloading package punkt to /root/nltk_data...\n",
            "[nltk_data]   Package punkt is already up-to-date!\n"
          ]
        }
      ],
      "source": [
        "import re\n",
        "import string\n",
        "from collections import Counter\n",
        "from typing import List\n",
        "import nltk\n",
        "import pickle\n",
        "\n",
        "nltk.download('punkt')\n",
        "from nltk.tokenize import word_tokenize\n",
        "\n",
        "class TextPreprocessor:\n",
        "    def __init__(self, min_word_freq=2, level='word'):\n",
        "        self.min_word_freq = min_word_freq\n",
        "        self.level = level\n",
        "        self.vocab = set()\n",
        "        self.word_counts = Counter()\n",
        "\n",
        "    def clean_text(self, text: str) -> str:\n",
        "        # Remove HTML tags\n",
        "        text = re.sub(r'<.*?>', '', text)\n",
        "        # Lowercase\n",
        "        text = text.lower()\n",
        "        # Remove punctuation\n",
        "        text = text.translate(str.maketrans('', '', string.punctuation))\n",
        "        return text\n",
        "\n",
        "    def tokenize(self, text: str) -> List[str]:\n",
        "        if self.level == 'word':\n",
        "            return word_tokenize(text)\n",
        "        elif self.level == 'char':\n",
        "            return list(text)\n",
        "        else:\n",
        "            raise ValueError(\"Unsupported tokenization level\")\n",
        "\n",
        "    def fit(self, texts: List[str]):\n",
        "        for text in texts:\n",
        "            cleaned = self.clean_text(text)\n",
        "            tokens = self.tokenize(cleaned)\n",
        "            self.word_counts.update(tokens)\n",
        "        # Build vocabulary of words that meet the frequency threshold\n",
        "        self.vocab = {word for word, freq in self.word_counts.items() if freq >= self.min_word_freq}\n",
        "\n",
        "    def transform(self, text: str) -> List[str]:\n",
        "        cleaned = self.clean_text(text)\n",
        "        tokens = self.tokenize(cleaned)\n",
        "        return [token for token in tokens if token in self.vocab]\n",
        "\n",
        "    def fit_transform(self, texts: List[str]) -> List[List[str]]:\n",
        "        self.fit(texts)\n",
        "        return [self.transform(text) for text in texts]\n",
        "\n",
        "    def save(self, path='text_preprocessor.pkl'):\n",
        "        with open(path, 'wb') as f:\n",
        "            pickle.dump(self, f)\n",
        "\n",
        "    @staticmethod\n",
        "    def load(path='text_preprocessor.pkl'):\n",
        "        with open(path, 'rb') as f:\n",
        "            return pickle.load(f)\n",
        "\n"
      ]
    },
    {
      "cell_type": "code",
      "source": [
        "#Using our dataset\n",
        "import re\n",
        "import string\n",
        "from nltk.tokenize import word_tokenize\n",
        "import nltk\n",
        "nltk.download('punkt')\n",
        "\n",
        "def clean_text(text):\n",
        "    text = str(text)\n",
        "    text = re.sub(r'<.*?>', '', text)  # RemoveHTML\n",
        "    text = text.lower()                # Lower\n",
        "    text = text.translate(str.maketrans('', '', string.punctuation))  # Remove punctuation\n",
        "    return text\n",
        "\n",
        "# Clean Text\n",
        "train_df['cleaned_text'] = train_df['sentence'].apply(clean_text)\n"
      ],
      "metadata": {
        "colab": {
          "base_uri": "https://localhost:8080/"
        },
        "id": "WLCu_woAYHcn",
        "outputId": "206a99c9-e012-4c4a-e958-f1b60dfcaf95"
      },
      "id": "WLCu_woAYHcn",
      "execution_count": null,
      "outputs": [
        {
          "output_type": "stream",
          "name": "stderr",
          "text": [
            "[nltk_data] Downloading package punkt to /root/nltk_data...\n",
            "[nltk_data]   Package punkt is already up-to-date!\n"
          ]
        }
      ]
    },
    {
      "cell_type": "markdown",
      "id": "3c435e0f",
      "metadata": {
        "id": "3c435e0f"
      },
      "source": [
        "\n",
        "3. **Feature Extraction**  \n",
        "    - **Traditional**: Build a TF-IDF vectorizer (or n-gram count) pipeline.  \n",
        "    - **Neural**: Prepare sequences for embedding—pad/truncate to a fixed length.  \n",
        "    - Save each preprocessor (vectorizer/tokenizer) to disk.\n",
        "    "
      ]
    },
    {
      "cell_type": "code",
      "execution_count": null,
      "id": "79d7ee18",
      "metadata": {
        "colab": {
          "base_uri": "https://localhost:8080/"
        },
        "id": "79d7ee18",
        "outputId": "3a411932-7fce-41f3-c1fa-9af8c6fdef14"
      },
      "outputs": [
        {
          "output_type": "stream",
          "name": "stdout",
          "text": [
            "TF-IDF shape: (6919, 5000)\n"
          ]
        }
      ],
      "source": [
        "from sklearn.feature_extraction.text import TfidfVectorizer\n",
        "import pickle\n",
        "\n",
        "\n",
        "tfidf_vectorizer = TfidfVectorizer(ngram_range=(1, 2), max_features=5000)\n",
        "X_tfidf = tfidf_vectorizer.fit_transform(train_df['cleaned_text'])\n",
        "\n",
        "print(\"TF-IDF shape:\", X_tfidf.shape)\n",
        "\n",
        "with open('tfidf_vectorizer.pkl', 'wb') as f:\n",
        "    pickle.dump(tfidf_vectorizer, f)"
      ]
    },
    {
      "cell_type": "code",
      "source": [
        "from tensorflow.keras.preprocessing.text import Tokenizer\n",
        "from tensorflow.keras.preprocessing.sequence import pad_sequences\n",
        "\n",
        "# Initial tokenizer（OOV）\n",
        "tokenizer = Tokenizer(num_words=5000, oov_token=\"<OOV>\")\n",
        "tokenizer.fit_on_texts(train_df['cleaned_text'])\n",
        "\n",
        "# Transorm to sequences\n",
        "sequences = tokenizer.texts_to_sequences(train_df['cleaned_text'])\n",
        "\n",
        "# padding\n",
        "padded_sequences = pad_sequences(sequences, maxlen=50, padding='post', truncating='post')\n",
        "\n",
        "# shape\n",
        "print(\"Padded shape:\", padded_sequences.shape)\n",
        "\n",
        "# save tokenizer\n",
        "with open('tokenizer.pkl', 'wb') as f:\n",
        "    pickle.dump(tokenizer, f)"
      ],
      "metadata": {
        "colab": {
          "base_uri": "https://localhost:8080/"
        },
        "id": "7cbi6kx3WwW3",
        "outputId": "08f18a14-d878-469d-fdcc-cf891a793658"
      },
      "id": "7cbi6kx3WwW3",
      "execution_count": null,
      "outputs": [
        {
          "output_type": "stream",
          "name": "stdout",
          "text": [
            "Padded shape: (6919, 50)\n"
          ]
        }
      ]
    },
    {
      "cell_type": "markdown",
      "id": "1edc0982",
      "metadata": {
        "id": "1edc0982"
      },
      "source": [
        "## Part 2 – Exploratory Data Analysis (EDA)"
      ]
    },
    {
      "cell_type": "markdown",
      "id": "17398b95",
      "metadata": {
        "id": "17398b95"
      },
      "source": [
        "\n",
        "1. **Class Distribution**  \n",
        "    - Visualize the number of positive vs. negative reviews.  \n",
        "    - Compute descriptive statistics on review lengths (mean, median, IQR).\n",
        "    "
      ]
    },
    {
      "cell_type": "code",
      "execution_count": null,
      "id": "7ac4fc65",
      "metadata": {
        "id": "7ac4fc65",
        "colab": {
          "base_uri": "https://localhost:8080/",
          "height": 472
        },
        "outputId": "b0b666de-fecc-4f42-fc5a-5f7797238d75"
      },
      "outputs": [
        {
          "output_type": "display_data",
          "data": {
            "text/plain": [
              "<Figure size 640x480 with 1 Axes>"
            ],
            "image/png": "[encoded data removed]"
          },
          "metadata": {}
        }
      ],
      "source": [
        "import matplotlib.pyplot as plt\n",
        "import seaborn as sns\n",
        "\n",
        "sns.countplot(data=train_df, x='label')\n",
        "plt.title('Class Distribution: Positive vs Negative')\n",
        "plt.xticks([0, 1], ['Negative', 'Positive'])\n",
        "plt.ylabel('Count')\n",
        "plt.show()\n"
      ]
    },
    {
      "cell_type": "code",
      "source": [
        "# Compute length of each review by word count\n",
        "train_df['review_length'] = train_df['cleaned_text'].apply(lambda x: len(x.split()))\n",
        "\n",
        "# Summary statistics\n",
        "mean_length = train_df['review_length'].mean()\n",
        "median_length = train_df['review_length'].median()\n",
        "q1 = train_df['review_length'].quantile(0.25)\n",
        "q3 = train_df['review_length'].quantile(0.75)\n",
        "iqr = q3 - q1\n",
        "\n",
        "print(\"Review Length Statistics:\")\n",
        "print(f\"Mean: {mean_length:.2f}\")\n",
        "print(f\"Median: {median_length}\")\n",
        "print(f\"IQR (Q3 - Q1): {iqr}\")\n"
      ],
      "metadata": {
        "id": "uFoYIJewcU1H",
        "colab": {
          "base_uri": "https://localhost:8080/"
        },
        "outputId": "971b9931-f316-4920-852e-d9e9743b5701"
      },
      "id": "uFoYIJewcU1H",
      "execution_count": null,
      "outputs": [
        {
          "output_type": "stream",
          "name": "stdout",
          "text": [
            "Review Length Statistics:\n",
            "Mean: 17.16\n",
            "Median: 17.0\n",
            "IQR (Q3 - Q1): 12.0\n"
          ]
        }
      ]
    },
    {
      "cell_type": "markdown",
      "source": [
        "**2.Text Characteristics**\n",
        "\n",
        "Plot the 20 most frequent tokens per sentiment class.\n",
        "Generate word clouds (or bar charts) highlighting key terms for each class."
      ],
      "metadata": {
        "id": "ir1HD8WwdVrv"
      },
      "id": "ir1HD8WwdVrv"
    },
    {
      "cell_type": "code",
      "source": [
        "from collections import Counter\n",
        "import nltk\n",
        "nltk.download('punkt')\n",
        "from nltk.tokenize import word_tokenize\n",
        "\n",
        "# Separate by sentiment\n",
        "positive_reviews = train_df[train_df['label'] == 1]['cleaned_text']\n",
        "negative_reviews = train_df[train_df['label'] == 0]['cleaned_text']\n",
        "\n",
        "# Tokenize and count words\n",
        "\n",
        "def simple_tokenizer(text):\n",
        "    return text.split()\n",
        "\n",
        "def get_top_tokens(texts, top_n=20):\n",
        "    all_tokens = []\n",
        "    for text in texts:\n",
        "        all_tokens.extend(simple_tokenizer(text))\n",
        "    return Counter(all_tokens).most_common(top_n)\n",
        "\n",
        "top_pos = get_top_tokens(positive_reviews)\n",
        "top_neg = get_top_tokens(negative_reviews)\n",
        "\n",
        "# Convert to DataFrame for plotting\n",
        "import pandas as pd\n",
        "top_pos_df = pd.DataFrame(top_pos, columns=['token', 'count'])\n",
        "top_neg_df = pd.DataFrame(top_neg, columns=['token', 'count'])\n",
        "\n",
        "# Plot\n",
        "import seaborn as sns\n",
        "import matplotlib.pyplot as plt\n",
        "\n",
        "plt.figure(figsize=(10, 4))\n",
        "sns.barplot(data=top_pos_df, x='count', y='token', palette=\"Greens_d\")\n",
        "plt.title(\"Top 20 Tokens in Positive Reviews\")\n",
        "plt.show()\n",
        "\n",
        "plt.figure(figsize=(10, 4))\n",
        "sns.barplot(data=top_neg_df, x='count', y='token', palette=\"Reds_d\")\n",
        "plt.title(\"Top 20 Tokens in Negative Reviews\")\n",
        "plt.show()\n"
      ],
      "metadata": {
        "id": "mpihxhkqcy6w",
        "colab": {
          "base_uri": "https://localhost:8080/",
          "height": 1000
        },
        "outputId": "1ea227f3-e873-4ac2-857b-f5f128200097"
      },
      "id": "mpihxhkqcy6w",
      "execution_count": null,
      "outputs": [
        {
          "output_type": "stream",
          "name": "stderr",
          "text": [
            "[nltk_data] Downloading package punkt to /root/nltk_data...\n",
            "[nltk_data]   Package punkt is already up-to-date!\n",
            "<ipython-input-8-024756237452>:34: FutureWarning: \n",
            "\n",
            "Passing `palette` without assigning `hue` is deprecated and will be removed in v0.14.0. Assign the `y` variable to `hue` and set `legend=False` for the same effect.\n",
            "\n",
            "  sns.barplot(data=top_pos_df, x='count', y='token', palette=\"Greens_d\")\n"
          ]
        },
        {
          "output_type": "display_data",
          "data": {
            "text/plain": [
              "<Figure size 1000x400 with 1 Axes>"
            ],
            "image/png": "[encoded data removed]"
          },
          "metadata": {}
        },
        {
          "output_type": "stream",
          "name": "stderr",
          "text": [
            "<ipython-input-8-024756237452>:39: FutureWarning: \n",
            "\n",
            "Passing `palette` without assigning `hue` is deprecated and will be removed in v0.14.0. Assign the `y` variable to `hue` and set `legend=False` for the same effect.\n",
            "\n",
            "  sns.barplot(data=top_neg_df, x='count', y='token', palette=\"Reds_d\")\n"
          ]
        },
        {
          "output_type": "display_data",
          "data": {
            "text/plain": [
              "<Figure size 1000x400 with 1 Axes>"
            ],
            "image/png": "[encoded data removed]"
          },
          "metadata": {}
        }
      ]
    },
    {
      "cell_type": "markdown",
      "source": [
        "**3.Correlation Analysis**\n",
        "\n",
        "Analyze whether review length correlates with sentiment.\n",
        "Present findings numerically and with at least one visualization."
      ],
      "metadata": {
        "id": "gsdFMtv1dl-2"
      },
      "id": "gsdFMtv1dl-2"
    },
    {
      "cell_type": "code",
      "source": [
        "train_df['review_length'] = train_df['cleaned_text'].apply(lambda x: len(x.split()))\n"
      ],
      "metadata": {
        "id": "durBCdUDdoAe"
      },
      "id": "durBCdUDdoAe",
      "execution_count": null,
      "outputs": []
    },
    {
      "cell_type": "code",
      "source": [
        "from scipy.stats import pointbiserialr\n",
        "\n",
        "corr, pval = pointbiserialr(train_df['review_length'], train_df['label'])\n",
        "\n",
        "print(f\"Correlation between review length and sentiment:\")\n",
        "print(f\"r = {corr:.4f}, p-value = {pval:.4f}\")\n"
      ],
      "metadata": {
        "id": "TIVrHMCAdsID",
        "colab": {
          "base_uri": "https://localhost:8080/"
        },
        "outputId": "d8b862fc-bf67-4cfb-d8c5-8c04fbed7cea"
      },
      "id": "TIVrHMCAdsID",
      "execution_count": null,
      "outputs": [
        {
          "output_type": "stream",
          "name": "stdout",
          "text": [
            "Correlation between review length and sentiment:\n",
            "r = 0.0098, p-value = 0.4132\n"
          ]
        }
      ]
    },
    {
      "cell_type": "code",
      "source": [
        "import seaborn as sns\n",
        "import matplotlib.pyplot as plt\n",
        "\n",
        "plt.figure(figsize=(8, 5))\n",
        "sns.boxplot(x='label', y='review_length', data=train_df)\n",
        "plt.xticks([0, 1], ['Negative', 'Positive'])\n",
        "plt.title(\"Review Length by Sentiment (Boxplot)\")\n",
        "plt.xlabel(\"Sentiment\")\n",
        "plt.ylabel(\"Number of Words\")\n",
        "plt.show()\n"
      ],
      "metadata": {
        "id": "ZoXBuFoAduv6",
        "colab": {
          "base_uri": "https://localhost:8080/",
          "height": 487
        },
        "outputId": "455f3d35-4e05-4141-d207-1c280bdfa4c8"
      },
      "id": "ZoXBuFoAduv6",
      "execution_count": null,
      "outputs": [
        {
          "output_type": "display_data",
          "data": {
            "text/plain": [
              "<Figure size 800x500 with 1 Axes>"
            ],
            "image/png": "[encoded data removed]"
          },
          "metadata": {}
        }
      ]
    },
    {
      "cell_type": "markdown",
      "id": "582d40c0",
      "metadata": {
        "id": "582d40c0"
      },
      "source": [
        "## Part 3 – Baseline Traditional Models"
      ]
    },
    {
      "cell_type": "markdown",
      "id": "e62afe00",
      "metadata": {
        "id": "e62afe00"
      },
      "source": [
        "\n",
        "1. **Logistic Regression & SVM**  \n",
        "    - Train at least two linear models on your TF-IDF features.  \n",
        "    - Use cross-validation (≥ 5 folds) on the training set to tune at least one hyperparameter.\n",
        "    "
      ]
    },
    {
      "cell_type": "code",
      "source": [
        "\n",
        "X = X_tfidf\n",
        "y = train_df['label']\n"
      ],
      "metadata": {
        "id": "FfSL3NrHeFNo"
      },
      "id": "FfSL3NrHeFNo",
      "execution_count": null,
      "outputs": []
    },
    {
      "cell_type": "code",
      "source": [
        "from sklearn.linear_model import LogisticRegression\n",
        "from sklearn.model_selection import GridSearchCV, cross_val_score\n",
        "\n",
        "# Define model and hyperparameter grid\n",
        "log_reg = LogisticRegression(max_iter=1000, solver='liblinear')  # good for small datasets\n",
        "param_grid_lr = {'C': [0.01, 0.1, 1, 10]}\n",
        "\n",
        "# Grid search with 5-fold cross-validation\n",
        "grid_lr = GridSearchCV(log_reg, param_grid_lr, cv=5, scoring='accuracy')\n",
        "grid_lr.fit(X, y)\n",
        "\n",
        "# Results\n",
        "print(\"Best Logistic Regression C:\", grid_lr.best_params_['C'])\n",
        "print(\"Best CV Accuracy:\", grid_lr.best_score_)\n"
      ],
      "metadata": {
        "id": "ryg1z3cGeG_S",
        "colab": {
          "base_uri": "https://localhost:8080/"
        },
        "outputId": "8d51760c-85c1-48c6-9cb4-5e2e1845de5e"
      },
      "id": "ryg1z3cGeG_S",
      "execution_count": null,
      "outputs": [
        {
          "output_type": "stream",
          "name": "stdout",
          "text": [
            "Best Logistic Regression C: 10\n",
            "Best CV Accuracy: 0.7846526149486539\n"
          ]
        }
      ]
    },
    {
      "cell_type": "code",
      "source": [
        "from sklearn.svm import LinearSVC\n",
        "\n",
        "# Define model and hyperparameter grid\n",
        "svm = LinearSVC(max_iter=2000)\n",
        "param_grid_svm = {'C': [0.01, 0.1, 1, 10]}\n",
        "\n",
        "# Grid search with 5-fold cross-validation\n",
        "grid_svm = GridSearchCV(svm, param_grid_svm, cv=5, scoring='accuracy')\n",
        "grid_svm.fit(X, y)\n",
        "\n",
        "# Results\n",
        "print(\"Best SVM C:\", grid_svm.best_params_['C'])\n",
        "print(\"Best CV Accuracy:\", grid_svm.best_score_)\n"
      ],
      "metadata": {
        "id": "HIV9NE5yeNQo",
        "colab": {
          "base_uri": "https://localhost:8080/"
        },
        "outputId": "66c61eb9-7fac-4934-c257-ec107b47c0ba"
      },
      "id": "HIV9NE5yeNQo",
      "execution_count": null,
      "outputs": [
        {
          "output_type": "stream",
          "name": "stdout",
          "text": [
            "Best SVM C: 1\n",
            "Best CV Accuracy: 0.7804615500357354\n"
          ]
        }
      ]
    },
    {
      "cell_type": "markdown",
      "source": [
        "**2.Random Forest & Gradient Boosting**\n",
        "\n",
        "Train two tree-based models (e.g., Random Forest, XGBoost) on the same features.\n",
        "Report feature-importance for each and discuss any notable tokens."
      ],
      "metadata": {
        "id": "dUsUt5sCd5P7"
      },
      "id": "dUsUt5sCd5P7"
    },
    {
      "cell_type": "code",
      "source": [
        "# X: TF-IDF features; y: labels\n",
        "X = X_tfidf\n",
        "y = train_df['label']\n",
        "feature_names = tfidf_vectorizer.get_feature_names_out()\n"
      ],
      "metadata": {
        "id": "vsJAUmqDeTcl"
      },
      "id": "vsJAUmqDeTcl",
      "execution_count": null,
      "outputs": []
    },
    {
      "cell_type": "code",
      "source": [
        "from sklearn.ensemble import RandomForestClassifier\n",
        "\n",
        "# Train the model\n",
        "rf_model = RandomForestClassifier(n_estimators=100, random_state=42)\n",
        "rf_model.fit(X, y)\n",
        "\n",
        "# Get feature importances\n",
        "importances_rf = rf_model.feature_importances_\n",
        "\n",
        "# Create dataframe for top features\n",
        "import pandas as pd\n",
        "rf_importance_df = pd.DataFrame({\n",
        "    'feature': feature_names,\n",
        "    'importance': importances_rf\n",
        "}).sort_values(by='importance', ascending=False).head(20)\n",
        "\n",
        "# Plot\n",
        "import matplotlib.pyplot as plt\n",
        "import seaborn as sns\n",
        "\n",
        "plt.figure(figsize=(10, 5))\n",
        "sns.barplot(data=rf_importance_df, x='importance', y='feature', palette='Blues_d')\n",
        "plt.title(\"Top 20 Important Features - Random Forest\")\n",
        "plt.show()\n"
      ],
      "metadata": {
        "id": "QQ2BGgdreUeX",
        "colab": {
          "base_uri": "https://localhost:8080/",
          "height": 579
        },
        "outputId": "5f53bf9c-6dc0-448a-9d6c-b98208ce0550"
      },
      "id": "QQ2BGgdreUeX",
      "execution_count": null,
      "outputs": [
        {
          "output_type": "stream",
          "name": "stderr",
          "text": [
            "<ipython-input-16-fc217e15de76>:22: FutureWarning: \n",
            "\n",
            "Passing `palette` without assigning `hue` is deprecated and will be removed in v0.14.0. Assign the `y` variable to `hue` and set `legend=False` for the same effect.\n",
            "\n",
            "  sns.barplot(data=rf_importance_df, x='importance', y='feature', palette='Blues_d')\n"
          ]
        },
        {
          "output_type": "display_data",
          "data": {
            "text/plain": [
              "<Figure size 1000x500 with 1 Axes>"
            ],
            "image/png": "[encoded data removed]"
          },
          "metadata": {}
        }
      ]
    },
    {
      "cell_type": "code",
      "source": [
        "import xgboost as xgb\n",
        "\n",
        "# Convert to DMatrix for efficiency (optional)\n",
        "xgb_model = xgb.XGBClassifier(n_estimators=100, use_label_encoder=False, eval_metric='logloss', random_state=42)\n",
        "xgb_model.fit(X, y)\n",
        "\n",
        "# Get importances\n",
        "importances_xgb = xgb_model.feature_importances_\n",
        "\n",
        "# Create dataframe\n",
        "xgb_importance_df = pd.DataFrame({\n",
        "    'feature': feature_names,\n",
        "    'importance': importances_xgb\n",
        "}).sort_values(by='importance', ascending=False).head(20)\n",
        "\n",
        "# Plot\n",
        "plt.figure(figsize=(10, 5))\n",
        "sns.barplot(data=xgb_importance_df, x='importance', y='feature', palette='Greens_d')\n",
        "plt.title(\"Top 20 Important Features - XGBoost\")\n",
        "plt.show()\n"
      ],
      "metadata": {
        "id": "-zZynqoieZ5c",
        "colab": {
          "base_uri": "https://localhost:8080/",
          "height": 652
        },
        "outputId": "1b96b276-aabc-4853-f351-3d0626b2f03a"
      },
      "id": "-zZynqoieZ5c",
      "execution_count": null,
      "outputs": [
        {
          "output_type": "stream",
          "name": "stderr",
          "text": [
            "/usr/local/lib/python3.11/dist-packages/xgboost/core.py:158: UserWarning: [23:58:57] WARNING: /workspace/src/learner.cc:740: \n",
            "Parameters: { \"use_label_encoder\" } are not used.\n",
            "\n",
            "  warnings.warn(smsg, UserWarning)\n",
            "<ipython-input-17-607ae570fbcc>:18: FutureWarning: \n",
            "\n",
            "Passing `palette` without assigning `hue` is deprecated and will be removed in v0.14.0. Assign the `y` variable to `hue` and set `legend=False` for the same effect.\n",
            "\n",
            "  sns.barplot(data=xgb_importance_df, x='importance', y='feature', palette='Greens_d')\n"
          ]
        },
        {
          "output_type": "display_data",
          "data": {
            "text/plain": [
              "<Figure size 1000x500 with 1 Axes>"
            ],
            "image/png": "[encoded data removed]"
          },
          "metadata": {}
        }
      ]
    },
    {
      "cell_type": "markdown",
      "source": [
        "**3.Evaluation Metrics**\n",
        "\n",
        "Compute accuracy, precision, recall, F1-score, and ROC-AUC on the held-out test set.\n",
        "Present all results in a single comparison table."
      ],
      "metadata": {
        "id": "OHBPKmBId_nB"
      },
      "id": "OHBPKmBId_nB"
    },
    {
      "cell_type": "code",
      "source": [
        "test_df = pd.read_csv('./SST-2-sentiment-analysis/data/dev.tsv', sep='\\t', header=None, names=['label', 'sentence'])\n",
        "\n",
        "# Clean text\n",
        "test_df['cleaned_text'] = test_df['sentence'].apply(clean_text)\n",
        "\n",
        "\n",
        "\n",
        "# TF-IDF transform\n",
        "X_test = tfidf_vectorizer.transform(test_df['cleaned_text'])\n",
        "y_test = test_df['label']\n"
      ],
      "metadata": {
        "id": "Tev2rWJAexk_"
      },
      "id": "Tev2rWJAexk_",
      "execution_count": null,
      "outputs": []
    },
    {
      "cell_type": "code",
      "source": [
        "from sklearn.metrics import accuracy_score, precision_score, recall_score, f1_score, roc_auc_score\n",
        "\n",
        "def evaluate_model(name, model, X_test, y_test, results):\n",
        "    y_pred = model.predict(X_test)\n",
        "    y_proba = model.predict_proba(X_test)[:, 1] if hasattr(model, \"predict_proba\") else None\n",
        "\n",
        "    results.append({\n",
        "        'Model': name,\n",
        "        'Accuracy': accuracy_score(y_test, y_pred),\n",
        "        'Precision': precision_score(y_test, y_pred),\n",
        "        'Recall': recall_score(y_test, y_pred),\n",
        "        'F1-score': f1_score(y_test, y_pred),\n",
        "        'ROC-AUC': roc_auc_score(y_test, y_proba) if y_proba is not None else 'N/A'\n",
        "    })\n"
      ],
      "metadata": {
        "id": "oeFvkr9tezxj"
      },
      "id": "oeFvkr9tezxj",
      "execution_count": null,
      "outputs": []
    },
    {
      "cell_type": "code",
      "source": [
        "results = []\n",
        "\n",
        "evaluate_model(\"Logistic Regression\", grid_lr.best_estimator_, X_test, y_test, results)\n",
        "evaluate_model(\"Linear SVM\", grid_svm.best_estimator_, X_test, y_test, results)\n",
        "evaluate_model(\"Random Forest\", rf_model, X_test, y_test, results)\n",
        "evaluate_model(\"XGBoost\", xgb_model, X_test, y_test, results)\n",
        "\n",
        "# Convert to DataFrame\n",
        "results_df = pd.DataFrame(results)\n",
        "\n",
        "# Format\n",
        "results_df = results_df.round(4)\n",
        "results_df\n"
      ],
      "metadata": {
        "id": "cTG-_c-ve1o8",
        "colab": {
          "base_uri": "https://localhost:8080/",
          "height": 175
        },
        "outputId": "5d1d0bbe-d23b-41e4-d5af-858e9a5455ee"
      },
      "id": "cTG-_c-ve1o8",
      "execution_count": null,
      "outputs": [
        {
          "output_type": "execute_result",
          "data": {
            "text/plain": [
              "                 Model  Accuracy  Precision  Recall  F1-score   ROC-AUC\n",
              "0  Logistic Regression    0.7603     0.7629  0.7680    0.7654  0.849352\n",
              "1           Linear SVM    0.7569     0.7624  0.7590    0.7607       N/A\n",
              "2        Random Forest    0.7385     0.7269  0.7793    0.7522  0.817881\n",
              "3              XGBoost    0.7248     0.7024  0.7973    0.7468  0.804649"
            ],
            "text/html": [
              "\n",
              "  <div id=\"df-801f8a4b-0672-4295-af41-92c34daf027a\" class=\"colab-df-container\">\n",
              "    <div>\n",
              "<style scoped>\n",
              "    .dataframe tbody tr th:only-of-type {\n",
              "        vertical-align: middle;\n",
              "    }\n",
              "\n",
              "    .dataframe tbody tr th {\n",
              "        vertical-align: top;\n",
              "    }\n",
              "\n",
              "    .dataframe thead th {\n",
              "        text-align: right;\n",
              "    }\n",
              "</style>\n",
              "<table border=\"1\" class=\"dataframe\">\n",
              "  <thead>\n",
              "    <tr style=\"text-align: right;\">\n",
              "      <th></th>\n",
              "      <th>Model</th>\n",
              "      <th>Accuracy</th>\n",
              "      <th>Precision</th>\n",
              "      <th>Recall</th>\n",
              "      <th>F1-score</th>\n",
              "      <th>ROC-AUC</th>\n",
              "    </tr>\n",
              "  </thead>\n",
              "  <tbody>\n",
              "    <tr>\n",
              "      <th>0</th>\n",
              "      <td>Logistic Regression</td>\n",
              "      <td>0.7603</td>\n",
              "      <td>0.7629</td>\n",
              "      <td>0.7680</td>\n",
              "      <td>0.7654</td>\n",
              "      <td>0.849352</td>\n",
              "    </tr>\n",
              "    <tr>\n",
              "      <th>1</th>\n",
              "      <td>Linear SVM</td>\n",
              "      <td>0.7569</td>\n",
              "      <td>0.7624</td>\n",
              "      <td>0.7590</td>\n",
              "      <td>0.7607</td>\n",
              "      <td>N/A</td>\n",
              "    </tr>\n",
              "    <tr>\n",
              "      <th>2</th>\n",
              "      <td>Random Forest</td>\n",
              "      <td>0.7385</td>\n",
              "      <td>0.7269</td>\n",
              "      <td>0.7793</td>\n",
              "      <td>0.7522</td>\n",
              "      <td>0.817881</td>\n",
              "    </tr>\n",
              "    <tr>\n",
              "      <th>3</th>\n",
              "      <td>XGBoost</td>\n",
              "      <td>0.7248</td>\n",
              "      <td>0.7024</td>\n",
              "      <td>0.7973</td>\n",
              "      <td>0.7468</td>\n",
              "      <td>0.804649</td>\n",
              "    </tr>\n",
              "  </tbody>\n",
              "</table>\n",
              "</div>\n",
              "    <div class=\"colab-df-buttons\">\n",
              "\n",
              "  <div class=\"colab-df-container\">\n",
              "    <button class=\"colab-df-convert\" onclick=\"convertToInteractive('df-801f8a4b-0672-4295-af41-92c34daf027a')\"\n",
              "            title=\"Convert this dataframe to an interactive table.\"\n",
              "            style=\"display:none;\">\n",
              "\n",
              "  <svg xmlns=\"http://www.w3.org/2000/svg\" height=\"24px\" viewBox=\"0 -960 960 960\">\n",
              "    <path d=\"M120-120v-720h720v720H120Zm60-500h600v-160H180v160Zm220 220h160v-160H400v160Zm0 220h160v-160H400v160ZM180-400h160v-160H180v160Zm440 0h160v-160H620v160ZM180-180h160v-160H180v160Zm440 0h160v-160H620v160Z\"/>\n",
              "  </svg>\n",
              "    </button>\n",
              "\n",
              "  <style>\n",
              "    .colab-df-container {\n",
              "      display:flex;\n",
              "      gap: 12px;\n",
              "    }\n",
              "\n",
              "    .colab-df-convert {\n",
              "      background-color: #E8F0FE;\n",
              "      border: none;\n",
              "      border-radius: 50%;\n",
              "      cursor: pointer;\n",
              "      display: none;\n",
              "      fill: #1967D2;\n",
              "      height: 32px;\n",
              "      padding: 0 0 0 0;\n",
              "      width: 32px;\n",
              "    }\n",
              "\n",
              "    .colab-df-convert:hover {\n",
              "      background-color: #E2EBFA;\n",
              "      box-shadow: 0px 1px 2px rgba(60, 64, 67, 0.3), 0px 1px 3px 1px rgba(60, 64, 67, 0.15);\n",
              "      fill: #174EA6;\n",
              "    }\n",
              "\n",
              "    .colab-df-buttons div {\n",
              "      margin-bottom: 4px;\n",
              "    }\n",
              "\n",
              "    [theme=dark] .colab-df-convert {\n",
              "      background-color: #3B4455;\n",
              "      fill: #D2E3FC;\n",
              "    }\n",
              "\n",
              "    [theme=dark] .colab-df-convert:hover {\n",
              "      background-color: #434B5C;\n",
              "      box-shadow: 0px 1px 3px 1px rgba(0, 0, 0, 0.15);\n",
              "      filter: drop-shadow(0px 1px 2px rgba(0, 0, 0, 0.3));\n",
              "      fill: #FFFFFF;\n",
              "    }\n",
              "  </style>\n",
              "\n",
              "    <script>\n",
              "      const buttonEl =\n",
              "        document.querySelector('#df-801f8a4b-0672-4295-af41-92c34daf027a button.colab-df-convert');\n",
              "      buttonEl.style.display =\n",
              "        google.colab.kernel.accessAllowed ? 'block' : 'none';\n",
              "\n",
              "      async function convertToInteractive(key) {\n",
              "        const element = document.querySelector('#df-801f8a4b-0672-4295-af41-92c34daf027a');\n",
              "        const dataTable =\n",
              "          await google.colab.kernel.invokeFunction('convertToInteractive',\n",
              "                                                    [key], {});\n",
              "        if (!dataTable) return;\n",
              "\n",
              "        const docLinkHtml = 'Like what you see? Visit the ' +\n",
              "          '<a target=\"_blank\" href=https://colab.research.google.com/notebooks/data_table.ipynb>data table notebook</a>'\n",
              "          + ' to learn more about interactive tables.';\n",
              "        element.innerHTML = '';\n",
              "        dataTable['output_type'] = 'display_data';\n",
              "        await google.colab.output.renderOutput(dataTable, element);\n",
              "        const docLink = document.createElement('div');\n",
              "        docLink.innerHTML = docLinkHtml;\n",
              "        element.appendChild(docLink);\n",
              "      }\n",
              "    </script>\n",
              "  </div>\n",
              "\n",
              "\n",
              "    <div id=\"df-528e1bcb-3a88-4c95-9179-cd5778907de7\">\n",
              "      <button class=\"colab-df-quickchart\" onclick=\"quickchart('df-528e1bcb-3a88-4c95-9179-cd5778907de7')\"\n",
              "                title=\"Suggest charts\"\n",
              "                style=\"display:none;\">\n",
              "\n",
              "<svg xmlns=\"http://www.w3.org/2000/svg\" height=\"24px\"viewBox=\"0 0 24 24\"\n",
              "     width=\"24px\">\n",
              "    <g>\n",
              "        <path d=\"M19 3H5c-1.1 0-2 .9-2 2v14c0 1.1.9 2 2 2h14c1.1 0 2-.9 2-2V5c0-1.1-.9-2-2-2zM9 17H7v-7h2v7zm4 0h-2V7h2v10zm4 0h-2v-4h2v4z\"/>\n",
              "    </g>\n",
              "</svg>\n",
              "      </button>\n",
              "\n",
              "<style>\n",
              "  .colab-df-quickchart {\n",
              "      --bg-color: #E8F0FE;\n",
              "      --fill-color: #1967D2;\n",
              "      --hover-bg-color: #E2EBFA;\n",
              "      --hover-fill-color: #174EA6;\n",
              "      --disabled-fill-color: #AAA;\n",
              "      --disabled-bg-color: #DDD;\n",
              "  }\n",
              "\n",
              "  [theme=dark] .colab-df-quickchart {\n",
              "      --bg-color: #3B4455;\n",
              "      --fill-color: #D2E3FC;\n",
              "      --hover-bg-color: #434B5C;\n",
              "      --hover-fill-color: #FFFFFF;\n",
              "      --disabled-bg-color: #3B4455;\n",
              "      --disabled-fill-color: #666;\n",
              "  }\n",
              "\n",
              "  .colab-df-quickchart {\n",
              "    background-color: var(--bg-color);\n",
              "    border: none;\n",
              "    border-radius: 50%;\n",
              "    cursor: pointer;\n",
              "    display: none;\n",
              "    fill: var(--fill-color);\n",
              "    height: 32px;\n",
              "    padding: 0;\n",
              "    width: 32px;\n",
              "  }\n",
              "\n",
              "  .colab-df-quickchart:hover {\n",
              "    background-color: var(--hover-bg-color);\n",
              "    box-shadow: 0 1px 2px rgba(60, 64, 67, 0.3), 0 1px 3px 1px rgba(60, 64, 67, 0.15);\n",
              "    fill: var(--button-hover-fill-color);\n",
              "  }\n",
              "\n",
              "  .colab-df-quickchart-complete:disabled,\n",
              "  .colab-df-quickchart-complete:disabled:hover {\n",
              "    background-color: var(--disabled-bg-color);\n",
              "    fill: var(--disabled-fill-color);\n",
              "    box-shadow: none;\n",
              "  }\n",
              "\n",
              "  .colab-df-spinner {\n",
              "    border: 2px solid var(--fill-color);\n",
              "    border-color: transparent;\n",
              "    border-bottom-color: var(--fill-color);\n",
              "    animation:\n",
              "      spin 1s steps(1) infinite;\n",
              "  }\n",
              "\n",
              "  @keyframes spin {\n",
              "    0% {\n",
              "      border-color: transparent;\n",
              "      border-bottom-color: var(--fill-color);\n",
              "      border-left-color: var(--fill-color);\n",
              "    }\n",
              "    20% {\n",
              "      border-color: transparent;\n",
              "      border-left-color: var(--fill-color);\n",
              "      border-top-color: var(--fill-color);\n",
              "    }\n",
              "    30% {\n",
              "      border-color: transparent;\n",
              "      border-left-color: var(--fill-color);\n",
              "      border-top-color: var(--fill-color);\n",
              "      border-right-color: var(--fill-color);\n",
              "    }\n",
              "    40% {\n",
              "      border-color: transparent;\n",
              "      border-right-color: var(--fill-color);\n",
              "      border-top-color: var(--fill-color);\n",
              "    }\n",
              "    60% {\n",
              "      border-color: transparent;\n",
              "      border-right-color: var(--fill-color);\n",
              "    }\n",
              "    80% {\n",
              "      border-color: transparent;\n",
              "      border-right-color: var(--fill-color);\n",
              "      border-bottom-color: var(--fill-color);\n",
              "    }\n",
              "    90% {\n",
              "      border-color: transparent;\n",
              "      border-bottom-color: var(--fill-color);\n",
              "    }\n",
              "  }\n",
              "</style>\n",
              "\n",
              "      <script>\n",
              "        async function quickchart(key) {\n",
              "          const quickchartButtonEl =\n",
              "            document.querySelector('#' + key + ' button');\n",
              "          quickchartButtonEl.disabled = true;  // To prevent multiple clicks.\n",
              "          quickchartButtonEl.classList.add('colab-df-spinner');\n",
              "          try {\n",
              "            const charts = await google.colab.kernel.invokeFunction(\n",
              "                'suggestCharts', [key], {});\n",
              "          } catch (error) {\n",
              "            console.error('Error during call to suggestCharts:', error);\n",
              "          }\n",
              "          quickchartButtonEl.classList.remove('colab-df-spinner');\n",
              "          quickchartButtonEl.classList.add('colab-df-quickchart-complete');\n",
              "        }\n",
              "        (() => {\n",
              "          let quickchartButtonEl =\n",
              "            document.querySelector('#df-528e1bcb-3a88-4c95-9179-cd5778907de7 button');\n",
              "          quickchartButtonEl.style.display =\n",
              "            google.colab.kernel.accessAllowed ? 'block' : 'none';\n",
              "        })();\n",
              "      </script>\n",
              "    </div>\n",
              "\n",
              "  <div id=\"id_c01c5c5c-c90b-4181-8f96-3f3a7ca2887f\">\n",
              "    <style>\n",
              "      .colab-df-generate {\n",
              "        background-color: #E8F0FE;\n",
              "        border: none;\n",
              "        border-radius: 50%;\n",
              "        cursor: pointer;\n",
              "        display: none;\n",
              "        fill: #1967D2;\n",
              "        height: 32px;\n",
              "        padding: 0 0 0 0;\n",
              "        width: 32px;\n",
              "      }\n",
              "\n",
              "      .colab-df-generate:hover {\n",
              "        background-color: #E2EBFA;\n",
              "        box-shadow: 0px 1px 2px rgba(60, 64, 67, 0.3), 0px 1px 3px 1px rgba(60, 64, 67, 0.15);\n",
              "        fill: #174EA6;\n",
              "      }\n",
              "\n",
              "      [theme=dark] .colab-df-generate {\n",
              "        background-color: #3B4455;\n",
              "        fill: #D2E3FC;\n",
              "      }\n",
              "\n",
              "      [theme=dark] .colab-df-generate:hover {\n",
              "        background-color: #434B5C;\n",
              "        box-shadow: 0px 1px 3px 1px rgba(0, 0, 0, 0.15);\n",
              "        filter: drop-shadow(0px 1px 2px rgba(0, 0, 0, 0.3));\n",
              "        fill: #FFFFFF;\n",
              "      }\n",
              "    </style>\n",
              "    <button class=\"colab-df-generate\" onclick=\"generateWithVariable('results_df')\"\n",
              "            title=\"Generate code using this dataframe.\"\n",
              "            style=\"display:none;\">\n",
              "\n",
              "  <svg xmlns=\"http://www.w3.org/2000/svg\" height=\"24px\"viewBox=\"0 0 24 24\"\n",
              "       width=\"24px\">\n",
              "    <path d=\"M7,19H8.4L18.45,9,17,7.55,7,17.6ZM5,21V16.75L18.45,3.32a2,2,0,0,1,2.83,0l1.4,1.43a1.91,1.91,0,0,1,.58,1.4,1.91,1.91,0,0,1-.58,1.4L9.25,21ZM18.45,9,17,7.55Zm-12,3A5.31,5.31,0,0,0,4.9,8.1,5.31,5.31,0,0,0,1,6.5,5.31,5.31,0,0,0,4.9,4.9,5.31,5.31,0,0,0,6.5,1,5.31,5.31,0,0,0,8.1,4.9,5.31,5.31,0,0,0,12,6.5,5.46,5.46,0,0,0,6.5,12Z\"/>\n",
              "  </svg>\n",
              "    </button>\n",
              "    <script>\n",
              "      (() => {\n",
              "      const buttonEl =\n",
              "        document.querySelector('#id_c01c5c5c-c90b-4181-8f96-3f3a7ca2887f button.colab-df-generate');\n",
              "      buttonEl.style.display =\n",
              "        google.colab.kernel.accessAllowed ? 'block' : 'none';\n",
              "\n",
              "      buttonEl.onclick = () => {\n",
              "        google.colab.notebook.generateWithVariable('results_df');\n",
              "      }\n",
              "      })();\n",
              "    </script>\n",
              "  </div>\n",
              "\n",
              "    </div>\n",
              "  </div>\n"
            ],
            "application/vnd.google.colaboratory.intrinsic+json": {
              "type": "dataframe",
              "variable_name": "results_df",
              "summary": "{\n  \"name\": \"results_df\",\n  \"rows\": 4,\n  \"fields\": [\n    {\n      \"column\": \"Model\",\n      \"properties\": {\n        \"dtype\": \"string\",\n        \"num_unique_values\": 4,\n        \"samples\": [\n          \"Linear SVM\",\n          \"XGBoost\",\n          \"Logistic Regression\"\n        ],\n        \"semantic_type\": \"\",\n        \"description\": \"\"\n      }\n    },\n    {\n      \"column\": \"Accuracy\",\n      \"properties\": {\n        \"dtype\": \"number\",\n        \"std\": 0.01659244305901534,\n        \"min\": 0.7248,\n        \"max\": 0.7603,\n        \"num_unique_values\": 4,\n        \"samples\": [\n          0.7569,\n          0.7248,\n          0.7603\n        ],\n        \"semantic_type\": \"\",\n        \"description\": \"\"\n      }\n    },\n    {\n      \"column\": \"Precision\",\n      \"properties\": {\n        \"dtype\": \"number\",\n        \"std\": 0.029463253950189085,\n        \"min\": 0.7024,\n        \"max\": 0.7629,\n        \"num_unique_values\": 4,\n        \"samples\": [\n          0.7624,\n          0.7024,\n          0.7629\n        ],\n        \"semantic_type\": \"\",\n        \"description\": \"\"\n      }\n    },\n    {\n      \"column\": \"Recall\",\n      \"properties\": {\n        \"dtype\": \"number\",\n        \"std\": 0.01650797786930105,\n        \"min\": 0.759,\n        \"max\": 0.7973,\n        \"num_unique_values\": 4,\n        \"samples\": [\n          0.759,\n          0.7973,\n          0.768\n        ],\n        \"semantic_type\": \"\",\n        \"description\": \"\"\n      }\n    },\n    {\n      \"column\": \"F1-score\",\n      \"properties\": {\n        \"dtype\": \"number\",\n        \"std\": 0.00835119751891906,\n        \"min\": 0.7468,\n        \"max\": 0.7654,\n        \"num_unique_values\": 4,\n        \"samples\": [\n          0.7607,\n          0.7468,\n          0.7654\n        ],\n        \"semantic_type\": \"\",\n        \"description\": \"\"\n      }\n    },\n    {\n      \"column\": \"ROC-AUC\",\n      \"properties\": {\n        \"dtype\": \"string\",\n        \"num_unique_values\": 4,\n        \"samples\": [\n          \"N/A\",\n          0.8046486907468215,\n          0.8493516881367349\n        ],\n        \"semantic_type\": \"\",\n        \"description\": \"\"\n      }\n    }\n  ]\n}"
            }
          },
          "metadata": {},
          "execution_count": 20
        }
      ]
    },
    {
      "cell_type": "markdown",
      "id": "1efa2691",
      "metadata": {
        "id": "1efa2691"
      },
      "source": [
        "## Part 4 – Neural Network Models"
      ]
    },
    {
      "cell_type": "markdown",
      "id": "6d410f4f",
      "metadata": {
        "id": "6d410f4f"
      },
      "source": [
        "\n",
        "1. **Simple Feed-Forward**  \n",
        "    - Build an embedding layer + a dense MLP classifier.  \n",
        "    - Ensure you freeze vs. unfreeze embeddings in separate runs.\n",
        "    "
      ]
    },
    {
      "cell_type": "code",
      "source": [
        "X_train = padded_sequences\n",
        "y_train = train_df['label']\n",
        "X_val = padded_sequences  #using the same data for validation for now\n",
        "y_val = y_train"
      ],
      "metadata": {
        "id": "jrhyUim-U-J3"
      },
      "id": "jrhyUim-U-J3",
      "execution_count": null,
      "outputs": []
    },
    {
      "cell_type": "code",
      "execution_count": null,
      "id": "380177d1",
      "metadata": {
        "id": "380177d1",
        "colab": {
          "base_uri": "https://localhost:8080/",
          "height": 693
        },
        "outputId": "0f51fc1d-de38-48dc-c962-a6657af25c26"
      },
      "outputs": [
        {
          "output_type": "stream",
          "name": "stdout",
          "text": [
            "Epoch 1/10\n"
          ]
        },
        {
          "output_type": "stream",
          "name": "stderr",
          "text": [
            "/usr/local/lib/python3.11/dist-packages/keras/src/layers/core/embedding.py:90: UserWarning: Argument `input_length` is deprecated. Just remove it.\n",
            "  warnings.warn(\n"
          ]
        },
        {
          "output_type": "stream",
          "name": "stdout",
          "text": [
            "\u001b[1m217/217\u001b[0m \u001b[32m━━━━━━━━━━━━━━━━━━━━\u001b[0m\u001b[37m\u001b[0m \u001b[1m4s\u001b[0m 9ms/step - accuracy: 0.5164 - loss: 0.6943 - val_accuracy: 0.5330 - val_loss: 0.6853\n",
            "Epoch 2/10\n",
            "\u001b[1m217/217\u001b[0m \u001b[32m━━━━━━━━━━━━━━━━━━━━\u001b[0m\u001b[37m\u001b[0m \u001b[1m1s\u001b[0m 5ms/step - accuracy: 0.5481 - loss: 0.6855 - val_accuracy: 0.5517 - val_loss: 0.6736\n",
            "Epoch 3/10\n",
            "\u001b[1m217/217\u001b[0m \u001b[32m━━━━━━━━━━━━━━━━━━━━\u001b[0m\u001b[37m\u001b[0m \u001b[1m2s\u001b[0m 9ms/step - accuracy: 0.5915 - loss: 0.6702 - val_accuracy: 0.6570 - val_loss: 0.6519\n",
            "Epoch 4/10\n",
            "\u001b[1m217/217\u001b[0m \u001b[32m━━━━━━━━━━━━━━━━━━━━\u001b[0m\u001b[37m\u001b[0m \u001b[1m2s\u001b[0m 5ms/step - accuracy: 0.6189 - loss: 0.6530 - val_accuracy: 0.6264 - val_loss: 0.6293\n",
            "Epoch 5/10\n",
            "\u001b[1m217/217\u001b[0m \u001b[32m━━━━━━━━━━━━━━━━━━━━\u001b[0m\u001b[37m\u001b[0m \u001b[1m1s\u001b[0m 4ms/step - accuracy: 0.6474 - loss: 0.6225 - val_accuracy: 0.6919 - val_loss: 0.5909\n",
            "Epoch 6/10\n",
            "\u001b[1m217/217\u001b[0m \u001b[32m━━━━━━━━━━━━━━━━━━━━\u001b[0m\u001b[37m\u001b[0m \u001b[1m1s\u001b[0m 4ms/step - accuracy: 0.6969 - loss: 0.5867 - val_accuracy: 0.6553 - val_loss: 0.5959\n",
            "Epoch 7/10\n",
            "\u001b[1m217/217\u001b[0m \u001b[32m━━━━━━━━━━━━━━━━━━━━\u001b[0m\u001b[37m\u001b[0m \u001b[1m3s\u001b[0m 11ms/step - accuracy: 0.7033 - loss: 0.5679 - val_accuracy: 0.7563 - val_loss: 0.5247\n",
            "Epoch 8/10\n",
            "\u001b[1m217/217\u001b[0m \u001b[32m━━━━━━━━━━━━━━━━━━━━\u001b[0m\u001b[37m\u001b[0m \u001b[1m2s\u001b[0m 9ms/step - accuracy: 0.7397 - loss: 0.5300 - val_accuracy: 0.7354 - val_loss: 0.5165\n",
            "Epoch 9/10\n",
            "\u001b[1m217/217\u001b[0m \u001b[32m━━━━━━━━━━━━━━━━━━━━\u001b[0m\u001b[37m\u001b[0m \u001b[1m2s\u001b[0m 8ms/step - accuracy: 0.7510 - loss: 0.5082 - val_accuracy: 0.7861 - val_loss: 0.4753\n",
            "Epoch 10/10\n",
            "\u001b[1m217/217\u001b[0m \u001b[32m━━━━━━━━━━━━━━━━━━━━\u001b[0m\u001b[37m\u001b[0m \u001b[1m5s\u001b[0m 18ms/step - accuracy: 0.7622 - loss: 0.4902 - val_accuracy: 0.7953 - val_loss: 0.4548\n"
          ]
        },
        {
          "output_type": "display_data",
          "data": {
            "text/plain": [
              "\u001b[1mModel: \"sequential\"\u001b[0m\n"
            ],
            "text/html": [
              "<pre style=\"white-space:pre;overflow-x:auto;line-height:normal;font-family:Menlo,'DejaVu Sans Mono',consolas,'Courier New',monospace\"><span style=\"font-weight: bold\">Model: \"sequential\"</span>\n",
              "</pre>\n"
            ]
          },
          "metadata": {}
        },
        {
          "output_type": "display_data",
          "data": {
            "text/plain": [
              "┏━━━━━━━━━━━━━━━━━━━━━━━━━━━━━━━━━┳━━━━━━━━━━━━━━━━━━━━━━━━┳━━━━━━━━━━━━━━━┓\n",
              "┃\u001b[1m \u001b[0m\u001b[1mLayer (type)                   \u001b[0m\u001b[1m \u001b[0m┃\u001b[1m \u001b[0m\u001b[1mOutput Shape          \u001b[0m\u001b[1m \u001b[0m┃\u001b[1m \u001b[0m\u001b[1m      Param #\u001b[0m\u001b[1m \u001b[0m┃\n",
              "┡━━━━━━━━━━━━━━━━━━━━━━━━━━━━━━━━━╇━━━━━━━━━━━━━━━━━━━━━━━━╇━━━━━━━━━━━━━━━┩\n",
              "│ embedding (\u001b[38;5;33mEmbedding\u001b[0m)           │ (\u001b[38;5;45mNone\u001b[0m, \u001b[38;5;34m50\u001b[0m, \u001b[38;5;34m128\u001b[0m)        │       \u001b[38;5;34m640,000\u001b[0m │\n",
              "├─────────────────────────────────┼────────────────────────┼───────────────┤\n",
              "│ flatten (\u001b[38;5;33mFlatten\u001b[0m)               │ (\u001b[38;5;45mNone\u001b[0m, \u001b[38;5;34m6400\u001b[0m)           │             \u001b[38;5;34m0\u001b[0m │\n",
              "├─────────────────────────────────┼────────────────────────┼───────────────┤\n",
              "│ dense (\u001b[38;5;33mDense\u001b[0m)                   │ (\u001b[38;5;45mNone\u001b[0m, \u001b[38;5;34m64\u001b[0m)             │       \u001b[38;5;34m409,664\u001b[0m │\n",
              "├─────────────────────────────────┼────────────────────────┼───────────────┤\n",
              "│ dense_1 (\u001b[38;5;33mDense\u001b[0m)                 │ (\u001b[38;5;45mNone\u001b[0m, \u001b[38;5;34m1\u001b[0m)              │            \u001b[38;5;34m65\u001b[0m │\n",
              "└─────────────────────────────────┴────────────────────────┴───────────────┘\n"
            ],
            "text/html": [
              "<pre style=\"white-space:pre;overflow-x:auto;line-height:normal;font-family:Menlo,'DejaVu Sans Mono',consolas,'Courier New',monospace\">┏━━━━━━━━━━━━━━━━━━━━━━━━━━━━━━━━━┳━━━━━━━━━━━━━━━━━━━━━━━━┳━━━━━━━━━━━━━━━┓\n",
              "┃<span style=\"font-weight: bold\"> Layer (type)                    </span>┃<span style=\"font-weight: bold\"> Output Shape           </span>┃<span style=\"font-weight: bold\">       Param # </span>┃\n",
              "┡━━━━━━━━━━━━━━━━━━━━━━━━━━━━━━━━━╇━━━━━━━━━━━━━━━━━━━━━━━━╇━━━━━━━━━━━━━━━┩\n",
              "│ embedding (<span style=\"color: #0087ff; text-decoration-color: #0087ff\">Embedding</span>)           │ (<span style=\"color: #00d7ff; text-decoration-color: #00d7ff\">None</span>, <span style=\"color: #00af00; text-decoration-color: #00af00\">50</span>, <span style=\"color: #00af00; text-decoration-color: #00af00\">128</span>)        │       <span style=\"color: #00af00; text-decoration-color: #00af00\">640,000</span> │\n",
              "├─────────────────────────────────┼────────────────────────┼───────────────┤\n",
              "│ flatten (<span style=\"color: #0087ff; text-decoration-color: #0087ff\">Flatten</span>)               │ (<span style=\"color: #00d7ff; text-decoration-color: #00d7ff\">None</span>, <span style=\"color: #00af00; text-decoration-color: #00af00\">6400</span>)           │             <span style=\"color: #00af00; text-decoration-color: #00af00\">0</span> │\n",
              "├─────────────────────────────────┼────────────────────────┼───────────────┤\n",
              "│ dense (<span style=\"color: #0087ff; text-decoration-color: #0087ff\">Dense</span>)                   │ (<span style=\"color: #00d7ff; text-decoration-color: #00d7ff\">None</span>, <span style=\"color: #00af00; text-decoration-color: #00af00\">64</span>)             │       <span style=\"color: #00af00; text-decoration-color: #00af00\">409,664</span> │\n",
              "├─────────────────────────────────┼────────────────────────┼───────────────┤\n",
              "│ dense_1 (<span style=\"color: #0087ff; text-decoration-color: #0087ff\">Dense</span>)                 │ (<span style=\"color: #00d7ff; text-decoration-color: #00d7ff\">None</span>, <span style=\"color: #00af00; text-decoration-color: #00af00\">1</span>)              │            <span style=\"color: #00af00; text-decoration-color: #00af00\">65</span> │\n",
              "└─────────────────────────────────┴────────────────────────┴───────────────┘\n",
              "</pre>\n"
            ]
          },
          "metadata": {}
        },
        {
          "output_type": "display_data",
          "data": {
            "text/plain": [
              "\u001b[1m Total params: \u001b[0m\u001b[38;5;34m1,869,189\u001b[0m (7.13 MB)\n"
            ],
            "text/html": [
              "<pre style=\"white-space:pre;overflow-x:auto;line-height:normal;font-family:Menlo,'DejaVu Sans Mono',consolas,'Courier New',monospace\"><span style=\"font-weight: bold\"> Total params: </span><span style=\"color: #00af00; text-decoration-color: #00af00\">1,869,189</span> (7.13 MB)\n",
              "</pre>\n"
            ]
          },
          "metadata": {}
        },
        {
          "output_type": "display_data",
          "data": {
            "text/plain": [
              "\u001b[1m Trainable params: \u001b[0m\u001b[38;5;34m409,729\u001b[0m (1.56 MB)\n"
            ],
            "text/html": [
              "<pre style=\"white-space:pre;overflow-x:auto;line-height:normal;font-family:Menlo,'DejaVu Sans Mono',consolas,'Courier New',monospace\"><span style=\"font-weight: bold\"> Trainable params: </span><span style=\"color: #00af00; text-decoration-color: #00af00\">409,729</span> (1.56 MB)\n",
              "</pre>\n"
            ]
          },
          "metadata": {}
        },
        {
          "output_type": "display_data",
          "data": {
            "text/plain": [
              "\u001b[1m Non-trainable params: \u001b[0m\u001b[38;5;34m640,000\u001b[0m (2.44 MB)\n"
            ],
            "text/html": [
              "<pre style=\"white-space:pre;overflow-x:auto;line-height:normal;font-family:Menlo,'DejaVu Sans Mono',consolas,'Courier New',monospace\"><span style=\"font-weight: bold\"> Non-trainable params: </span><span style=\"color: #00af00; text-decoration-color: #00af00\">640,000</span> (2.44 MB)\n",
              "</pre>\n"
            ]
          },
          "metadata": {}
        },
        {
          "output_type": "display_data",
          "data": {
            "text/plain": [
              "\u001b[1m Optimizer params: \u001b[0m\u001b[38;5;34m819,460\u001b[0m (3.13 MB)\n"
            ],
            "text/html": [
              "<pre style=\"white-space:pre;overflow-x:auto;line-height:normal;font-family:Menlo,'DejaVu Sans Mono',consolas,'Courier New',monospace\"><span style=\"font-weight: bold\"> Optimizer params: </span><span style=\"color: #00af00; text-decoration-color: #00af00\">819,460</span> (3.13 MB)\n",
              "</pre>\n"
            ]
          },
          "metadata": {}
        }
      ],
      "source": [
        "\n",
        "import tensorflow as tf\n",
        "from tensorflow.keras.models import Sequential\n",
        "from tensorflow.keras.layers import Dense, Embedding, Flatten\n",
        "\n",
        "model_frozen = Sequential([\n",
        "    Embedding(input_dim=5000, output_dim=128, input_length=50, trainable=False),\n",
        "    Flatten(),\n",
        "    Dense(64, activation='relu'),\n",
        "    Dense(1, activation='sigmoid')\n",
        "])\n",
        "model_frozen.layers[0].trainable = False\n",
        "\n",
        "model_frozen.compile(optimizer='adam', loss='binary_crossentropy', metrics=['accuracy'])\n",
        "\n",
        "history_frozen = model_frozen.fit(\n",
        "    X_train, y_train,\n",
        "    validation_data=(X_val, y_val),\n",
        "    epochs=10,\n",
        "    batch_size=32,\n",
        "    verbose=1\n",
        ")\n",
        "model_frozen.summary()"
      ]
    },
    {
      "cell_type": "code",
      "source": [
        "model_unfrozen = Sequential([\n",
        "    Embedding(input_dim=5000, output_dim=128, input_length=50),\n",
        "    Flatten(),\n",
        "    Dense(64, activation='relu'),\n",
        "    Dense(1, activation='sigmoid')\n",
        "])\n",
        "\n",
        "#Unfreeze embedding layer (it is trainable by default)\n",
        "model_unfrozen.compile(optimizer='adam', loss='binary_crossentropy', metrics=['accuracy'])\n",
        "\n",
        "history_unfrozen = model_unfrozen.fit(\n",
        "    X_train, y_train,\n",
        "    validation_data=(X_val, y_val),\n",
        "    epochs=10,\n",
        "    batch_size=32,\n",
        "    verbose=1\n",
        ")\n",
        "model_unfrozen.summary()"
      ],
      "metadata": {
        "id": "xomQtXmuK-bE",
        "colab": {
          "base_uri": "https://localhost:8080/",
          "height": 656
        },
        "outputId": "3964cccc-341d-4fa4-aeb9-091f2fc16326"
      },
      "id": "xomQtXmuK-bE",
      "execution_count": null,
      "outputs": [
        {
          "output_type": "stream",
          "name": "stdout",
          "text": [
            "Epoch 1/10\n",
            "\u001b[1m217/217\u001b[0m \u001b[32m━━━━━━━━━━━━━━━━━━━━\u001b[0m\u001b[37m\u001b[0m \u001b[1m6s\u001b[0m 15ms/step - accuracy: 0.5545 - loss: 0.6720 - val_accuracy: 0.8735 - val_loss: 0.3227\n",
            "Epoch 2/10\n",
            "\u001b[1m217/217\u001b[0m \u001b[32m━━━━━━━━━━━━━━━━━━━━\u001b[0m\u001b[37m\u001b[0m \u001b[1m2s\u001b[0m 6ms/step - accuracy: 0.8812 - loss: 0.2879 - val_accuracy: 0.9855 - val_loss: 0.0650\n",
            "Epoch 3/10\n",
            "\u001b[1m217/217\u001b[0m \u001b[32m━━━━━━━━━━━━━━━━━━━━\u001b[0m\u001b[37m\u001b[0m \u001b[1m3s\u001b[0m 6ms/step - accuracy: 0.9864 - loss: 0.0574 - val_accuracy: 0.9970 - val_loss: 0.0160\n",
            "Epoch 4/10\n",
            "\u001b[1m217/217\u001b[0m \u001b[32m━━━━━━━━━━━━━━━━━━━━\u001b[0m\u001b[37m\u001b[0m \u001b[1m3s\u001b[0m 7ms/step - accuracy: 0.9972 - loss: 0.0147 - val_accuracy: 0.9990 - val_loss: 0.0062\n",
            "Epoch 5/10\n",
            "\u001b[1m217/217\u001b[0m \u001b[32m━━━━━━━━━━━━━━━━━━━━\u001b[0m\u001b[37m\u001b[0m \u001b[1m1s\u001b[0m 5ms/step - accuracy: 0.9988 - loss: 0.0064 - val_accuracy: 0.9990 - val_loss: 0.0044\n",
            "Epoch 6/10\n",
            "\u001b[1m217/217\u001b[0m \u001b[32m━━━━━━━━━━━━━━━━━━━━\u001b[0m\u001b[37m\u001b[0m \u001b[1m1s\u001b[0m 5ms/step - accuracy: 0.9996 - loss: 0.0033 - val_accuracy: 0.9994 - val_loss: 0.0030\n",
            "Epoch 7/10\n",
            "\u001b[1m217/217\u001b[0m \u001b[32m━━━━━━━━━━━━━━━━━━━━\u001b[0m\u001b[37m\u001b[0m \u001b[1m1s\u001b[0m 4ms/step - accuracy: 0.9996 - loss: 0.0025 - val_accuracy: 0.9991 - val_loss: 0.0025\n",
            "Epoch 8/10\n",
            "\u001b[1m217/217\u001b[0m \u001b[32m━━━━━━━━━━━━━━━━━━━━\u001b[0m\u001b[37m\u001b[0m \u001b[1m1s\u001b[0m 5ms/step - accuracy: 0.9981 - loss: 0.0034 - val_accuracy: 0.9996 - val_loss: 0.0020\n",
            "Epoch 9/10\n",
            "\u001b[1m217/217\u001b[0m \u001b[32m━━━━━━━━━━━━━━━━━━━━\u001b[0m\u001b[37m\u001b[0m \u001b[1m1s\u001b[0m 4ms/step - accuracy: 0.9997 - loss: 0.0020 - val_accuracy: 0.9996 - val_loss: 0.0018\n",
            "Epoch 10/10\n",
            "\u001b[1m217/217\u001b[0m \u001b[32m━━━━━━━━━━━━━━━━━━━━\u001b[0m\u001b[37m\u001b[0m \u001b[1m1s\u001b[0m 5ms/step - accuracy: 0.9997 - loss: 0.0017 - val_accuracy: 0.9994 - val_loss: 0.0026\n"
          ]
        },
        {
          "output_type": "display_data",
          "data": {
            "text/plain": [
              "\u001b[1mModel: \"sequential_1\"\u001b[0m\n"
            ],
            "text/html": [
              "<pre style=\"white-space:pre;overflow-x:auto;line-height:normal;font-family:Menlo,'DejaVu Sans Mono',consolas,'Courier New',monospace\"><span style=\"font-weight: bold\">Model: \"sequential_1\"</span>\n",
              "</pre>\n"
            ]
          },
          "metadata": {}
        },
        {
          "output_type": "display_data",
          "data": {
            "text/plain": [
              "┏━━━━━━━━━━━━━━━━━━━━━━━━━━━━━━━━━┳━━━━━━━━━━━━━━━━━━━━━━━━┳━━━━━━━━━━━━━━━┓\n",
              "┃\u001b[1m \u001b[0m\u001b[1mLayer (type)                   \u001b[0m\u001b[1m \u001b[0m┃\u001b[1m \u001b[0m\u001b[1mOutput Shape          \u001b[0m\u001b[1m \u001b[0m┃\u001b[1m \u001b[0m\u001b[1m      Param #\u001b[0m\u001b[1m \u001b[0m┃\n",
              "┡━━━━━━━━━━━━━━━━━━━━━━━━━━━━━━━━━╇━━━━━━━━━━━━━━━━━━━━━━━━╇━━━━━━━━━━━━━━━┩\n",
              "│ embedding_1 (\u001b[38;5;33mEmbedding\u001b[0m)         │ (\u001b[38;5;45mNone\u001b[0m, \u001b[38;5;34m50\u001b[0m, \u001b[38;5;34m128\u001b[0m)        │       \u001b[38;5;34m640,000\u001b[0m │\n",
              "├─────────────────────────────────┼────────────────────────┼───────────────┤\n",
              "│ flatten_1 (\u001b[38;5;33mFlatten\u001b[0m)             │ (\u001b[38;5;45mNone\u001b[0m, \u001b[38;5;34m6400\u001b[0m)           │             \u001b[38;5;34m0\u001b[0m │\n",
              "├─────────────────────────────────┼────────────────────────┼───────────────┤\n",
              "│ dense_2 (\u001b[38;5;33mDense\u001b[0m)                 │ (\u001b[38;5;45mNone\u001b[0m, \u001b[38;5;34m64\u001b[0m)             │       \u001b[38;5;34m409,664\u001b[0m │\n",
              "├─────────────────────────────────┼────────────────────────┼───────────────┤\n",
              "│ dense_3 (\u001b[38;5;33mDense\u001b[0m)                 │ (\u001b[38;5;45mNone\u001b[0m, \u001b[38;5;34m1\u001b[0m)              │            \u001b[38;5;34m65\u001b[0m │\n",
              "└─────────────────────────────────┴────────────────────────┴───────────────┘\n"
            ],
            "text/html": [
              "<pre style=\"white-space:pre;overflow-x:auto;line-height:normal;font-family:Menlo,'DejaVu Sans Mono',consolas,'Courier New',monospace\">┏━━━━━━━━━━━━━━━━━━━━━━━━━━━━━━━━━┳━━━━━━━━━━━━━━━━━━━━━━━━┳━━━━━━━━━━━━━━━┓\n",
              "┃<span style=\"font-weight: bold\"> Layer (type)                    </span>┃<span style=\"font-weight: bold\"> Output Shape           </span>┃<span style=\"font-weight: bold\">       Param # </span>┃\n",
              "┡━━━━━━━━━━━━━━━━━━━━━━━━━━━━━━━━━╇━━━━━━━━━━━━━━━━━━━━━━━━╇━━━━━━━━━━━━━━━┩\n",
              "│ embedding_1 (<span style=\"color: #0087ff; text-decoration-color: #0087ff\">Embedding</span>)         │ (<span style=\"color: #00d7ff; text-decoration-color: #00d7ff\">None</span>, <span style=\"color: #00af00; text-decoration-color: #00af00\">50</span>, <span style=\"color: #00af00; text-decoration-color: #00af00\">128</span>)        │       <span style=\"color: #00af00; text-decoration-color: #00af00\">640,000</span> │\n",
              "├─────────────────────────────────┼────────────────────────┼───────────────┤\n",
              "│ flatten_1 (<span style=\"color: #0087ff; text-decoration-color: #0087ff\">Flatten</span>)             │ (<span style=\"color: #00d7ff; text-decoration-color: #00d7ff\">None</span>, <span style=\"color: #00af00; text-decoration-color: #00af00\">6400</span>)           │             <span style=\"color: #00af00; text-decoration-color: #00af00\">0</span> │\n",
              "├─────────────────────────────────┼────────────────────────┼───────────────┤\n",
              "│ dense_2 (<span style=\"color: #0087ff; text-decoration-color: #0087ff\">Dense</span>)                 │ (<span style=\"color: #00d7ff; text-decoration-color: #00d7ff\">None</span>, <span style=\"color: #00af00; text-decoration-color: #00af00\">64</span>)             │       <span style=\"color: #00af00; text-decoration-color: #00af00\">409,664</span> │\n",
              "├─────────────────────────────────┼────────────────────────┼───────────────┤\n",
              "│ dense_3 (<span style=\"color: #0087ff; text-decoration-color: #0087ff\">Dense</span>)                 │ (<span style=\"color: #00d7ff; text-decoration-color: #00d7ff\">None</span>, <span style=\"color: #00af00; text-decoration-color: #00af00\">1</span>)              │            <span style=\"color: #00af00; text-decoration-color: #00af00\">65</span> │\n",
              "└─────────────────────────────────┴────────────────────────┴───────────────┘\n",
              "</pre>\n"
            ]
          },
          "metadata": {}
        },
        {
          "output_type": "display_data",
          "data": {
            "text/plain": [
              "\u001b[1m Total params: \u001b[0m\u001b[38;5;34m3,149,189\u001b[0m (12.01 MB)\n"
            ],
            "text/html": [
              "<pre style=\"white-space:pre;overflow-x:auto;line-height:normal;font-family:Menlo,'DejaVu Sans Mono',consolas,'Courier New',monospace\"><span style=\"font-weight: bold\"> Total params: </span><span style=\"color: #00af00; text-decoration-color: #00af00\">3,149,189</span> (12.01 MB)\n",
              "</pre>\n"
            ]
          },
          "metadata": {}
        },
        {
          "output_type": "display_data",
          "data": {
            "text/plain": [
              "\u001b[1m Trainable params: \u001b[0m\u001b[38;5;34m1,049,729\u001b[0m (4.00 MB)\n"
            ],
            "text/html": [
              "<pre style=\"white-space:pre;overflow-x:auto;line-height:normal;font-family:Menlo,'DejaVu Sans Mono',consolas,'Courier New',monospace\"><span style=\"font-weight: bold\"> Trainable params: </span><span style=\"color: #00af00; text-decoration-color: #00af00\">1,049,729</span> (4.00 MB)\n",
              "</pre>\n"
            ]
          },
          "metadata": {}
        },
        {
          "output_type": "display_data",
          "data": {
            "text/plain": [
              "\u001b[1m Non-trainable params: \u001b[0m\u001b[38;5;34m0\u001b[0m (0.00 B)\n"
            ],
            "text/html": [
              "<pre style=\"white-space:pre;overflow-x:auto;line-height:normal;font-family:Menlo,'DejaVu Sans Mono',consolas,'Courier New',monospace\"><span style=\"font-weight: bold\"> Non-trainable params: </span><span style=\"color: #00af00; text-decoration-color: #00af00\">0</span> (0.00 B)\n",
              "</pre>\n"
            ]
          },
          "metadata": {}
        },
        {
          "output_type": "display_data",
          "data": {
            "text/plain": [
              "\u001b[1m Optimizer params: \u001b[0m\u001b[38;5;34m2,099,460\u001b[0m (8.01 MB)\n"
            ],
            "text/html": [
              "<pre style=\"white-space:pre;overflow-x:auto;line-height:normal;font-family:Menlo,'DejaVu Sans Mono',consolas,'Courier New',monospace\"><span style=\"font-weight: bold\"> Optimizer params: </span><span style=\"color: #00af00; text-decoration-color: #00af00\">2,099,460</span> (8.01 MB)\n",
              "</pre>\n"
            ]
          },
          "metadata": {}
        }
      ]
    },
    {
      "cell_type": "code",
      "source": [
        "def plot_history(history, title):\n",
        "    \"\"\"Plots training and validation accuracy/loss.\"\"\"\n",
        "    plt.figure(figsize=(12, 5))\n",
        "\n",
        "    plt.subplot(1, 2, 1)\n",
        "    plt.plot(history.history['accuracy'], label='Training Accuracy')\n",
        "    plt.plot(history.history['val_accuracy'], label='Validation Accuracy')\n",
        "    plt.title(f'{title} - Accuracy')\n",
        "    plt.xlabel('Epoch')\n",
        "    plt.ylabel('Accuracy')\n",
        "    plt.legend()\n",
        "\n",
        "    plt.subplot(1, 2, 2)\n",
        "    plt.plot(history.history['loss'], label='Training Loss')\n",
        "    plt.plot(history.history['val_loss'], label='Validation Loss')\n",
        "    plt.title(f'{title} - Loss')\n",
        "    plt.xlabel('Epoch')\n",
        "    plt.ylabel('Loss')\n",
        "    plt.legend()\n",
        "\n",
        "    plt.show()\n",
        "\n",
        "# Plot the training history of each model\n",
        "plot_history(history_frozen, 'Frozen Embeddings')\n",
        "plot_history(history_unfrozen, 'Unfrozen Embeddings')\n"
      ],
      "metadata": {
        "id": "qiqHE0Iayj_a",
        "colab": {
          "base_uri": "https://localhost:8080/",
          "height": 957
        },
        "outputId": "ffe0ca91-1ac5-4c1c-feb6-a603a930cb97"
      },
      "id": "qiqHE0Iayj_a",
      "execution_count": null,
      "outputs": [
        {
          "output_type": "display_data",
          "data": {
            "text/plain": [
              "<Figure size 1200x500 with 2 Axes>"
            ],
            "image/png": "[encoded data removed]"
          },
          "metadata": {}
        },
        {
          "output_type": "display_data",
          "data": {
            "text/plain": [
              "<Figure size 1200x500 with 2 Axes>"
            ],
            "image/png": "[encoded data removed]"
          },
          "metadata": {}
        }
      ]
    },
    {
      "cell_type": "code",
      "source": [
        "# Convolutional Text Classifier\n",
        "from tensorflow.keras.models import Sequential\n",
        "from tensorflow.keras.layers import Embedding, Conv1D, MaxPooling1D, Flatten, Dense\n",
        "\n",
        "cnn_model = Sequential([\n",
        "    Embedding(input_dim=5000, output_dim=128, input_length=50),\n",
        "    Conv1D(filters=32, kernel_size=3, activation='relu'),\n",
        "    MaxPooling1D(pool_size=2),\n",
        "    Flatten(),\n",
        "    Dense(64, activation='relu'),\n",
        "    Dense(1, activation='sigmoid')\n",
        "])\n",
        "\n",
        "cnn_model.compile(optimizer='adam', loss='binary_crossentropy', metrics=['accuracy'])\n",
        "\n",
        "cnn_history = cnn_model.fit(\n",
        "    X_train, y_train,\n",
        "    validation_data=(X_val, y_val),\n",
        "    epochs=10,\n",
        "    batch_size=32,\n",
        "    verbose=1\n",
        ")\n",
        "cnn_model.summary()"
      ],
      "metadata": {
        "id": "tsTWPKPCdDHq",
        "colab": {
          "base_uri": "https://localhost:8080/",
          "height": 724
        },
        "outputId": "2bfe6db3-2706-45d4-8e45-54ed96cb9ef0"
      },
      "id": "tsTWPKPCdDHq",
      "execution_count": null,
      "outputs": [
        {
          "output_type": "stream",
          "name": "stdout",
          "text": [
            "Epoch 1/10\n",
            "\u001b[1m217/217\u001b[0m \u001b[32m━━━━━━━━━━━━━━━━━━━━\u001b[0m\u001b[37m\u001b[0m \u001b[1m7s\u001b[0m 15ms/step - accuracy: 0.5791 - loss: 0.6681 - val_accuracy: 0.8763 - val_loss: 0.3208\n",
            "Epoch 2/10\n",
            "\u001b[1m217/217\u001b[0m \u001b[32m━━━━━━━━━━━━━━━━━━━━\u001b[0m\u001b[37m\u001b[0m \u001b[1m1s\u001b[0m 6ms/step - accuracy: 0.8797 - loss: 0.2966 - val_accuracy: 0.9639 - val_loss: 0.1410\n",
            "Epoch 3/10\n",
            "\u001b[1m217/217\u001b[0m \u001b[32m━━━━━━━━━━━━━━━━━━━━\u001b[0m\u001b[37m\u001b[0m \u001b[1m1s\u001b[0m 6ms/step - accuracy: 0.9718 - loss: 0.1063 - val_accuracy: 0.9941 - val_loss: 0.0305\n",
            "Epoch 4/10\n",
            "\u001b[1m217/217\u001b[0m \u001b[32m━━━━━━━━━━━━━━━━━━━━\u001b[0m\u001b[37m\u001b[0m \u001b[1m3s\u001b[0m 6ms/step - accuracy: 0.9945 - loss: 0.0264 - val_accuracy: 0.9971 - val_loss: 0.0160\n",
            "Epoch 5/10\n",
            "\u001b[1m217/217\u001b[0m \u001b[32m━━━━━━━━━━━━━━━━━━━━\u001b[0m\u001b[37m\u001b[0m \u001b[1m3s\u001b[0m 6ms/step - accuracy: 0.9977 - loss: 0.0117 - val_accuracy: 0.9990 - val_loss: 0.0044\n",
            "Epoch 6/10\n",
            "\u001b[1m217/217\u001b[0m \u001b[32m━━━━━━━━━━━━━━━━━━━━\u001b[0m\u001b[37m\u001b[0m \u001b[1m1s\u001b[0m 6ms/step - accuracy: 0.9986 - loss: 0.0051 - val_accuracy: 0.9993 - val_loss: 0.0031\n",
            "Epoch 7/10\n",
            "\u001b[1m217/217\u001b[0m \u001b[32m━━━━━━━━━━━━━━━━━━━━\u001b[0m\u001b[37m\u001b[0m \u001b[1m2s\u001b[0m 10ms/step - accuracy: 0.9987 - loss: 0.0038 - val_accuracy: 0.9994 - val_loss: 0.0022\n",
            "Epoch 8/10\n",
            "\u001b[1m217/217\u001b[0m \u001b[32m━━━━━━━━━━━━━━━━━━━━\u001b[0m\u001b[37m\u001b[0m \u001b[1m2s\u001b[0m 6ms/step - accuracy: 0.9994 - loss: 0.0023 - val_accuracy: 0.9996 - val_loss: 0.0018\n",
            "Epoch 9/10\n",
            "\u001b[1m217/217\u001b[0m \u001b[32m━━━━━━━━━━━━━━━━━━━━\u001b[0m\u001b[37m\u001b[0m \u001b[1m1s\u001b[0m 6ms/step - accuracy: 0.9992 - loss: 0.0029 - val_accuracy: 0.9993 - val_loss: 0.0018\n",
            "Epoch 10/10\n",
            "\u001b[1m217/217\u001b[0m \u001b[32m━━━━━━━━━━━━━━━━━━━━\u001b[0m\u001b[37m\u001b[0m \u001b[1m1s\u001b[0m 6ms/step - accuracy: 0.9995 - loss: 0.0015 - val_accuracy: 0.9990 - val_loss: 0.0019\n"
          ]
        },
        {
          "output_type": "display_data",
          "data": {
            "text/plain": [
              "\u001b[1mModel: \"sequential_2\"\u001b[0m\n"
            ],
            "text/html": [
              "<pre style=\"white-space:pre;overflow-x:auto;line-height:normal;font-family:Menlo,'DejaVu Sans Mono',consolas,'Courier New',monospace\"><span style=\"font-weight: bold\">Model: \"sequential_2\"</span>\n",
              "</pre>\n"
            ]
          },
          "metadata": {}
        },
        {
          "output_type": "display_data",
          "data": {
            "text/plain": [
              "┏━━━━━━━━━━━━━━━━━━━━━━━━━━━━━━━━━┳━━━━━━━━━━━━━━━━━━━━━━━━┳━━━━━━━━━━━━━━━┓\n",
              "┃\u001b[1m \u001b[0m\u001b[1mLayer (type)                   \u001b[0m\u001b[1m \u001b[0m┃\u001b[1m \u001b[0m\u001b[1mOutput Shape          \u001b[0m\u001b[1m \u001b[0m┃\u001b[1m \u001b[0m\u001b[1m      Param #\u001b[0m\u001b[1m \u001b[0m┃\n",
              "┡━━━━━━━━━━━━━━━━━━━━━━━━━━━━━━━━━╇━━━━━━━━━━━━━━━━━━━━━━━━╇━━━━━━━━━━━━━━━┩\n",
              "│ embedding_2 (\u001b[38;5;33mEmbedding\u001b[0m)         │ (\u001b[38;5;45mNone\u001b[0m, \u001b[38;5;34m50\u001b[0m, \u001b[38;5;34m128\u001b[0m)        │       \u001b[38;5;34m640,000\u001b[0m │\n",
              "├─────────────────────────────────┼────────────────────────┼───────────────┤\n",
              "│ conv1d (\u001b[38;5;33mConv1D\u001b[0m)                 │ (\u001b[38;5;45mNone\u001b[0m, \u001b[38;5;34m48\u001b[0m, \u001b[38;5;34m32\u001b[0m)         │        \u001b[38;5;34m12,320\u001b[0m │\n",
              "├─────────────────────────────────┼────────────────────────┼───────────────┤\n",
              "│ max_pooling1d (\u001b[38;5;33mMaxPooling1D\u001b[0m)    │ (\u001b[38;5;45mNone\u001b[0m, \u001b[38;5;34m24\u001b[0m, \u001b[38;5;34m32\u001b[0m)         │             \u001b[38;5;34m0\u001b[0m │\n",
              "├─────────────────────────────────┼────────────────────────┼───────────────┤\n",
              "│ flatten_2 (\u001b[38;5;33mFlatten\u001b[0m)             │ (\u001b[38;5;45mNone\u001b[0m, \u001b[38;5;34m768\u001b[0m)            │             \u001b[38;5;34m0\u001b[0m │\n",
              "├─────────────────────────────────┼────────────────────────┼───────────────┤\n",
              "│ dense_4 (\u001b[38;5;33mDense\u001b[0m)                 │ (\u001b[38;5;45mNone\u001b[0m, \u001b[38;5;34m64\u001b[0m)             │        \u001b[38;5;34m49,216\u001b[0m │\n",
              "├─────────────────────────────────┼────────────────────────┼───────────────┤\n",
              "│ dense_5 (\u001b[38;5;33mDense\u001b[0m)                 │ (\u001b[38;5;45mNone\u001b[0m, \u001b[38;5;34m1\u001b[0m)              │            \u001b[38;5;34m65\u001b[0m │\n",
              "└─────────────────────────────────┴────────────────────────┴───────────────┘\n"
            ],
            "text/html": [
              "<pre style=\"white-space:pre;overflow-x:auto;line-height:normal;font-family:Menlo,'DejaVu Sans Mono',consolas,'Courier New',monospace\">┏━━━━━━━━━━━━━━━━━━━━━━━━━━━━━━━━━┳━━━━━━━━━━━━━━━━━━━━━━━━┳━━━━━━━━━━━━━━━┓\n",
              "┃<span style=\"font-weight: bold\"> Layer (type)                    </span>┃<span style=\"font-weight: bold\"> Output Shape           </span>┃<span style=\"font-weight: bold\">       Param # </span>┃\n",
              "┡━━━━━━━━━━━━━━━━━━━━━━━━━━━━━━━━━╇━━━━━━━━━━━━━━━━━━━━━━━━╇━━━━━━━━━━━━━━━┩\n",
              "│ embedding_2 (<span style=\"color: #0087ff; text-decoration-color: #0087ff\">Embedding</span>)         │ (<span style=\"color: #00d7ff; text-decoration-color: #00d7ff\">None</span>, <span style=\"color: #00af00; text-decoration-color: #00af00\">50</span>, <span style=\"color: #00af00; text-decoration-color: #00af00\">128</span>)        │       <span style=\"color: #00af00; text-decoration-color: #00af00\">640,000</span> │\n",
              "├─────────────────────────────────┼────────────────────────┼───────────────┤\n",
              "│ conv1d (<span style=\"color: #0087ff; text-decoration-color: #0087ff\">Conv1D</span>)                 │ (<span style=\"color: #00d7ff; text-decoration-color: #00d7ff\">None</span>, <span style=\"color: #00af00; text-decoration-color: #00af00\">48</span>, <span style=\"color: #00af00; text-decoration-color: #00af00\">32</span>)         │        <span style=\"color: #00af00; text-decoration-color: #00af00\">12,320</span> │\n",
              "├─────────────────────────────────┼────────────────────────┼───────────────┤\n",
              "│ max_pooling1d (<span style=\"color: #0087ff; text-decoration-color: #0087ff\">MaxPooling1D</span>)    │ (<span style=\"color: #00d7ff; text-decoration-color: #00d7ff\">None</span>, <span style=\"color: #00af00; text-decoration-color: #00af00\">24</span>, <span style=\"color: #00af00; text-decoration-color: #00af00\">32</span>)         │             <span style=\"color: #00af00; text-decoration-color: #00af00\">0</span> │\n",
              "├─────────────────────────────────┼────────────────────────┼───────────────┤\n",
              "│ flatten_2 (<span style=\"color: #0087ff; text-decoration-color: #0087ff\">Flatten</span>)             │ (<span style=\"color: #00d7ff; text-decoration-color: #00d7ff\">None</span>, <span style=\"color: #00af00; text-decoration-color: #00af00\">768</span>)            │             <span style=\"color: #00af00; text-decoration-color: #00af00\">0</span> │\n",
              "├─────────────────────────────────┼────────────────────────┼───────────────┤\n",
              "│ dense_4 (<span style=\"color: #0087ff; text-decoration-color: #0087ff\">Dense</span>)                 │ (<span style=\"color: #00d7ff; text-decoration-color: #00d7ff\">None</span>, <span style=\"color: #00af00; text-decoration-color: #00af00\">64</span>)             │        <span style=\"color: #00af00; text-decoration-color: #00af00\">49,216</span> │\n",
              "├─────────────────────────────────┼────────────────────────┼───────────────┤\n",
              "│ dense_5 (<span style=\"color: #0087ff; text-decoration-color: #0087ff\">Dense</span>)                 │ (<span style=\"color: #00d7ff; text-decoration-color: #00d7ff\">None</span>, <span style=\"color: #00af00; text-decoration-color: #00af00\">1</span>)              │            <span style=\"color: #00af00; text-decoration-color: #00af00\">65</span> │\n",
              "└─────────────────────────────────┴────────────────────────┴───────────────┘\n",
              "</pre>\n"
            ]
          },
          "metadata": {}
        },
        {
          "output_type": "display_data",
          "data": {
            "text/plain": [
              "\u001b[1m Total params: \u001b[0m\u001b[38;5;34m2,104,805\u001b[0m (8.03 MB)\n"
            ],
            "text/html": [
              "<pre style=\"white-space:pre;overflow-x:auto;line-height:normal;font-family:Menlo,'DejaVu Sans Mono',consolas,'Courier New',monospace\"><span style=\"font-weight: bold\"> Total params: </span><span style=\"color: #00af00; text-decoration-color: #00af00\">2,104,805</span> (8.03 MB)\n",
              "</pre>\n"
            ]
          },
          "metadata": {}
        },
        {
          "output_type": "display_data",
          "data": {
            "text/plain": [
              "\u001b[1m Trainable params: \u001b[0m\u001b[38;5;34m701,601\u001b[0m (2.68 MB)\n"
            ],
            "text/html": [
              "<pre style=\"white-space:pre;overflow-x:auto;line-height:normal;font-family:Menlo,'DejaVu Sans Mono',consolas,'Courier New',monospace\"><span style=\"font-weight: bold\"> Trainable params: </span><span style=\"color: #00af00; text-decoration-color: #00af00\">701,601</span> (2.68 MB)\n",
              "</pre>\n"
            ]
          },
          "metadata": {}
        },
        {
          "output_type": "display_data",
          "data": {
            "text/plain": [
              "\u001b[1m Non-trainable params: \u001b[0m\u001b[38;5;34m0\u001b[0m (0.00 B)\n"
            ],
            "text/html": [
              "<pre style=\"white-space:pre;overflow-x:auto;line-height:normal;font-family:Menlo,'DejaVu Sans Mono',consolas,'Courier New',monospace\"><span style=\"font-weight: bold\"> Non-trainable params: </span><span style=\"color: #00af00; text-decoration-color: #00af00\">0</span> (0.00 B)\n",
              "</pre>\n"
            ]
          },
          "metadata": {}
        },
        {
          "output_type": "display_data",
          "data": {
            "text/plain": [
              "\u001b[1m Optimizer params: \u001b[0m\u001b[38;5;34m1,403,204\u001b[0m (5.35 MB)\n"
            ],
            "text/html": [
              "<pre style=\"white-space:pre;overflow-x:auto;line-height:normal;font-family:Menlo,'DejaVu Sans Mono',consolas,'Courier New',monospace\"><span style=\"font-weight: bold\"> Optimizer params: </span><span style=\"color: #00af00; text-decoration-color: #00af00\">1,403,204</span> (5.35 MB)\n",
              "</pre>\n"
            ]
          },
          "metadata": {}
        }
      ]
    },
    {
      "cell_type": "code",
      "source": [
        "kernel_sizes = [2, 3, 4, 5]\n",
        "\n",
        "for k in kernel_sizes:\n",
        "    print(f\"Testing kernel_size: {k}\")\n",
        "    model = Sequential([\n",
        "        Embedding(input_dim=5000, output_dim=128, input_length=50),\n",
        "        Conv1D(filters=32, kernel_size=k, activation='relu'),\n",
        "        MaxPooling1D(pool_size=2),\n",
        "        Flatten(),\n",
        "        Dense(64, activation='relu'),\n",
        "        Dense(1, activation='sigmoid')\n",
        "    ])\n",
        "    model.compile(optimizer='adam', loss='binary_crossentropy', metrics=['accuracy'])\n",
        "    history = model.fit(X_train, y_train, validation_data=(X_val, y_val), epochs=10, batch_size=32, verbose=0)\n",
        "    val_acc = history.history['val_accuracy'][-1]\n",
        "    print(f\"Validation Accuracy: {val_acc:.4f}\")\n"
      ],
      "metadata": {
        "id": "uA9xwpHOvmjO",
        "colab": {
          "base_uri": "https://localhost:8080/"
        },
        "outputId": "834139aa-f5a3-4552-85b6-4a75be79fdd2"
      },
      "id": "uA9xwpHOvmjO",
      "execution_count": null,
      "outputs": [
        {
          "output_type": "stream",
          "name": "stdout",
          "text": [
            "Testing kernel_size: 2\n",
            "Validation Accuracy: 0.9993\n",
            "Testing kernel_size: 3\n",
            "Validation Accuracy: 0.9994\n",
            "Testing kernel_size: 4\n",
            "Validation Accuracy: 0.9996\n",
            "Testing kernel_size: 5\n",
            "Validation Accuracy: 0.9996\n"
          ]
        }
      ]
    },
    {
      "cell_type": "markdown",
      "source": [
        "Although all tested kernel sizes performed well, kernel size 3 was selected because it consistently showed strong validation accuracy within a sound range of kernals, and it usually showed the highest validation accuracy."
      ],
      "metadata": {
        "id": "rh7cofCfxbEQ"
      },
      "id": "rh7cofCfxbEQ"
    },
    {
      "cell_type": "code",
      "source": [
        "filter_nums = [16, 32, 64, 128]\n",
        "\n",
        "for f in filter_nums:\n",
        "    print(f\"Testing filters: {f}\")\n",
        "    model = Sequential([\n",
        "        Embedding(input_dim=5000, output_dim=128, input_length=50),\n",
        "        Conv1D(filters=f, kernel_size=3, activation='relu'),\n",
        "        MaxPooling1D(pool_size=2),\n",
        "        Flatten(),\n",
        "        Dense(64, activation='relu'),\n",
        "        Dense(1, activation='sigmoid')\n",
        "    ])\n",
        "    model.compile(optimizer='adam', loss='binary_crossentropy', metrics=['accuracy'])\n",
        "    history = model.fit(X_train, y_train, validation_data=(X_val, y_val), epochs=10, batch_size=32, verbose=0)\n",
        "    val_acc = history.history['val_accuracy'][-1]\n",
        "    print(f\"Validation Accuracy: {val_acc:.4f}\")"
      ],
      "metadata": {
        "id": "fP_MiMwXySFu",
        "colab": {
          "base_uri": "https://localhost:8080/"
        },
        "outputId": "95fc23ba-6e04-4dbc-9c59-e5eff2b6cb94"
      },
      "id": "fP_MiMwXySFu",
      "execution_count": null,
      "outputs": [
        {
          "output_type": "stream",
          "name": "stdout",
          "text": [
            "Testing filters: 16\n",
            "Validation Accuracy: 0.9996\n",
            "Testing filters: 32\n",
            "Validation Accuracy: 0.9994\n",
            "Testing filters: 64\n",
            "Validation Accuracy: 0.9993\n",
            "Testing filters: 128\n",
            "Validation Accuracy: 0.9994\n"
          ]
        }
      ]
    },
    {
      "cell_type": "markdown",
      "source": [
        "We tested various filter sizes of 16, 32, 64, and 128. We observed that all configurations showed excellent validation accuracy. We eventually selected 32 filters because of the consideration of keeping high performance and reducing the risk of overfitting."
      ],
      "metadata": {
        "id": "kwOtSe8ozcCb"
      },
      "id": "kwOtSe8ozcCb"
    },
    {
      "cell_type": "markdown",
      "id": "46e754a1",
      "metadata": {
        "id": "46e754a1"
      },
      "source": [
        "## Part 5 – Transfer Learning & Advanced Architectures"
      ]
    },
    {
      "cell_type": "markdown",
      "id": "b07a6987",
      "metadata": {
        "id": "b07a6987"
      },
      "source": [
        "\n",
        "1. **Pre-trained Embeddings**  \n",
        "    - Retrain one network using pre-trained GloVe (or FastText) embeddings.\n",
        "    - Compare results against your from-scratch embedding runs.\n",
        "    "
      ]
    },
    {
      "cell_type": "code",
      "source": [
        "# download GloVe embeddings\n",
        "!wget http://nlp.stanford.edu/data/glove.6B.zip\n",
        "!unzip glove.6B.zip"
      ],
      "metadata": {
        "id": "5XPkiU8WrJpT",
        "colab": {
          "base_uri": "https://localhost:8080/"
        },
        "outputId": "bb50a66a-d8ab-40ab-f24d-4e9973e4928f"
      },
      "id": "5XPkiU8WrJpT",
      "execution_count": null,
      "outputs": [
        {
          "output_type": "stream",
          "name": "stdout",
          "text": [
            "--2025-05-13 00:02:57--  http://nlp.stanford.edu/data/glove.6B.zip\n",
            "Resolving nlp.stanford.edu (nlp.stanford.edu)... 171.64.67.140\n",
            "Connecting to nlp.stanford.edu (nlp.stanford.edu)|171.64.67.140|:80... connected.\n",
            "HTTP request sent, awaiting response... 302 Found\n",
            "Location: https://nlp.stanford.edu/data/glove.6B.zip [following]\n",
            "--2025-05-13 00:02:58--  https://nlp.stanford.edu/data/glove.6B.zip\n",
            "Connecting to nlp.stanford.edu (nlp.stanford.edu)|171.64.67.140|:443... connected.\n",
            "HTTP request sent, awaiting response... 301 Moved Permanently\n",
            "Location: https://downloads.cs.stanford.edu/nlp/data/glove.6B.zip [following]\n",
            "--2025-05-13 00:02:58--  https://downloads.cs.stanford.edu/nlp/data/glove.6B.zip\n",
            "Resolving downloads.cs.stanford.edu (downloads.cs.stanford.edu)... 171.64.64.22\n",
            "Connecting to downloads.cs.stanford.edu (downloads.cs.stanford.edu)|171.64.64.22|:443... connected.\n",
            "HTTP request sent, awaiting response... 200 OK\n",
            "Length: 862182613 (822M) [application/zip]\n",
            "Saving to: ‘glove.6B.zip.2’\n",
            "\n",
            "glove.6B.zip.2      100%[===================>] 822.24M  5.11MB/s    in 3m 0s   \n",
            "\n",
            "2025-05-13 00:05:59 (4.58 MB/s) - ‘glove.6B.zip.2’ saved [862182613/862182613]\n",
            "\n",
            "Archive:  glove.6B.zip\n",
            "replace glove.6B.50d.txt? [y]es, [n]o, [A]ll, [N]one, [r]ename: N\n"
          ]
        }
      ]
    },
    {
      "cell_type": "code",
      "source": [
        "from tensorflow.keras import backend as K\n",
        "K.clear_session()\n"
      ],
      "metadata": {
        "id": "aXgSioEHwxfI"
      },
      "id": "aXgSioEHwxfI",
      "execution_count": null,
      "outputs": []
    },
    {
      "cell_type": "code",
      "execution_count": null,
      "id": "81bf1b81",
      "metadata": {
        "id": "81bf1b81",
        "colab": {
          "base_uri": "https://localhost:8080/",
          "height": 357
        },
        "outputId": "4d4a9916-3a37-4f62-9eaf-4b7807f87868"
      },
      "outputs": [
        {
          "output_type": "display_data",
          "data": {
            "text/plain": [
              "\u001b[1mModel: \"sequential_10\"\u001b[0m\n"
            ],
            "text/html": [
              "<pre style=\"white-space:pre;overflow-x:auto;line-height:normal;font-family:Menlo,'DejaVu Sans Mono',consolas,'Courier New',monospace\"><span style=\"font-weight: bold\">Model: \"sequential_10\"</span>\n",
              "</pre>\n"
            ]
          },
          "metadata": {}
        },
        {
          "output_type": "display_data",
          "data": {
            "text/plain": [
              "┏━━━━━━━━━━━━━━━━━━━━━━━━━━━━━━━━━┳━━━━━━━━━━━━━━━━━━━━━━━━┳━━━━━━━━━━━━━━━┓\n",
              "┃\u001b[1m \u001b[0m\u001b[1mLayer (type)                   \u001b[0m\u001b[1m \u001b[0m┃\u001b[1m \u001b[0m\u001b[1mOutput Shape          \u001b[0m\u001b[1m \u001b[0m┃\u001b[1m \u001b[0m\u001b[1m      Param #\u001b[0m\u001b[1m \u001b[0m┃\n",
              "┡━━━━━━━━━━━━━━━━━━━━━━━━━━━━━━━━━╇━━━━━━━━━━━━━━━━━━━━━━━━╇━━━━━━━━━━━━━━━┩\n",
              "│ embedding_10 (\u001b[38;5;33mEmbedding\u001b[0m)        │ (\u001b[38;5;45mNone\u001b[0m, \u001b[38;5;34m50\u001b[0m, \u001b[38;5;34m128\u001b[0m)        │       \u001b[38;5;34m640,000\u001b[0m │\n",
              "├─────────────────────────────────┼────────────────────────┼───────────────┤\n",
              "│ conv1d_8 (\u001b[38;5;33mConv1D\u001b[0m)               │ (\u001b[38;5;45mNone\u001b[0m, \u001b[38;5;34m48\u001b[0m, \u001b[38;5;34m128\u001b[0m)        │        \u001b[38;5;34m49,280\u001b[0m │\n",
              "├─────────────────────────────────┼────────────────────────┼───────────────┤\n",
              "│ max_pooling1d_8 (\u001b[38;5;33mMaxPooling1D\u001b[0m)  │ (\u001b[38;5;45mNone\u001b[0m, \u001b[38;5;34m24\u001b[0m, \u001b[38;5;34m128\u001b[0m)        │             \u001b[38;5;34m0\u001b[0m │\n",
              "├─────────────────────────────────┼────────────────────────┼───────────────┤\n",
              "│ flatten_10 (\u001b[38;5;33mFlatten\u001b[0m)            │ (\u001b[38;5;45mNone\u001b[0m, \u001b[38;5;34m3072\u001b[0m)           │             \u001b[38;5;34m0\u001b[0m │\n",
              "├─────────────────────────────────┼────────────────────────┼───────────────┤\n",
              "│ dense_20 (\u001b[38;5;33mDense\u001b[0m)                │ (\u001b[38;5;45mNone\u001b[0m, \u001b[38;5;34m64\u001b[0m)             │       \u001b[38;5;34m196,672\u001b[0m │\n",
              "├─────────────────────────────────┼────────────────────────┼───────────────┤\n",
              "│ dense_21 (\u001b[38;5;33mDense\u001b[0m)                │ (\u001b[38;5;45mNone\u001b[0m, \u001b[38;5;34m1\u001b[0m)              │            \u001b[38;5;34m65\u001b[0m │\n",
              "└─────────────────────────────────┴────────────────────────┴───────────────┘\n"
            ],
            "text/html": [
              "<pre style=\"white-space:pre;overflow-x:auto;line-height:normal;font-family:Menlo,'DejaVu Sans Mono',consolas,'Courier New',monospace\">┏━━━━━━━━━━━━━━━━━━━━━━━━━━━━━━━━━┳━━━━━━━━━━━━━━━━━━━━━━━━┳━━━━━━━━━━━━━━━┓\n",
              "┃<span style=\"font-weight: bold\"> Layer (type)                    </span>┃<span style=\"font-weight: bold\"> Output Shape           </span>┃<span style=\"font-weight: bold\">       Param # </span>┃\n",
              "┡━━━━━━━━━━━━━━━━━━━━━━━━━━━━━━━━━╇━━━━━━━━━━━━━━━━━━━━━━━━╇━━━━━━━━━━━━━━━┩\n",
              "│ embedding_10 (<span style=\"color: #0087ff; text-decoration-color: #0087ff\">Embedding</span>)        │ (<span style=\"color: #00d7ff; text-decoration-color: #00d7ff\">None</span>, <span style=\"color: #00af00; text-decoration-color: #00af00\">50</span>, <span style=\"color: #00af00; text-decoration-color: #00af00\">128</span>)        │       <span style=\"color: #00af00; text-decoration-color: #00af00\">640,000</span> │\n",
              "├─────────────────────────────────┼────────────────────────┼───────────────┤\n",
              "│ conv1d_8 (<span style=\"color: #0087ff; text-decoration-color: #0087ff\">Conv1D</span>)               │ (<span style=\"color: #00d7ff; text-decoration-color: #00d7ff\">None</span>, <span style=\"color: #00af00; text-decoration-color: #00af00\">48</span>, <span style=\"color: #00af00; text-decoration-color: #00af00\">128</span>)        │        <span style=\"color: #00af00; text-decoration-color: #00af00\">49,280</span> │\n",
              "├─────────────────────────────────┼────────────────────────┼───────────────┤\n",
              "│ max_pooling1d_8 (<span style=\"color: #0087ff; text-decoration-color: #0087ff\">MaxPooling1D</span>)  │ (<span style=\"color: #00d7ff; text-decoration-color: #00d7ff\">None</span>, <span style=\"color: #00af00; text-decoration-color: #00af00\">24</span>, <span style=\"color: #00af00; text-decoration-color: #00af00\">128</span>)        │             <span style=\"color: #00af00; text-decoration-color: #00af00\">0</span> │\n",
              "├─────────────────────────────────┼────────────────────────┼───────────────┤\n",
              "│ flatten_10 (<span style=\"color: #0087ff; text-decoration-color: #0087ff\">Flatten</span>)            │ (<span style=\"color: #00d7ff; text-decoration-color: #00d7ff\">None</span>, <span style=\"color: #00af00; text-decoration-color: #00af00\">3072</span>)           │             <span style=\"color: #00af00; text-decoration-color: #00af00\">0</span> │\n",
              "├─────────────────────────────────┼────────────────────────┼───────────────┤\n",
              "│ dense_20 (<span style=\"color: #0087ff; text-decoration-color: #0087ff\">Dense</span>)                │ (<span style=\"color: #00d7ff; text-decoration-color: #00d7ff\">None</span>, <span style=\"color: #00af00; text-decoration-color: #00af00\">64</span>)             │       <span style=\"color: #00af00; text-decoration-color: #00af00\">196,672</span> │\n",
              "├─────────────────────────────────┼────────────────────────┼───────────────┤\n",
              "│ dense_21 (<span style=\"color: #0087ff; text-decoration-color: #0087ff\">Dense</span>)                │ (<span style=\"color: #00d7ff; text-decoration-color: #00d7ff\">None</span>, <span style=\"color: #00af00; text-decoration-color: #00af00\">1</span>)              │            <span style=\"color: #00af00; text-decoration-color: #00af00\">65</span> │\n",
              "└─────────────────────────────────┴────────────────────────┴───────────────┘\n",
              "</pre>\n"
            ]
          },
          "metadata": {}
        },
        {
          "output_type": "display_data",
          "data": {
            "text/plain": [
              "\u001b[1m Total params: \u001b[0m\u001b[38;5;34m2,658,053\u001b[0m (10.14 MB)\n"
            ],
            "text/html": [
              "<pre style=\"white-space:pre;overflow-x:auto;line-height:normal;font-family:Menlo,'DejaVu Sans Mono',consolas,'Courier New',monospace\"><span style=\"font-weight: bold\"> Total params: </span><span style=\"color: #00af00; text-decoration-color: #00af00\">2,658,053</span> (10.14 MB)\n",
              "</pre>\n"
            ]
          },
          "metadata": {}
        },
        {
          "output_type": "display_data",
          "data": {
            "text/plain": [
              "\u001b[1m Trainable params: \u001b[0m\u001b[38;5;34m886,017\u001b[0m (3.38 MB)\n"
            ],
            "text/html": [
              "<pre style=\"white-space:pre;overflow-x:auto;line-height:normal;font-family:Menlo,'DejaVu Sans Mono',consolas,'Courier New',monospace\"><span style=\"font-weight: bold\"> Trainable params: </span><span style=\"color: #00af00; text-decoration-color: #00af00\">886,017</span> (3.38 MB)\n",
              "</pre>\n"
            ]
          },
          "metadata": {}
        },
        {
          "output_type": "display_data",
          "data": {
            "text/plain": [
              "\u001b[1m Non-trainable params: \u001b[0m\u001b[38;5;34m0\u001b[0m (0.00 B)\n"
            ],
            "text/html": [
              "<pre style=\"white-space:pre;overflow-x:auto;line-height:normal;font-family:Menlo,'DejaVu Sans Mono',consolas,'Courier New',monospace\"><span style=\"font-weight: bold\"> Non-trainable params: </span><span style=\"color: #00af00; text-decoration-color: #00af00\">0</span> (0.00 B)\n",
              "</pre>\n"
            ]
          },
          "metadata": {}
        },
        {
          "output_type": "display_data",
          "data": {
            "text/plain": [
              "\u001b[1m Optimizer params: \u001b[0m\u001b[38;5;34m1,772,036\u001b[0m (6.76 MB)\n"
            ],
            "text/html": [
              "<pre style=\"white-space:pre;overflow-x:auto;line-height:normal;font-family:Menlo,'DejaVu Sans Mono',consolas,'Courier New',monospace\"><span style=\"font-weight: bold\"> Optimizer params: </span><span style=\"color: #00af00; text-decoration-color: #00af00\">1,772,036</span> (6.76 MB)\n",
              "</pre>\n"
            ]
          },
          "metadata": {}
        }
      ],
      "source": [
        "\n",
        "# Assuming GloVe embeddings are loaded here\n",
        "import numpy as np\n",
        "from tensorflow.keras.layers import Embedding\n",
        "\n",
        "embedding_index = {}\n",
        "with open(\"glove.6B.100d.txt\", encoding='utf8') as f:\n",
        "    for line in f:\n",
        "        values = line.split()\n",
        "        word = values[0]\n",
        "        vector = np.asarray(values[1:], dtype='float32')\n",
        "        embedding_index[word] = vector\n",
        "\n",
        "\n",
        "embedding_dim = 100\n",
        "word_index = tokenizer.word_index\n",
        "num_words = min(5000, len(word_index) + 1)\n",
        "\n",
        "K.clear_session()\n",
        "embedding_matrix = np.zeros((num_words, embedding_dim))\n",
        "for word, i in word_index.items():\n",
        "    if i < num_words:\n",
        "        embedding_vector = embedding_index.get(word.lower())\n",
        "        if embedding_vector is not None:\n",
        "            embedding_matrix[i] = embedding_vector\n",
        "\n",
        "model_glove = Sequential()\n",
        "embedding_layer = Embedding(input_dim=5000, output_dim=embedding_dim, weights=[embedding_matrix], trainable=False)\n",
        "model_glove.add(embedding_layer)\n",
        "model_glove.add(Conv1D(filters=32, kernel_size=3, activation='relu'))\n",
        "model_glove.add(MaxPooling1D(pool_size=2))\n",
        "model_glove.add(Flatten())\n",
        "model_glove.add(Dense(64, activation='relu'))\n",
        "model_glove.add(Dense(1, activation='sigmoid'))\n",
        "model.summary()\n"
      ]
    },
    {
      "cell_type": "code",
      "source": [
        "model_glove.compile(optimizer='adam', loss='binary_crossentropy', metrics=['accuracy'])\n",
        "\n",
        "history_glove = model_glove.fit(\n",
        "    X_train, y_train,\n",
        "    validation_data=(X_val, y_val),\n",
        "    epochs=10,\n",
        "    batch_size=32,\n",
        "    verbose=1\n",
        ")\n"
      ],
      "metadata": {
        "id": "t-wbd_0J12d4",
        "colab": {
          "base_uri": "https://localhost:8080/"
        },
        "outputId": "9acec769-ea0b-463f-acef-56b46b638941"
      },
      "id": "t-wbd_0J12d4",
      "execution_count": null,
      "outputs": [
        {
          "output_type": "stream",
          "name": "stdout",
          "text": [
            "Epoch 1/10\n",
            "\u001b[1m217/217\u001b[0m \u001b[32m━━━━━━━━━━━━━━━━━━━━\u001b[0m\u001b[37m\u001b[0m \u001b[1m5s\u001b[0m 12ms/step - accuracy: 0.5900 - loss: 0.6716 - val_accuracy: 0.7479 - val_loss: 0.5153\n",
            "Epoch 2/10\n",
            "\u001b[1m217/217\u001b[0m \u001b[32m━━━━━━━━━━━━━━━━━━━━\u001b[0m\u001b[37m\u001b[0m \u001b[1m2s\u001b[0m 9ms/step - accuracy: 0.7633 - loss: 0.4966 - val_accuracy: 0.8115 - val_loss: 0.4120\n",
            "Epoch 3/10\n",
            "\u001b[1m217/217\u001b[0m \u001b[32m━━━━━━━━━━━━━━━━━━━━\u001b[0m\u001b[37m\u001b[0m \u001b[1m2s\u001b[0m 7ms/step - accuracy: 0.8000 - loss: 0.4355 - val_accuracy: 0.8545 - val_loss: 0.3481\n",
            "Epoch 4/10\n",
            "\u001b[1m217/217\u001b[0m \u001b[32m━━━━━━━━━━━━━━━━━━━━\u001b[0m\u001b[37m\u001b[0m \u001b[1m2s\u001b[0m 5ms/step - accuracy: 0.8393 - loss: 0.3680 - val_accuracy: 0.8757 - val_loss: 0.2953\n",
            "Epoch 5/10\n",
            "\u001b[1m217/217\u001b[0m \u001b[32m━━━━━━━━━━━━━━━━━━━━\u001b[0m\u001b[37m\u001b[0m \u001b[1m1s\u001b[0m 5ms/step - accuracy: 0.8777 - loss: 0.2933 - val_accuracy: 0.9170 - val_loss: 0.2299\n",
            "Epoch 6/10\n",
            "\u001b[1m217/217\u001b[0m \u001b[32m━━━━━━━━━━━━━━━━━━━━\u001b[0m\u001b[37m\u001b[0m \u001b[1m1s\u001b[0m 5ms/step - accuracy: 0.9114 - loss: 0.2344 - val_accuracy: 0.9442 - val_loss: 0.1737\n",
            "Epoch 7/10\n",
            "\u001b[1m217/217\u001b[0m \u001b[32m━━━━━━━━━━━━━━━━━━━━\u001b[0m\u001b[37m\u001b[0m \u001b[1m1s\u001b[0m 5ms/step - accuracy: 0.9367 - loss: 0.1785 - val_accuracy: 0.9639 - val_loss: 0.1390\n",
            "Epoch 8/10\n",
            "\u001b[1m217/217\u001b[0m \u001b[32m━━━━━━━━━━━━━━━━━━━━\u001b[0m\u001b[37m\u001b[0m \u001b[1m1s\u001b[0m 5ms/step - accuracy: 0.9510 - loss: 0.1479 - val_accuracy: 0.9714 - val_loss: 0.0964\n",
            "Epoch 9/10\n",
            "\u001b[1m217/217\u001b[0m \u001b[32m━━━━━━━━━━━━━━━━━━━━\u001b[0m\u001b[37m\u001b[0m \u001b[1m1s\u001b[0m 5ms/step - accuracy: 0.9637 - loss: 0.1083 - val_accuracy: 0.9753 - val_loss: 0.0920\n",
            "Epoch 10/10\n",
            "\u001b[1m217/217\u001b[0m \u001b[32m━━━━━━━━━━━━━━━━━━━━\u001b[0m\u001b[37m\u001b[0m \u001b[1m1s\u001b[0m 5ms/step - accuracy: 0.9718 - loss: 0.0866 - val_accuracy: 0.9894 - val_loss: 0.0528\n"
          ]
        }
      ]
    },
    {
      "cell_type": "code",
      "source": [
        "plot_history(history_frozen, 'Frozen Embeddings')\n",
        "plot_history(history_unfrozen, 'Unfrozen Embeddings')\n",
        "plot_history(history_glove, 'Glove Embeddings')"
      ],
      "metadata": {
        "id": "IsmFzDE_2xj0",
        "colab": {
          "base_uri": "https://localhost:8080/",
          "height": 1000
        },
        "outputId": "e50aa22d-2daf-4b0c-e1a3-dbb99d548e12"
      },
      "id": "IsmFzDE_2xj0",
      "execution_count": null,
      "outputs": [
        {
          "output_type": "display_data",
          "data": {
            "text/plain": [
              "<Figure size 1200x500 with 2 Axes>"
            ],
            "image/png": "[encoded data removed]"
          },
          "metadata": {}
        },
        {
          "output_type": "display_data",
          "data": {
            "text/plain": [
              "<Figure size 1200x500 with 2 Axes>"
            ],
            "image/png": "[encoded data removed]"
          },
          "metadata": {}
        },
        {
          "output_type": "display_data",
          "data": {
            "text/plain": [
              "<Figure size 1200x500 with 2 Axes>"
            ],
            "image/png": "[encoded data removed]"
          },
          "metadata": {}
        }
      ]
    },
    {
      "cell_type": "markdown",
      "source": [
        "The use of pre-trained GloVe embeddings significantly improved model performance The validation accuracy exceeded 98% within a few epochs, and both training and validation loss decreased steadily without signs of overfitting."
      ],
      "metadata": {
        "id": "2qjouGWU5RnN"
      },
      "id": "2qjouGWU5RnN"
    },
    {
      "cell_type": "code",
      "source": [
        "K.clear_session()"
      ],
      "metadata": {
        "id": "kGYk2UqH7mrp"
      },
      "id": "kGYk2UqH7mrp",
      "execution_count": null,
      "outputs": []
    },
    {
      "cell_type": "code",
      "source": [
        "# Transformer Fine-Tuning\n",
        "!pip install transformers datasets evaluate scikit-learn -q"
      ],
      "metadata": {
        "id": "KsHLBaH88TfV"
      },
      "id": "KsHLBaH88TfV",
      "execution_count": null,
      "outputs": []
    },
    {
      "cell_type": "code",
      "source": [
        "from transformers import BertTokenizer, BertForSequenceClassification, Trainer, TrainingArguments\n",
        "from datasets import load_dataset\n",
        "import evaluate\n",
        "import numpy as np\n",
        "import torch\n",
        "from sklearn.metrics import confusion_matrix, ConfusionMatrixDisplay\n",
        "import matplotlib.pyplot as plt\n",
        "from datasets import Dataset\n",
        "import datasets.formatting.formatting as formatting\n",
        "\n"
      ],
      "metadata": {
        "id": "AogiIGzz5YlM"
      },
      "id": "AogiIGzz5YlM",
      "execution_count": null,
      "outputs": []
    },
    {
      "cell_type": "code",
      "source": [
        "train_dataset = Dataset.from_pandas(train_df)\n",
        "val_dataset = Dataset.from_pandas(val_df)\n",
        "test_dataset = Dataset.from_pandas(test_df)"
      ],
      "metadata": {
        "id": "PCmrmKVL8Qd7"
      },
      "id": "PCmrmKVL8Qd7",
      "execution_count": null,
      "outputs": []
    },
    {
      "cell_type": "code",
      "source": [
        "import torch\n",
        "\n",
        "def tokenize_function(example):\n",
        "    return tokenizer(example[\"sentence\"], truncation=True, padding=\"max_length\", max_length=128)\n",
        "\n",
        "train_dataset = train_dataset.map(tokenize_function, batched=True)\n",
        "val_dataset = val_dataset.map(tokenize_function, batched=True)\n",
        "test_dataset = test_dataset.map(tokenize_function, batched=True)\n",
        "\n"
      ],
      "metadata": {
        "colab": {
          "base_uri": "https://localhost:8080/",
          "height": 113,
          "referenced_widgets": [
            "c8a59ea8161a4e83b08db651c0c5385c",
            "255f365da3e94fc18313da3398fbe011",
            "bbb13e3c97384ad39151f92eed35bf11",
            "ca8f0ebd764e44fe9057f73a43f4852d",
            "b8281dcb905d41c6af1239d910b9921b",
            "18d559e322444d539cb16655856a9c13",
            "1548d2217a4849afaa1f5043b0a36425",
            "5bbae0f332f84827a3c0e3ebec86c691",
            "76d11cfd476346c89e92b8505cc996db",
            "a3016cec302c4e1097c06056e50821c7",
            "e4d983f8364b449499e49a29978ce530",
            "20106079763942ba9fb054efdc6d6eb6",
            "95843709840e43d99fc128652ed957d9",
            "2f54b7bb6a7d4670b07e5f1980acec60",
            "774db850aa284ed8b946e87e5a5748b1",
            "5b34e0676a454614be384c967a67f48d",
            "a1bbca7be7414eff86f6ba19abb943a1",
            "7bad147395ac45e2b86bd77db81f9ee0",
            "ce69543829584275a41e1bb955fb4f8b",
            "08278c8a617b431189d17920b82f6966",
            "58d331384d7a4732813776e1e4e6a79c",
            "9e7432fd58c942ffb51ca3c872b8275a",
            "7f7fe173a285482ab09a6ea2ac695250",
            "3704c47b413b490d947a6f23692de895",
            "7105daeaf19a44d2881b4e7f6d4c24b4",
            "d2b3b2ba1cea4f6cacd3d2ade76b7d1c",
            "e065d7f2917648399a9ddea934a76681",
            "d76a3629e32c47a2b8f3c3cb3aebde7a",
            "99c948b4219e4cf9b12f03673463a7ad",
            "cb718dc237ea4bb88e030e1fa83298d5",
            "da916f3388e942e7a4ad8a2c33af3878",
            "b4315006680a43ac99e376af8d4d6576",
            "5ea56afe352243beb083189b35fe1aee"
          ]
        },
        "id": "ciKmvI9B8YiP",
        "outputId": "c8418f78-fb9e-4ec5-fbbf-d8b2cc1de30e"
      },
      "id": "ciKmvI9B8YiP",
      "execution_count": null,
      "outputs": [
        {
          "output_type": "display_data",
          "data": {
            "text/plain": [
              "Map:   0%|          | 0/6919 [00:00<?, ? examples/s]"
            ],
            "application/vnd.jupyter.widget-view+json": {
              "version_major": 2,
              "version_minor": 0,
              "model_id": "c8a59ea8161a4e83b08db651c0c5385c"
            }
          },
          "metadata": {}
        },
        {
          "output_type": "display_data",
          "data": {
            "text/plain": [
              "Map:   0%|          | 0/871 [00:00<?, ? examples/s]"
            ],
            "application/vnd.jupyter.widget-view+json": {
              "version_major": 2,
              "version_minor": 0,
              "model_id": "20106079763942ba9fb054efdc6d6eb6"
            }
          },
          "metadata": {}
        },
        {
          "output_type": "display_data",
          "data": {
            "text/plain": [
              "Map:   0%|          | 0/872 [00:00<?, ? examples/s]"
            ],
            "application/vnd.jupyter.widget-view+json": {
              "version_major": 2,
              "version_minor": 0,
              "model_id": "7f7fe173a285482ab09a6ea2ac695250"
            }
          },
          "metadata": {}
        }
      ]
    },
    {
      "cell_type": "code",
      "source": [
        "def compute_metrics(eval_pred):\n",
        "    metric = evaluate.load(\"accuracy\")\n",
        "    logits, labels = eval_pred\n",
        "    # logits is already a numpy array, no need for cpu() or detach()\n",
        "    predictions = np.argmax(logits, axis=-1)\n",
        "    return metric.compute(predictions=predictions, references=labels)"
      ],
      "metadata": {
        "id": "xHpnWY4J6WbT"
      },
      "id": "xHpnWY4J6WbT",
      "execution_count": null,
      "outputs": []
    },
    {
      "cell_type": "code",
      "source": [
        "training_args = TrainingArguments(\n",
        "    output_dir=\"./results\",\n",
        "    eval_strategy=\"epoch\",\n",
        "    per_device_train_batch_size=16,\n",
        "    per_device_eval_batch_size=16,\n",
        "    num_train_epochs=5,\n",
        "    weight_decay=0.05,\n",
        "    learning_rate=2e-5,\n",
        "    save_strategy=\"epoch\",\n",
        "    load_best_model_at_end=True,\n",
        "    metric_for_best_model=\"accuracy\",\n",
        "    logging_steps=50,\n",
        "    report_to=\"none\"  # Set to 'tensorboard' if you want logging\n",
        ")\n",
        "\n",
        "# Trainer setup\n",
        "trainer = Trainer(\n",
        "    model=model,\n",
        "    args=training_args,\n",
        "    train_dataset=train_dataset,\n",
        "    eval_dataset=val_dataset,\n",
        "    compute_metrics=compute_metrics,\n",
        ")\n",
        "\n",
        "# Train the model\n",
        "print(\"\\nStarting training...\")\n",
        "trainer.train()"
      ],
      "metadata": {
        "colab": {
          "base_uri": "https://localhost:8080/",
          "height": 306
        },
        "id": "qCGbb-Mh8ncy",
        "outputId": "50c0e798-b894-45ba-b742-44d068fe318e"
      },
      "id": "qCGbb-Mh8ncy",
      "execution_count": null,
      "outputs": [
        {
          "output_type": "stream",
          "name": "stdout",
          "text": [
            "\n",
            "Starting training...\n"
          ]
        },
        {
          "output_type": "display_data",
          "data": {
            "text/plain": [
              "<IPython.core.display.HTML object>"
            ],
            "text/html": [
              "\n",
              "    <div>\n",
              "      \n",
              "      <progress value='2165' max='2165' style='width:300px; height:20px; vertical-align: middle;'></progress>\n",
              "      [2165/2165 13:59, Epoch 5/5]\n",
              "    </div>\n",
              "    <table border=\"1\" class=\"dataframe\">\n",
              "  <thead>\n",
              " <tr style=\"text-align: left;\">\n",
              "      <th>Epoch</th>\n",
              "      <th>Training Loss</th>\n",
              "      <th>Validation Loss</th>\n",
              "      <th>Accuracy</th>\n",
              "    </tr>\n",
              "  </thead>\n",
              "  <tbody>\n",
              "    <tr>\n",
              "      <td>1</td>\n",
              "      <td>0.065100</td>\n",
              "      <td>0.492201</td>\n",
              "      <td>0.905855</td>\n",
              "    </tr>\n",
              "    <tr>\n",
              "      <td>2</td>\n",
              "      <td>0.134300</td>\n",
              "      <td>0.371613</td>\n",
              "      <td>0.911596</td>\n",
              "    </tr>\n",
              "    <tr>\n",
              "      <td>3</td>\n",
              "      <td>0.062900</td>\n",
              "      <td>0.519075</td>\n",
              "      <td>0.915040</td>\n",
              "    </tr>\n",
              "    <tr>\n",
              "      <td>4</td>\n",
              "      <td>0.011100</td>\n",
              "      <td>0.532765</td>\n",
              "      <td>0.921929</td>\n",
              "    </tr>\n",
              "    <tr>\n",
              "      <td>5</td>\n",
              "      <td>0.006700</td>\n",
              "      <td>0.559222</td>\n",
              "      <td>0.917336</td>\n",
              "    </tr>\n",
              "  </tbody>\n",
              "</table><p>"
            ]
          },
          "metadata": {}
        },
        {
          "output_type": "execute_result",
          "data": {
            "text/plain": [
              "TrainOutput(global_step=2165, training_loss=0.05898544772014056, metrics={'train_runtime': 840.1039, 'train_samples_per_second': 41.179, 'train_steps_per_second': 2.577, 'total_flos': 2275581740044800.0, 'train_loss': 0.05898544772014056, 'epoch': 5.0})"
            ]
          },
          "metadata": {},
          "execution_count": 53
        }
      ]
    },
    {
      "cell_type": "code",
      "source": [
        "# Evaluate\n",
        "print(\"\\nEvaluation results:\")\n",
        "metrics = trainer.evaluate()\n",
        "print(f\"Validation accuracy: {metrics['eval_accuracy']:.4f}\")\n",
        "print(f\"Validation loss: {metrics['eval_loss']:.4f}\")\n",
        "\n",
        "# Confusion matrix\n",
        "predictions = trainer.predict(test_dataset)\n",
        "preds = np.argmax(predictions.predictions, axis=-1)\n",
        "true_labels = test_dataset[\"label\"]\n",
        "\n",
        "cm = confusion_matrix(true_labels, preds)\n",
        "disp = ConfusionMatrixDisplay(confusion_matrix=cm, display_labels=['Negative', 'Positive'])\n",
        "disp.plot()\n",
        "plt.title(\"Confusion Matrix\")\n",
        "plt.show()"
      ],
      "metadata": {
        "colab": {
          "base_uri": "https://localhost:8080/",
          "height": 545
        },
        "id": "AkMr0p4-Cgsf",
        "outputId": "eed25a2a-6d4d-40c0-9b5b-627ad535bf94"
      },
      "id": "AkMr0p4-Cgsf",
      "execution_count": null,
      "outputs": [
        {
          "output_type": "stream",
          "name": "stdout",
          "text": [
            "\n",
            "Evaluation results:\n"
          ]
        },
        {
          "output_type": "display_data",
          "data": {
            "text/plain": [
              "<IPython.core.display.HTML object>"
            ],
            "text/html": []
          },
          "metadata": {}
        },
        {
          "output_type": "stream",
          "name": "stdout",
          "text": [
            "Validation accuracy: 0.9219\n",
            "Validation loss: 0.5328\n"
          ]
        },
        {
          "output_type": "display_data",
          "data": {
            "text/plain": [
              "<Figure size 640x480 with 2 Axes>"
            ],
            "image/png": "[encoded data removed]"
          },
          "metadata": {}
        }
      ]
    },
    {
      "cell_type": "markdown",
      "source": [
        "Learning rate = 2e-5\n",
        "\n",
        "\n",
        "This is a commonly recommended starting point when fine-tuning BERT. It's low enough to prevent catastrophic forgetting of pre-trained knowledge, while still allowing the model to adapt to the new task.\n",
        "\n",
        "Batch size = 16\n",
        "\n",
        "\n",
        "A moderate batch size helps balance training stability and memory efficiency. Smaller batches (like 16 or 32) are often used in NLP tasks because of the large size of BERT models and hardware limitations.\n",
        "\n",
        "Epochs = 5\n",
        "\n",
        "\n",
        "With a pre-trained model like BERT, fewer epochs are typically enough (such as 3). Five epochs allow the model to converge without overfitting, especially when early stopping or validation monitoring is used."
      ],
      "metadata": {
        "id": "VitIVXPFEn1F"
      },
      "id": "VitIVXPFEn1F"
    },
    {
      "cell_type": "markdown",
      "id": "77ebb164",
      "metadata": {
        "id": "77ebb164"
      },
      "source": [
        "## Part 6 – Hyperparameter Optimization"
      ]
    },
    {
      "cell_type": "markdown",
      "id": "e818e1cb",
      "metadata": {
        "id": "e818e1cb"
      },
      "source": [
        "\n",
        "1. **Search Strategy**  \n",
        "    - Use a library (e.g., Keras Tuner, Optuna) to optimize at least two hyperparameters of one deep model.\n",
        "    - Describe your search space and stopping criteria.\n",
        "    "
      ]
    },
    {
      "cell_type": "code",
      "source": [
        "!pip install keras-tuner -q"
      ],
      "metadata": {
        "colab": {
          "base_uri": "https://localhost:8080/"
        },
        "id": "GbhNmvi4GO_X",
        "outputId": "e81aa5b0-5608-4fe3-b07e-592824fab815"
      },
      "id": "GbhNmvi4GO_X",
      "execution_count": null,
      "outputs": [
        {
          "output_type": "stream",
          "name": "stdout",
          "text": [
            "\u001b[?25l   \u001b[90m━━━━━━━━━━━━━━━━━━━━━━━━━━━━━━━━━━━━━━━━\u001b[0m \u001b[32m0.0/129.1 kB\u001b[0m \u001b[31m?\u001b[0m eta \u001b[36m-:--:--\u001b[0m\r\u001b[2K   \u001b[90m━━━━━━━━━━━━━━━━━━━━━━━━━━━━━━━━━━━━━━━━\u001b[0m \u001b[32m129.1/129.1 kB\u001b[0m \u001b[31m9.7 MB/s\u001b[0m eta \u001b[36m0:00:00\u001b[0m\n",
            "\u001b[?25h"
          ]
        }
      ]
    },
    {
      "cell_type": "code",
      "execution_count": null,
      "id": "fddc9c89",
      "metadata": {
        "id": "fddc9c89",
        "colab": {
          "base_uri": "https://localhost:8080/"
        },
        "outputId": "59dd64fa-34c5-4e46-bb57-8a72cc09e8a9"
      },
      "outputs": [
        {
          "output_type": "stream",
          "name": "stdout",
          "text": [
            "Trial 10 Complete [00h 00m 15s]\n",
            "val_accuracy: 0.5500794649124146\n",
            "\n",
            "Best val_accuracy So Far: 0.6230669021606445\n",
            "Total elapsed time: 00h 03m 17s\n"
          ]
        }
      ],
      "source": [
        "from tensorflow.keras.models import Sequential\n",
        "from tensorflow.keras.layers import Dense\n",
        "from tensorflow.keras.optimizers import Adam\n",
        "from keras_tuner import RandomSearch\n",
        "import matplotlib.pyplot as plt\n",
        "\n",
        "def build_model(hp):\n",
        "    model = Sequential([\n",
        "        Flatten(input_shape=(50,)), # Flatten the input to match Dense layer\n",
        "        Dense(hp.Int('units', min_value=32, max_value=128, step=32), activation='relu'),\n",
        "        Dense(1, activation='sigmoid')\n",
        "    ])\n",
        "    model.compile(\n",
        "        optimizer=Adam(learning_rate=hp.Choice('learning_rate', values=[1e-2, 1e-3, 1e-4])),\n",
        "        loss='binary_crossentropy',\n",
        "        metrics=['accuracy']\n",
        "    )\n",
        "    return model\n",
        "\n",
        "tuner = RandomSearch(\n",
        "    build_model,\n",
        "    objective='val_accuracy',\n",
        "    max_trials=10,\n",
        "    executions_per_trial=1,\n",
        "    directory='tuner_results',\n",
        "    project_name='sentiment_tuning'\n",
        ")\n",
        "\n",
        "tuner.search(X_train, y_train, epochs=10, validation_data=(X_val, y_val))\n"
      ]
    },
    {
      "cell_type": "markdown",
      "source": [
        "We used Keras Tuner’s RandomSearch to tune two hyperparameters: the number of units in the hidden layer from 32 to 128, and the learning rate: 1e-2, 1e-3, 1e-4. We set the stopping criteria as a maximum of 10 trials, with each configuration evaluated once. This provided a balance between exploration and runtime efficiency."
      ],
      "metadata": {
        "id": "ed0F8pgbIxdq"
      },
      "id": "ed0F8pgbIxdq"
    },
    {
      "cell_type": "code",
      "source": [
        "# report best hyperparameters\n",
        "best_hps = tuner.get_best_hyperparameters(num_trials=1)[0]\n",
        "print(\"Best hyperparameter configuration:\")\n",
        "print(f\"Units: {best_hps.get('units')}\")\n",
        "print(f\"Learning rate: {best_hps.get('learning_rate')}\")\n",
        "\n",
        "# plot validation accuracy vs. trials\n",
        "import matplotlib.pyplot as plt\n",
        "\n",
        "# extract trial scores and trial numbers\n",
        "val_accuracies = [trial.score for trial in tuner.oracle.trials.values()]\n",
        "trial_ids = list(range(1, len(val_accuracies) + 1))\n",
        "\n",
        "plt.figure(figsize=(8, 5))\n",
        "plt.plot(trial_ids, val_accuracies, marker='o')\n",
        "plt.xlabel(\"Trial\")\n",
        "plt.ylabel(\"Validation Accuracy\")\n",
        "plt.title(\"Validation Accuracy vs. Trials\")\n",
        "plt.grid(True)\n",
        "plt.show()\n"
      ],
      "metadata": {
        "colab": {
          "base_uri": "https://localhost:8080/",
          "height": 542
        },
        "id": "RYRN26bLISHI",
        "outputId": "aba42f4a-df1e-4ca7-e31f-6d678ae36f66"
      },
      "id": "RYRN26bLISHI",
      "execution_count": null,
      "outputs": [
        {
          "output_type": "stream",
          "name": "stdout",
          "text": [
            "Best hyperparameter configuration:\n",
            "Units: 96\n",
            "Learning rate: 0.001\n"
          ]
        },
        {
          "output_type": "display_data",
          "data": {
            "text/plain": [
              "<Figure size 800x500 with 1 Axes>"
            ],
            "image/png": "[encoded data removed]"
          },
          "metadata": {}
        }
      ]
    },
    {
      "cell_type": "markdown",
      "source": [
        " The best configuration found was 96 units with a learning rate of 0.001. The tuning process was visualized using a plot of validation accuracy across trials, showing how model performance changed with different hyperparameter settings.\n",
        "\n"
      ],
      "metadata": {
        "id": "r9SEgquWKmr2"
      },
      "id": "r9SEgquWKmr2"
    },
    {
      "cell_type": "markdown",
      "id": "d4f8d57d",
      "metadata": {
        "id": "d4f8d57d"
      },
      "source": [
        "## Part 7 – Final Comparison & Error Analysis"
      ]
    },
    {
      "cell_type": "markdown",
      "id": "e1ebe4b5",
      "metadata": {
        "id": "e1ebe4b5"
      },
      "source": [
        "\n",
        "1. **Consolidated Results**  \n",
        "    - Tabulate all models' performances on the test set (accuracy, F1, etc.)\n",
        "    - Identify the best-performing model and its hyperparameters.\n",
        "    "
      ]
    },
    {
      "cell_type": "code",
      "source": [
        "# === Part 7: Final Comparison & Error Analysis ===\n",
        "\n",
        "import numpy as np\n",
        "from sklearn.metrics import accuracy_score, confusion_matrix\n",
        "from statsmodels.stats.contingency_tables import mcnemar\n",
        "import matplotlib.pyplot as plt\n",
        "import seaborn as sns\n",
        "\n",
        "\n",
        "\n",
        "results = {\n",
        "    \"TF-IDF + Logistic\": {\"y_true\": y_test, \"y_pred\": tfidf_preds},\n",
        "    \"LSTM\": {\"y_true\": y_test, \"y_pred\": lstm_preds},\n",
        "    \"BERT\": {\"y_true\": y_test, \"y_pred\": bert_preds},\n",
        "}\n",
        "\n",
        "# 1. Consolidated Results\n",
        "print(\"Consolidated Results:\")\n",
        "summary = []\n",
        "for model_name, data in results.items():\n",
        "    acc = accuracy_score(data[\"y_true\"], data[\"y_pred\"])\n",
        "    summary.append((model_name, acc))\n",
        "    print(f\"{model_name}: Accuracy = {acc:.4f}\")\n",
        "\n",
        "# Sort and display top performers\n",
        "summary.sort(key=lambda x: x[1], reverse=True)\n",
        "top_model_name = summary[0][0]\n",
        "second_best_model_name = summary[1][0]\n",
        "\n",
        "# 2. Statistical Significance: McNemar's Test\n",
        "print(\"\\nStatistical Significance (McNemar's Test):\")\n",
        "y_true = results[top_model_name][\"y_true\"]\n",
        "y_pred_1 = results[top_model_name][\"y_pred\"]\n",
        "y_pred_2 = results[second_best_model_name][\"y_pred\"]\n",
        "\n",
        "tb = confusion_matrix(y_pred_1 == y_true, y_pred_2 == y_true)\n",
        "result = mcnemar(tb, exact=False)\n",
        "print(f\"McNemar Test p-value: {result.pvalue:.4f}\")\n",
        "if result.pvalue < 0.05:\n",
        "    print(\"=> Statistically significant difference.\")\n",
        "else:\n",
        "    print(\"=> No significant difference.\")\n",
        "\n",
        "# 3. Error Analysis\n",
        "print(\"\\nError Analysis:\")\n",
        "y_pred = results[top_model_name][\"y_pred\"]\n",
        "misclassified_indices = [i for i, (p, t) in enumerate(zip(y_pred, y_true)) if p != t]\n",
        "print(f\"Total Misclassifications: {len(misclassified_indices)}\")\n",
        "print(\"Sample of 5 misclassified examples:\")\n",
        "\n",
        "for idx in misclassified_indices[:5]:\n",
        "    text = test_df.iloc[idx]['sentence']\n",
        "    true_label = y_true[idx]\n",
        "    pred_label = y_pred[idx]\n",
        "    print(f\"Text: {text}\")\n",
        "    print(f\"True Label: {true_label}, Predicted: {pred_label}\")\n",
        "    print(\"Analysis: Possibly confused due to sarcasm, negation, or ambiguous sentiment.\")\n",
        "    print(\"------\")"
      ],
      "metadata": {
        "colab": {
          "base_uri": "https://localhost:8080/",
          "height": 221
        },
        "id": "K_qkJFsEFd6V",
        "outputId": "a89b4a9a-f0f9-46c7-e113-a9a61449c19b",
        "collapsed": true
      },
      "id": "K_qkJFsEFd6V",
      "execution_count": null,
      "outputs": [
        {
          "output_type": "error",
          "ename": "NameError",
          "evalue": "name 'lstm_preds' is not defined",
          "traceback": [
            "\u001b[0;31m---------------------------------------------------------------------------\u001b[0m",
            "\u001b[0;31mNameError\u001b[0m                                 Traceback (most recent call last)",
            "\u001b[0;32m<ipython-input-72-1070bd38246b>\u001b[0m in \u001b[0;36m<cell line: 0>\u001b[0;34m()\u001b[0m\n\u001b[1;32m     14\u001b[0m results = {\n\u001b[1;32m     15\u001b[0m     \u001b[0;34m\"TF-IDF + Logistic\"\u001b[0m\u001b[0;34m:\u001b[0m \u001b[0;34m{\u001b[0m\u001b[0;34m\"y_true\"\u001b[0m\u001b[0;34m:\u001b[0m \u001b[0my_test\u001b[0m\u001b[0;34m,\u001b[0m \u001b[0;34m\"y_pred\"\u001b[0m\u001b[0;34m:\u001b[0m \u001b[0mtfidf_preds\u001b[0m\u001b[0;34m}\u001b[0m\u001b[0;34m,\u001b[0m\u001b[0;34m\u001b[0m\u001b[0;34m\u001b[0m\u001b[0m\n\u001b[0;32m---> 16\u001b[0;31m     \u001b[0;34m\"LSTM\"\u001b[0m\u001b[0;34m:\u001b[0m \u001b[0;34m{\u001b[0m\u001b[0;34m\"y_true\"\u001b[0m\u001b[0;34m:\u001b[0m \u001b[0my_test\u001b[0m\u001b[0;34m,\u001b[0m \u001b[0;34m\"y_pred\"\u001b[0m\u001b[0;34m:\u001b[0m \u001b[0mlstm_preds\u001b[0m\u001b[0;34m}\u001b[0m\u001b[0;34m,\u001b[0m\u001b[0;34m\u001b[0m\u001b[0;34m\u001b[0m\u001b[0m\n\u001b[0m\u001b[1;32m     17\u001b[0m     \u001b[0;34m\"BERT\"\u001b[0m\u001b[0;34m:\u001b[0m \u001b[0;34m{\u001b[0m\u001b[0;34m\"y_true\"\u001b[0m\u001b[0;34m:\u001b[0m \u001b[0my_test\u001b[0m\u001b[0;34m,\u001b[0m \u001b[0;34m\"y_pred\"\u001b[0m\u001b[0;34m:\u001b[0m \u001b[0mbert_preds\u001b[0m\u001b[0;34m}\u001b[0m\u001b[0;34m,\u001b[0m\u001b[0;34m\u001b[0m\u001b[0;34m\u001b[0m\u001b[0m\n\u001b[1;32m     18\u001b[0m }\n",
            "\u001b[0;31mNameError\u001b[0m: name 'lstm_preds' is not defined"
          ]
        }
      ]
    },
    {
      "cell_type": "markdown",
      "id": "5b6be916",
      "metadata": {
        "id": "5b6be916"
      },
      "source": [
        "## Part 8 – Optional Challenge Extensions"
      ]
    },
    {
      "cell_type": "markdown",
      "id": "ff04a7ef",
      "metadata": {
        "id": "ff04a7ef"
      },
      "source": [
        "\n",
        "1. **Data Augmentation**  \n",
        "    - Implement data augmentation for text (back-translation, synonym swapping) and measure its impact.\n",
        "    "
      ]
    },
    {
      "cell_type": "code",
      "execution_count": null,
      "id": "b9dfbfdc",
      "metadata": {
        "id": "b9dfbfdc"
      },
      "outputs": [],
      "source": [
        "\n",
        "from nltk.corpus import wordnet\n",
        "import random\n",
        "\n",
        "def synonym_augment(sentence, n=2):\n",
        "    words = sentence.split()\n",
        "    new_words = words.copy()\n",
        "    for _ in range(n):\n",
        "        word_choices = [word for word in new_words if len(wordnet.synsets(word)) > 0]\n",
        "        if not word_choices:\n",
        "            continue\n",
        "        word_to_replace = random.choice(word_choices)\n",
        "        synonyms = wordnet.synsets(word_to_replace)\n",
        "        lemmas = [l.name() for s in synonyms for l in s.lemmas()]\n",
        "        if lemmas:\n",
        "            new_word = random.choice(lemmas).replace(\"_\", \" \")\n",
        "            new_words = [new_word if w == word_to_replace else w for w in new_words]\n",
        "    return \" \".join(new_words)\n",
        "\n"
      ]
    },
    {
      "cell_type": "markdown",
      "id": "1628897c",
      "metadata": {
        "id": "1628897c"
      },
      "source": [
        "---"
      ]
    },
    {
      "cell_type": "markdown",
      "id": "ab03a368",
      "metadata": {
        "id": "ab03a368"
      },
      "source": [
        "# Reflecting\n",
        "\n",
        "\n",
        "**Answer the following inference questions:**\n",
        "\n",
        "\n",
        "\n",
        "### Part 1 – Data Ingestion & Preprocessing\n",
        "\n",
        "1. **Data Loading**  \n",
        "   - How do you ensure that your dataset is properly split into training, validation, and test sets, and why is class balance important during data splitting?\n",
        "\n",
        "   Answer:Proper splitting is done using stratified sampling to preserve the proportion of classes in all subsets.\n",
        "\n",
        "2. **Text Cleaning & Tokenization**  \n",
        "   - What is the role of tokenization in text preprocessing, and how does it impact the model's performance?\n",
        "\n",
        "   Answer:Good tokenization preserves meaning, handles punctuation/noise, and ensures consistent vocabulary mapping, directly impacting feature quality and thus model performance.\n",
        "\n",
        "\n",
        "\n",
        "### Part 2 – Exploratory Data Analysis (EDA)\n",
        "\n",
        "1. **Class Distribution**  \n",
        "   - How does the class distribution (positive vs negative reviews) impact the model’s performance, and what strategies can be used if the dataset is imbalanced?\n",
        "\n",
        "   Answer:Imbalanced class distribution can lead to a model that favors the majority class and underperforms on the minority. For this, we can class weighting in the loss function and use metrics like F1-score instead of accuracy for evaluation.\n",
        "\n",
        "2. **Text Characteristics**  \n",
        "   - What insights can be gained from visualizing word clouds for each sentiment class, and how can it improve feature engineering?\n",
        "\n",
        "   Answer:Word clouds highlight the most frequent words in each sentiment class, helping to identify class-specific language patterns. These insights guide feature engineering, such as adding custom lexicons, refining tokenization, or emphasizing important n-grams in traditional or neural models.\n",
        "\n",
        "\n",
        "### Part 3 – Baseline Traditional Models\n",
        "\n",
        "1. **Logistic Regression & SVM**  \n",
        "   - Why do you use cross-validation when training models like logistic regression or SVM, and how does it help prevent overfitting?\n",
        "\n",
        "   Answer: It provides a more reliable performance estimate and helps in hyperparameter tuning without overfitting to a single validation split.We ensure the model generalizes well to unseen data\n",
        "\n",
        "2. **Random Forest & Gradient Boosting**  \n",
        "   - What role does feature importance play in interpreting Random Forest or XGBoost models?\n",
        "\n",
        "   Answer:Identifying potential spurious correlations or biases and Guiding feature selection or simplification.\n",
        "\n",
        "\n",
        "\n",
        "### Part 4 – Neural Network Models\n",
        "\n",
        "1. **Simple Feed-Forward**  \n",
        "   - Why is embedding freezing used when training neural networks on pre-trained embeddings, and how does it affect model performance?\n",
        "   \n",
        "   Answer:Freezing embeddings helps prevent overfitting when data is limited. In the graph, frozen embeddings show steady improvement in validation accuracy, but unfrozen embeddings lead to faster overfitting — reaching high accuracy quickly, but possibly generalizing less well. So, freezing gives slower but more stable learning, especially useful for small datasets.\n",
        "\n",
        "2. **Convolutional Text Classifier**  \n",
        "   - What is the intuition behind using convolutional layers for text classification tasks, and why might they outperform traditional fully connected layers?\n",
        "\n",
        "   Answer:Convolutional layers can capture local patterns like n-grams in sentences, helping the model detect features like phrases or sentiment cues. They often outperform fully connected layers because they reduce parameters and focus on relevant word combinations, improving both efficiency and accuracy.\n",
        "\n",
        "\n",
        "### Part 5 – Transfer Learning & Advanced Architectures\n",
        "\n",
        "1. **Pre-trained Embeddings**  \n",
        "   - How do pre-trained word embeddings like GloVe or FastText improve model performance compared to training embeddings from scratch?\n",
        "\n",
        "  Answer:Pre-trained embeddings like GloVet capture word meanings from large datasets, so models learn faster and perform better with less data compared to training embeddings from scratch.\n",
        "\n",
        "2. **Transformer Fine-Tuning**  \n",
        "   - How does the self-attention mechanism in Transformer models like BERT improve performance on text data?\n",
        "\n",
        "\n",
        "   Answer:Transformer models like BERT use self-attention to understand context in text. Fine-tuning them on specific tasks improves accuracy because they already learned language structure from massive corpora.\n",
        "\n",
        "\n",
        "\n",
        "### Part 6 – Hyperparameter Optimization\n",
        "\n",
        "1. **Search Strategy**  \n",
        "   - How does hyperparameter optimization help improve the model’s performance, and what challenges arise when selecting an optimal search space?\n",
        "\n",
        "   Answer:Hyperparameter optimization helps improve model performance by finding better combinations (like learning rate and hidden units) that generalize well. We used Keras Tuner's RandomSearch to explore 10 trials with different unit sizes (32–128) and learning rates (1e-2, 1e-3, 1e-4). The search stopped after 10 trials, balancing exploration and compute time.\n",
        "\n",
        "2. **Results Analysis**  \n",
        "   - What does the validation loss and accuracy tell you about the model’s generalization ability?\n",
        "\n",
        "   Answer:The best configuration found was 96 units and a learning rate of 0.001. The validation accuracy curve showed how model performance varied across trials. The sharp peak in accuracy at trial 6 indicates that some settings lead to significantly better generalization than others.\n",
        "\n",
        "\n",
        "\n",
        "### Part 7 – Final Comparison & Error Analysis\n",
        "\n",
        "1. **Consolidated Results**  \n",
        "   - How do you compare models with different architectures (e.g., logistic regression vs. BERT) to select the best model for deployment?\n",
        "\n",
        "   Answer:To compare models with different architectures, such as logistic regression versus BERT, we rely on standardized evaluation metrics like F1-score, precision, recall, and ROC-AUC on the same test set. These metrics offer insight into performance beyond accuracy, especially in imbalanced datasets. Additionally, considerations such as inference speed, model complexity, and interpretability are factored in. BERT may yield higher accuracy, but logistic regression could be preferable for deployment in low-latency or resource-constrained environments.\n",
        "\n",
        "2. **Error Analysis**  \n",
        "   - What insights can you gain from studying model misclassifications, and how might this influence future improvements to the model?\n",
        "\n",
        "   Answer:Analyzing misclassified examples helps identify systematic failure patterns—such as confusion caused by sarcasm, negations, or domain-specific language. This insight can guide targeted improvements, such as refining preprocessing steps, augmenting training data with challenging examples, or incorporating external knowledge.\n",
        "\n",
        "\n",
        "\n",
        "### Part 8 – Optional Challenge Extensions\n",
        "\n",
        "1. **Data Augmentation**  \n",
        "   - How does back-translation or synonym swapping as text augmentation improve model generalization?\n",
        "\n",
        "   Answer:Techniques like back-translation and synonym swapping introduce linguistic variety into the training set without altering semantic meaning. This helps the model generalize better by reducing overfitting to specific word patterns, improving robustness against paraphrasing and unseen phrasing in real-world data.\n",
        "\n",
        "2. **Sentiment Lexicon**  \n",
        "   - How might integrating sentiment lexicons like VADER improve the sentiment classification model, and what are the challenges of using lexicon-based approaches alongside machine learning models?\n",
        "\n",
        "   Answer:Integrating lexicons like VADER provides sentiment polarity scores based on predefined rules and word intensity. These features can complement data-driven models, especially when labeled data is limited. However, challenges include alignment with domain-specific language and potential redundancy or conflict with learned features, requiring careful integration and feature selection.\n"
      ]
    }
  ],
  "metadata": {
    "language_info": {
      "name": "python"
    },
    "colab": {
      "provenance": [],
      "gpuType": "T4"
    },
    "kernelspec": {
      "name": "python3",
      "display_name": "Python 3"
    },
    "accelerator": "GPU",
    "widgets": {
      "application/vnd.jupyter.widget-state+json": {
        "c8a59ea8161a4e83b08db651c0c5385c": {
          "model_module": "@jupyter-widgets/controls",
          "model_name": "HBoxModel",
          "model_module_version": "1.5.0",
          "state": {
            "_dom_classes": [],
            "_model_module": "@jupyter-widgets/controls",
            "_model_module_version": "1.5.0",
            "_model_name": "HBoxModel",
            "_view_count": null,
            "_view_module": "@jupyter-widgets/controls",
            "_view_module_version": "1.5.0",
            "_view_name": "HBoxView",
            "box_style": "",
            "children": [
              "IPY_MODEL_255f365da3e94fc18313da3398fbe011",
              "IPY_MODEL_bbb13e3c97384ad39151f92eed35bf11",
              "IPY_MODEL_ca8f0ebd764e44fe9057f73a43f4852d"
            ],
            "layout": "IPY_MODEL_b8281dcb905d41c6af1239d910b9921b"
          }
        },
        "255f365da3e94fc18313da3398fbe011": {
          "model_module": "@jupyter-widgets/controls",
          "model_name": "HTMLModel",
          "model_module_version": "1.5.0",
          "state": {
            "_dom_classes": [],
            "_model_module": "@jupyter-widgets/controls",
            "_model_module_version": "1.5.0",
            "_model_name": "HTMLModel",
            "_view_count": null,
            "_view_module": "@jupyter-widgets/controls",
            "_view_module_version": "1.5.0",
            "_view_name": "HTMLView",
            "description": "",
            "description_tooltip": null,
            "layout": "IPY_MODEL_18d559e322444d539cb16655856a9c13",
            "placeholder": "​",
            "style": "IPY_MODEL_1548d2217a4849afaa1f5043b0a36425",
            "value": "Map: 100%"
          }
        },
        "bbb13e3c97384ad39151f92eed35bf11": {
          "model_module": "@jupyter-widgets/controls",
          "model_name": "FloatProgressModel",
          "model_module_version": "1.5.0",
          "state": {
            "_dom_classes": [],
            "_model_module": "@jupyter-widgets/controls",
            "_model_module_version": "1.5.0",
            "_model_name": "FloatProgressModel",
            "_view_count": null,
            "_view_module": "@jupyter-widgets/controls",
            "_view_module_version": "1.5.0",
            "_view_name": "ProgressView",
            "bar_style": "success",
            "description": "",
            "description_tooltip": null,
            "layout": "IPY_MODEL_5bbae0f332f84827a3c0e3ebec86c691",
            "max": 6919,
            "min": 0,
            "orientation": "horizontal",
            "style": "IPY_MODEL_76d11cfd476346c89e92b8505cc996db",
            "value": 6919
          }
        },
        "ca8f0ebd764e44fe9057f73a43f4852d": {
          "model_module": "@jupyter-widgets/controls",
          "model_name": "HTMLModel",
          "model_module_version": "1.5.0",
          "state": {
            "_dom_classes": [],
            "_model_module": "@jupyter-widgets/controls",
            "_model_module_version": "1.5.0",
            "_model_name": "HTMLModel",
            "_view_count": null,
            "_view_module": "@jupyter-widgets/controls",
            "_view_module_version": "1.5.0",
            "_view_name": "HTMLView",
            "description": "",
            "description_tooltip": null,
            "layout": "IPY_MODEL_a3016cec302c4e1097c06056e50821c7",
            "placeholder": "​",
            "style": "IPY_MODEL_e4d983f8364b449499e49a29978ce530",
            "value": " 6919/6919 [00:04&lt;00:00, 1779.58 examples/s]"
          }
        },
        "b8281dcb905d41c6af1239d910b9921b": {
          "model_module": "@jupyter-widgets/base",
          "model_name": "LayoutModel",
          "model_module_version": "1.2.0",
          "state": {
            "_model_module": "@jupyter-widgets/base",
            "_model_module_version": "1.2.0",
            "_model_name": "LayoutModel",
            "_view_count": null,
            "_view_module": "@jupyter-widgets/base",
            "_view_module_version": "1.2.0",
            "_view_name": "LayoutView",
            "align_content": null,
            "align_items": null,
            "align_self": null,
            "border": null,
            "bottom": null,
            "display": null,
            "flex": null,
            "flex_flow": null,
            "grid_area": null,
            "grid_auto_columns": null,
            "grid_auto_flow": null,
            "grid_auto_rows": null,
            "grid_column": null,
            "grid_gap": null,
            "grid_row": null,
            "grid_template_areas": null,
            "grid_template_columns": null,
            "grid_template_rows": null,
            "height": null,
            "justify_content": null,
            "justify_items": null,
            "left": null,
            "margin": null,
            "max_height": null,
            "max_width": null,
            "min_height": null,
            "min_width": null,
            "object_fit": null,
            "object_position": null,
            "order": null,
            "overflow": null,
            "overflow_x": null,
            "overflow_y": null,
            "padding": null,
            "right": null,
            "top": null,
            "visibility": null,
            "width": null
          }
        },
        "18d559e322444d539cb16655856a9c13": {
          "model_module": "@jupyter-widgets/base",
          "model_name": "LayoutModel",
          "model_module_version": "1.2.0",
          "state": {
            "_model_module": "@jupyter-widgets/base",
            "_model_module_version": "1.2.0",
            "_model_name": "LayoutModel",
            "_view_count": null,
            "_view_module": "@jupyter-widgets/base",
            "_view_module_version": "1.2.0",
            "_view_name": "LayoutView",
            "align_content": null,
            "align_items": null,
            "align_self": null,
            "border": null,
            "bottom": null,
            "display": null,
            "flex": null,
            "flex_flow": null,
            "grid_area": null,
            "grid_auto_columns": null,
            "grid_auto_flow": null,
            "grid_auto_rows": null,
            "grid_column": null,
            "grid_gap": null,
            "grid_row": null,
            "grid_template_areas": null,
            "grid_template_columns": null,
            "grid_template_rows": null,
            "height": null,
            "justify_content": null,
            "justify_items": null,
            "left": null,
            "margin": null,
            "max_height": null,
            "max_width": null,
            "min_height": null,
            "min_width": null,
            "object_fit": null,
            "object_position": null,
            "order": null,
            "overflow": null,
            "overflow_x": null,
            "overflow_y": null,
            "padding": null,
            "right": null,
            "top": null,
            "visibility": null,
            "width": null
          }
        },
        "1548d2217a4849afaa1f5043b0a36425": {
          "model_module": "@jupyter-widgets/controls",
          "model_name": "DescriptionStyleModel",
          "model_module_version": "1.5.0",
          "state": {
            "_model_module": "@jupyter-widgets/controls",
            "_model_module_version": "1.5.0",
            "_model_name": "DescriptionStyleModel",
            "_view_count": null,
            "_view_module": "@jupyter-widgets/base",
            "_view_module_version": "1.2.0",
            "_view_name": "StyleView",
            "description_width": ""
          }
        },
        "5bbae0f332f84827a3c0e3ebec86c691": {
          "model_module": "@jupyter-widgets/base",
          "model_name": "LayoutModel",
          "model_module_version": "1.2.0",
          "state": {
            "_model_module": "@jupyter-widgets/base",
            "_model_module_version": "1.2.0",
            "_model_name": "LayoutModel",
            "_view_count": null,
            "_view_module": "@jupyter-widgets/base",
            "_view_module_version": "1.2.0",
            "_view_name": "LayoutView",
            "align_content": null,
            "align_items": null,
            "align_self": null,
            "border": null,
            "bottom": null,
            "display": null,
            "flex": null,
            "flex_flow": null,
            "grid_area": null,
            "grid_auto_columns": null,
            "grid_auto_flow": null,
            "grid_auto_rows": null,
            "grid_column": null,
            "grid_gap": null,
            "grid_row": null,
            "grid_template_areas": null,
            "grid_template_columns": null,
            "grid_template_rows": null,
            "height": null,
            "justify_content": null,
            "justify_items": null,
            "left": null,
            "margin": null,
            "max_height": null,
            "max_width": null,
            "min_height": null,
            "min_width": null,
            "object_fit": null,
            "object_position": null,
            "order": null,
            "overflow": null,
            "overflow_x": null,
            "overflow_y": null,
            "padding": null,
            "right": null,
            "top": null,
            "visibility": null,
            "width": null
          }
        },
        "76d11cfd476346c89e92b8505cc996db": {
          "model_module": "@jupyter-widgets/controls",
          "model_name": "ProgressStyleModel",
          "model_module_version": "1.5.0",
          "state": {
            "_model_module": "@jupyter-widgets/controls",
            "_model_module_version": "1.5.0",
            "_model_name": "ProgressStyleModel",
            "_view_count": null,
            "_view_module": "@jupyter-widgets/base",
            "_view_module_version": "1.2.0",
            "_view_name": "StyleView",
            "bar_color": null,
            "description_width": ""
          }
        },
        "a3016cec302c4e1097c06056e50821c7": {
          "model_module": "@jupyter-widgets/base",
          "model_name": "LayoutModel",
          "model_module_version": "1.2.0",
          "state": {
            "_model_module": "@jupyter-widgets/base",
            "_model_module_version": "1.2.0",
            "_model_name": "LayoutModel",
            "_view_count": null,
            "_view_module": "@jupyter-widgets/base",
            "_view_module_version": "1.2.0",
            "_view_name": "LayoutView",
            "align_content": null,
            "align_items": null,
            "align_self": null,
            "border": null,
            "bottom": null,
            "display": null,
            "flex": null,
            "flex_flow": null,
            "grid_area": null,
            "grid_auto_columns": null,
            "grid_auto_flow": null,
            "grid_auto_rows": null,
            "grid_column": null,
            "grid_gap": null,
            "grid_row": null,
            "grid_template_areas": null,
            "grid_template_columns": null,
            "grid_template_rows": null,
            "height": null,
            "justify_content": null,
            "justify_items": null,
            "left": null,
            "margin": null,
            "max_height": null,
            "max_width": null,
            "min_height": null,
            "min_width": null,
            "object_fit": null,
            "object_position": null,
            "order": null,
            "overflow": null,
            "overflow_x": null,
            "overflow_y": null,
            "padding": null,
            "right": null,
            "top": null,
            "visibility": null,
            "width": null
          }
        },
        "e4d983f8364b449499e49a29978ce530": {
          "model_module": "@jupyter-widgets/controls",
          "model_name": "DescriptionStyleModel",
          "model_module_version": "1.5.0",
          "state": {
            "_model_module": "@jupyter-widgets/controls",
            "_model_module_version": "1.5.0",
            "_model_name": "DescriptionStyleModel",
            "_view_count": null,
            "_view_module": "@jupyter-widgets/base",
            "_view_module_version": "1.2.0",
            "_view_name": "StyleView",
            "description_width": ""
          }
        },
        "20106079763942ba9fb054efdc6d6eb6": {
          "model_module": "@jupyter-widgets/controls",
          "model_name": "HBoxModel",
          "model_module_version": "1.5.0",
          "state": {
            "_dom_classes": [],
            "_model_module": "@jupyter-widgets/controls",
            "_model_module_version": "1.5.0",
            "_model_name": "HBoxModel",
            "_view_count": null,
            "_view_module": "@jupyter-widgets/controls",
            "_view_module_version": "1.5.0",
            "_view_name": "HBoxView",
            "box_style": "",
            "children": [
              "IPY_MODEL_95843709840e43d99fc128652ed957d9",
              "IPY_MODEL_2f54b7bb6a7d4670b07e5f1980acec60",
              "IPY_MODEL_774db850aa284ed8b946e87e5a5748b1"
            ],
            "layout": "IPY_MODEL_5b34e0676a454614be384c967a67f48d"
          }
        },
        "95843709840e43d99fc128652ed957d9": {
          "model_module": "@jupyter-widgets/controls",
          "model_name": "HTMLModel",
          "model_module_version": "1.5.0",
          "state": {
            "_dom_classes": [],
            "_model_module": "@jupyter-widgets/controls",
            "_model_module_version": "1.5.0",
            "_model_name": "HTMLModel",
            "_view_count": null,
            "_view_module": "@jupyter-widgets/controls",
            "_view_module_version": "1.5.0",
            "_view_name": "HTMLView",
            "description": "",
            "description_tooltip": null,
            "layout": "IPY_MODEL_a1bbca7be7414eff86f6ba19abb943a1",
            "placeholder": "​",
            "style": "IPY_MODEL_7bad147395ac45e2b86bd77db81f9ee0",
            "value": "Map: 100%"
          }
        },
        "2f54b7bb6a7d4670b07e5f1980acec60": {
          "model_module": "@jupyter-widgets/controls",
          "model_name": "FloatProgressModel",
          "model_module_version": "1.5.0",
          "state": {
            "_dom_classes": [],
            "_model_module": "@jupyter-widgets/controls",
            "_model_module_version": "1.5.0",
            "_model_name": "FloatProgressModel",
            "_view_count": null,
            "_view_module": "@jupyter-widgets/controls",
            "_view_module_version": "1.5.0",
            "_view_name": "ProgressView",
            "bar_style": "success",
            "description": "",
            "description_tooltip": null,
            "layout": "IPY_MODEL_ce69543829584275a41e1bb955fb4f8b",
            "max": 871,
            "min": 0,
            "orientation": "horizontal",
            "style": "IPY_MODEL_08278c8a617b431189d17920b82f6966",
            "value": 871
          }
        },
        "774db850aa284ed8b946e87e5a5748b1": {
          "model_module": "@jupyter-widgets/controls",
          "model_name": "HTMLModel",
          "model_module_version": "1.5.0",
          "state": {
            "_dom_classes": [],
            "_model_module": "@jupyter-widgets/controls",
            "_model_module_version": "1.5.0",
            "_model_name": "HTMLModel",
            "_view_count": null,
            "_view_module": "@jupyter-widgets/controls",
            "_view_module_version": "1.5.0",
            "_view_name": "HTMLView",
            "description": "",
            "description_tooltip": null,
            "layout": "IPY_MODEL_58d331384d7a4732813776e1e4e6a79c",
            "placeholder": "​",
            "style": "IPY_MODEL_9e7432fd58c942ffb51ca3c872b8275a",
            "value": " 871/871 [00:00&lt;00:00, 2019.32 examples/s]"
          }
        },
        "5b34e0676a454614be384c967a67f48d": {
          "model_module": "@jupyter-widgets/base",
          "model_name": "LayoutModel",
          "model_module_version": "1.2.0",
          "state": {
            "_model_module": "@jupyter-widgets/base",
            "_model_module_version": "1.2.0",
            "_model_name": "LayoutModel",
            "_view_count": null,
            "_view_module": "@jupyter-widgets/base",
            "_view_module_version": "1.2.0",
            "_view_name": "LayoutView",
            "align_content": null,
            "align_items": null,
            "align_self": null,
            "border": null,
            "bottom": null,
            "display": null,
            "flex": null,
            "flex_flow": null,
            "grid_area": null,
            "grid_auto_columns": null,
            "grid_auto_flow": null,
            "grid_auto_rows": null,
            "grid_column": null,
            "grid_gap": null,
            "grid_row": null,
            "grid_template_areas": null,
            "grid_template_columns": null,
            "grid_template_rows": null,
            "height": null,
            "justify_content": null,
            "justify_items": null,
            "left": null,
            "margin": null,
            "max_height": null,
            "max_width": null,
            "min_height": null,
            "min_width": null,
            "object_fit": null,
            "object_position": null,
            "order": null,
            "overflow": null,
            "overflow_x": null,
            "overflow_y": null,
            "padding": null,
            "right": null,
            "top": null,
            "visibility": null,
            "width": null
          }
        },
        "a1bbca7be7414eff86f6ba19abb943a1": {
          "model_module": "@jupyter-widgets/base",
          "model_name": "LayoutModel",
          "model_module_version": "1.2.0",
          "state": {
            "_model_module": "@jupyter-widgets/base",
            "_model_module_version": "1.2.0",
            "_model_name": "LayoutModel",
            "_view_count": null,
            "_view_module": "@jupyter-widgets/base",
            "_view_module_version": "1.2.0",
            "_view_name": "LayoutView",
            "align_content": null,
            "align_items": null,
            "align_self": null,
            "border": null,
            "bottom": null,
            "display": null,
            "flex": null,
            "flex_flow": null,
            "grid_area": null,
            "grid_auto_columns": null,
            "grid_auto_flow": null,
            "grid_auto_rows": null,
            "grid_column": null,
            "grid_gap": null,
            "grid_row": null,
            "grid_template_areas": null,
            "grid_template_columns": null,
            "grid_template_rows": null,
            "height": null,
            "justify_content": null,
            "justify_items": null,
            "left": null,
            "margin": null,
            "max_height": null,
            "max_width": null,
            "min_height": null,
            "min_width": null,
            "object_fit": null,
            "object_position": null,
            "order": null,
            "overflow": null,
            "overflow_x": null,
            "overflow_y": null,
            "padding": null,
            "right": null,
            "top": null,
            "visibility": null,
            "width": null
          }
        },
        "7bad147395ac45e2b86bd77db81f9ee0": {
          "model_module": "@jupyter-widgets/controls",
          "model_name": "DescriptionStyleModel",
          "model_module_version": "1.5.0",
          "state": {
            "_model_module": "@jupyter-widgets/controls",
            "_model_module_version": "1.5.0",
            "_model_name": "DescriptionStyleModel",
            "_view_count": null,
            "_view_module": "@jupyter-widgets/base",
            "_view_module_version": "1.2.0",
            "_view_name": "StyleView",
            "description_width": ""
          }
        },
        "ce69543829584275a41e1bb955fb4f8b": {
          "model_module": "@jupyter-widgets/base",
          "model_name": "LayoutModel",
          "model_module_version": "1.2.0",
          "state": {
            "_model_module": "@jupyter-widgets/base",
            "_model_module_version": "1.2.0",
            "_model_name": "LayoutModel",
            "_view_count": null,
            "_view_module": "@jupyter-widgets/base",
            "_view_module_version": "1.2.0",
            "_view_name": "LayoutView",
            "align_content": null,
            "align_items": null,
            "align_self": null,
            "border": null,
            "bottom": null,
            "display": null,
            "flex": null,
            "flex_flow": null,
            "grid_area": null,
            "grid_auto_columns": null,
            "grid_auto_flow": null,
            "grid_auto_rows": null,
            "grid_column": null,
            "grid_gap": null,
            "grid_row": null,
            "grid_template_areas": null,
            "grid_template_columns": null,
            "grid_template_rows": null,
            "height": null,
            "justify_content": null,
            "justify_items": null,
            "left": null,
            "margin": null,
            "max_height": null,
            "max_width": null,
            "min_height": null,
            "min_width": null,
            "object_fit": null,
            "object_position": null,
            "order": null,
            "overflow": null,
            "overflow_x": null,
            "overflow_y": null,
            "padding": null,
            "right": null,
            "top": null,
            "visibility": null,
            "width": null
          }
        },
        "08278c8a617b431189d17920b82f6966": {
          "model_module": "@jupyter-widgets/controls",
          "model_name": "ProgressStyleModel",
          "model_module_version": "1.5.0",
          "state": {
            "_model_module": "@jupyter-widgets/controls",
            "_model_module_version": "1.5.0",
            "_model_name": "ProgressStyleModel",
            "_view_count": null,
            "_view_module": "@jupyter-widgets/base",
            "_view_module_version": "1.2.0",
            "_view_name": "StyleView",
            "bar_color": null,
            "description_width": ""
          }
        },
        "58d331384d7a4732813776e1e4e6a79c": {
          "model_module": "@jupyter-widgets/base",
          "model_name": "LayoutModel",
          "model_module_version": "1.2.0",
          "state": {
            "_model_module": "@jupyter-widgets/base",
            "_model_module_version": "1.2.0",
            "_model_name": "LayoutModel",
            "_view_count": null,
            "_view_module": "@jupyter-widgets/base",
            "_view_module_version": "1.2.0",
            "_view_name": "LayoutView",
            "align_content": null,
            "align_items": null,
            "align_self": null,
            "border": null,
            "bottom": null,
            "display": null,
            "flex": null,
            "flex_flow": null,
            "grid_area": null,
            "grid_auto_columns": null,
            "grid_auto_flow": null,
            "grid_auto_rows": null,
            "grid_column": null,
            "grid_gap": null,
            "grid_row": null,
            "grid_template_areas": null,
            "grid_template_columns": null,
            "grid_template_rows": null,
            "height": null,
            "justify_content": null,
            "justify_items": null,
            "left": null,
            "margin": null,
            "max_height": null,
            "max_width": null,
            "min_height": null,
            "min_width": null,
            "object_fit": null,
            "object_position": null,
            "order": null,
            "overflow": null,
            "overflow_x": null,
            "overflow_y": null,
            "padding": null,
            "right": null,
            "top": null,
            "visibility": null,
            "width": null
          }
        },
        "9e7432fd58c942ffb51ca3c872b8275a": {
          "model_module": "@jupyter-widgets/controls",
          "model_name": "DescriptionStyleModel",
          "model_module_version": "1.5.0",
          "state": {
            "_model_module": "@jupyter-widgets/controls",
            "_model_module_version": "1.5.0",
            "_model_name": "DescriptionStyleModel",
            "_view_count": null,
            "_view_module": "@jupyter-widgets/base",
            "_view_module_version": "1.2.0",
            "_view_name": "StyleView",
            "description_width": ""
          }
        },
        "7f7fe173a285482ab09a6ea2ac695250": {
          "model_module": "@jupyter-widgets/controls",
          "model_name": "HBoxModel",
          "model_module_version": "1.5.0",
          "state": {
            "_dom_classes": [],
            "_model_module": "@jupyter-widgets/controls",
            "_model_module_version": "1.5.0",
            "_model_name": "HBoxModel",
            "_view_count": null,
            "_view_module": "@jupyter-widgets/controls",
            "_view_module_version": "1.5.0",
            "_view_name": "HBoxView",
            "box_style": "",
            "children": [
              "IPY_MODEL_3704c47b413b490d947a6f23692de895",
              "IPY_MODEL_7105daeaf19a44d2881b4e7f6d4c24b4",
              "IPY_MODEL_d2b3b2ba1cea4f6cacd3d2ade76b7d1c"
            ],
            "layout": "IPY_MODEL_e065d7f2917648399a9ddea934a76681"
          }
        },
        "3704c47b413b490d947a6f23692de895": {
          "model_module": "@jupyter-widgets/controls",
          "model_name": "HTMLModel",
          "model_module_version": "1.5.0",
          "state": {
            "_dom_classes": [],
            "_model_module": "@jupyter-widgets/controls",
            "_model_module_version": "1.5.0",
            "_model_name": "HTMLModel",
            "_view_count": null,
            "_view_module": "@jupyter-widgets/controls",
            "_view_module_version": "1.5.0",
            "_view_name": "HTMLView",
            "description": "",
            "description_tooltip": null,
            "layout": "IPY_MODEL_d76a3629e32c47a2b8f3c3cb3aebde7a",
            "placeholder": "​",
            "style": "IPY_MODEL_99c948b4219e4cf9b12f03673463a7ad",
            "value": "Map: 100%"
          }
        },
        "7105daeaf19a44d2881b4e7f6d4c24b4": {
          "model_module": "@jupyter-widgets/controls",
          "model_name": "FloatProgressModel",
          "model_module_version": "1.5.0",
          "state": {
            "_dom_classes": [],
            "_model_module": "@jupyter-widgets/controls",
            "_model_module_version": "1.5.0",
            "_model_name": "FloatProgressModel",
            "_view_count": null,
            "_view_module": "@jupyter-widgets/controls",
            "_view_module_version": "1.5.0",
            "_view_name": "ProgressView",
            "bar_style": "success",
            "description": "",
            "description_tooltip": null,
            "layout": "IPY_MODEL_cb718dc237ea4bb88e030e1fa83298d5",
            "max": 872,
            "min": 0,
            "orientation": "horizontal",
            "style": "IPY_MODEL_da916f3388e942e7a4ad8a2c33af3878",
            "value": 872
          }
        },
        "d2b3b2ba1cea4f6cacd3d2ade76b7d1c": {
          "model_module": "@jupyter-widgets/controls",
          "model_name": "HTMLModel",
          "model_module_version": "1.5.0",
          "state": {
            "_dom_classes": [],
            "_model_module": "@jupyter-widgets/controls",
            "_model_module_version": "1.5.0",
            "_model_name": "HTMLModel",
            "_view_count": null,
            "_view_module": "@jupyter-widgets/controls",
            "_view_module_version": "1.5.0",
            "_view_name": "HTMLView",
            "description": "",
            "description_tooltip": null,
            "layout": "IPY_MODEL_b4315006680a43ac99e376af8d4d6576",
            "placeholder": "​",
            "style": "IPY_MODEL_5ea56afe352243beb083189b35fe1aee",
            "value": " 872/872 [00:00&lt;00:00, 2106.96 examples/s]"
          }
        },
        "e065d7f2917648399a9ddea934a76681": {
          "model_module": "@jupyter-widgets/base",
          "model_name": "LayoutModel",
          "model_module_version": "1.2.0",
          "state": {
            "_model_module": "@jupyter-widgets/base",
            "_model_module_version": "1.2.0",
            "_model_name": "LayoutModel",
            "_view_count": null,
            "_view_module": "@jupyter-widgets/base",
            "_view_module_version": "1.2.0",
            "_view_name": "LayoutView",
            "align_content": null,
            "align_items": null,
            "align_self": null,
            "border": null,
            "bottom": null,
            "display": null,
            "flex": null,
            "flex_flow": null,
            "grid_area": null,
            "grid_auto_columns": null,
            "grid_auto_flow": null,
            "grid_auto_rows": null,
            "grid_column": null,
            "grid_gap": null,
            "grid_row": null,
            "grid_template_areas": null,
            "grid_template_columns": null,
            "grid_template_rows": null,
            "height": null,
            "justify_content": null,
            "justify_items": null,
            "left": null,
            "margin": null,
            "max_height": null,
            "max_width": null,
            "min_height": null,
            "min_width": null,
            "object_fit": null,
            "object_position": null,
            "order": null,
            "overflow": null,
            "overflow_x": null,
            "overflow_y": null,
            "padding": null,
            "right": null,
            "top": null,
            "visibility": null,
            "width": null
          }
        },
        "d76a3629e32c47a2b8f3c3cb3aebde7a": {
          "model_module": "@jupyter-widgets/base",
          "model_name": "LayoutModel",
          "model_module_version": "1.2.0",
          "state": {
            "_model_module": "@jupyter-widgets/base",
            "_model_module_version": "1.2.0",
            "_model_name": "LayoutModel",
            "_view_count": null,
            "_view_module": "@jupyter-widgets/base",
            "_view_module_version": "1.2.0",
            "_view_name": "LayoutView",
            "align_content": null,
            "align_items": null,
            "align_self": null,
            "border": null,
            "bottom": null,
            "display": null,
            "flex": null,
            "flex_flow": null,
            "grid_area": null,
            "grid_auto_columns": null,
            "grid_auto_flow": null,
            "grid_auto_rows": null,
            "grid_column": null,
            "grid_gap": null,
            "grid_row": null,
            "grid_template_areas": null,
            "grid_template_columns": null,
            "grid_template_rows": null,
            "height": null,
            "justify_content": null,
            "justify_items": null,
            "left": null,
            "margin": null,
            "max_height": null,
            "max_width": null,
            "min_height": null,
            "min_width": null,
            "object_fit": null,
            "object_position": null,
            "order": null,
            "overflow": null,
            "overflow_x": null,
            "overflow_y": null,
            "padding": null,
            "right": null,
            "top": null,
            "visibility": null,
            "width": null
          }
        },
        "99c948b4219e4cf9b12f03673463a7ad": {
          "model_module": "@jupyter-widgets/controls",
          "model_name": "DescriptionStyleModel",
          "model_module_version": "1.5.0",
          "state": {
            "_model_module": "@jupyter-widgets/controls",
            "_model_module_version": "1.5.0",
            "_model_name": "DescriptionStyleModel",
            "_view_count": null,
            "_view_module": "@jupyter-widgets/base",
            "_view_module_version": "1.2.0",
            "_view_name": "StyleView",
            "description_width": ""
          }
        },
        "cb718dc237ea4bb88e030e1fa83298d5": {
          "model_module": "@jupyter-widgets/base",
          "model_name": "LayoutModel",
          "model_module_version": "1.2.0",
          "state": {
            "_model_module": "@jupyter-widgets/base",
            "_model_module_version": "1.2.0",
            "_model_name": "LayoutModel",
            "_view_count": null,
            "_view_module": "@jupyter-widgets/base",
            "_view_module_version": "1.2.0",
            "_view_name": "LayoutView",
            "align_content": null,
            "align_items": null,
            "align_self": null,
            "border": null,
            "bottom": null,
            "display": null,
            "flex": null,
            "flex_flow": null,
            "grid_area": null,
            "grid_auto_columns": null,
            "grid_auto_flow": null,
            "grid_auto_rows": null,
            "grid_column": null,
            "grid_gap": null,
            "grid_row": null,
            "grid_template_areas": null,
            "grid_template_columns": null,
            "grid_template_rows": null,
            "height": null,
            "justify_content": null,
            "justify_items": null,
            "left": null,
            "margin": null,
            "max_height": null,
            "max_width": null,
            "min_height": null,
            "min_width": null,
            "object_fit": null,
            "object_position": null,
            "order": null,
            "overflow": null,
            "overflow_x": null,
            "overflow_y": null,
            "padding": null,
            "right": null,
            "top": null,
            "visibility": null,
            "width": null
          }
        },
        "da916f3388e942e7a4ad8a2c33af3878": {
          "model_module": "@jupyter-widgets/controls",
          "model_name": "ProgressStyleModel",
          "model_module_version": "1.5.0",
          "state": {
            "_model_module": "@jupyter-widgets/controls",
            "_model_module_version": "1.5.0",
            "_model_name": "ProgressStyleModel",
            "_view_count": null,
            "_view_module": "@jupyter-widgets/base",
            "_view_module_version": "1.2.0",
            "_view_name": "StyleView",
            "bar_color": null,
            "description_width": ""
          }
        },
        "b4315006680a43ac99e376af8d4d6576": {
          "model_module": "@jupyter-widgets/base",
          "model_name": "LayoutModel",
          "model_module_version": "1.2.0",
          "state": {
            "_model_module": "@jupyter-widgets/base",
            "_model_module_version": "1.2.0",
            "_model_name": "LayoutModel",
            "_view_count": null,
            "_view_module": "@jupyter-widgets/base",
            "_view_module_version": "1.2.0",
            "_view_name": "LayoutView",
            "align_content": null,
            "align_items": null,
            "align_self": null,
            "border": null,
            "bottom": null,
            "display": null,
            "flex": null,
            "flex_flow": null,
            "grid_area": null,
            "grid_auto_columns": null,
            "grid_auto_flow": null,
            "grid_auto_rows": null,
            "grid_column": null,
            "grid_gap": null,
            "grid_row": null,
            "grid_template_areas": null,
            "grid_template_columns": null,
            "grid_template_rows": null,
            "height": null,
            "justify_content": null,
            "justify_items": null,
            "left": null,
            "margin": null,
            "max_height": null,
            "max_width": null,
            "min_height": null,
            "min_width": null,
            "object_fit": null,
            "object_position": null,
            "order": null,
            "overflow": null,
            "overflow_x": null,
            "overflow_y": null,
            "padding": null,
            "right": null,
            "top": null,
            "visibility": null,
            "width": null
          }
        },
        "5ea56afe352243beb083189b35fe1aee": {
          "model_module": "@jupyter-widgets/controls",
          "model_name": "DescriptionStyleModel",
          "model_module_version": "1.5.0",
          "state": {
            "_model_module": "@jupyter-widgets/controls",
            "_model_module_version": "1.5.0",
            "_model_name": "DescriptionStyleModel",
            "_view_count": null,
            "_view_module": "@jupyter-widgets/base",
            "_view_module_version": "1.2.0",
            "_view_name": "StyleView",
            "description_width": ""
          }
        }
      }
    }
  },
  "nbformat": 4,
  "nbformat_minor": 5
}